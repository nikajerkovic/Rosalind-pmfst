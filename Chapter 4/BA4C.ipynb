{
  "nbformat": 4,
  "nbformat_minor": 0,
  "metadata": {
    "colab": {
      "name": "BA4C.ipynb",
      "provenance": [],
      "collapsed_sections": []
    },
    "kernelspec": {
      "name": "python3",
      "display_name": "Python 3"
    },
    "language_info": {
      "name": "python"
    }
  },
  "cells": [
    {
      "cell_type": "markdown",
      "source": [
        "## BA4C"
      ],
      "metadata": {
        "id": "RPGWnvECvq3y"
      }
    },
    {
      "cell_type": "markdown",
      "metadata": {
        "id": "6iJkC7R_6rik"
      },
      "source": [
        "**Generating Theoretical Spectrum Problem**\n",
        "\n",
        "Generate the theoretical spectrum of a cyclic peptide.\n",
        "\n",
        "Given: An amino acid string Peptide.\n",
        "\n",
        "Return: Cyclospectrum(Peptide).\n",
        "\n",
        "Link: https://rosalind.info/problems/ba4c/"
      ]
    },
    {
      "cell_type": "code",
      "execution_count": 1,
      "metadata": {
        "id": "UxY8nR9X61jH"
      },
      "outputs": [],
      "source": [
        "def get_mass():\n",
        "    mass = {\n",
        "        \"G\": 57,\n",
        "        \"A\": 71,\n",
        "        \"S\": 87,\n",
        "        \"P\": 97,\n",
        "        \"V\": 99,\n",
        "        \"T\": 101,\n",
        "        \"C\": 103,\n",
        "        \"I\": 113,\n",
        "        \"L\": 113,\n",
        "        \"N\": 114,\n",
        "        \"D\": 115,\n",
        "        \"K\": 128,\n",
        "        \"Q\": 128,\n",
        "        \"E\": 129,\n",
        "        \"M\": 131,\n",
        "        \"H\": 137,\n",
        "        \"F\": 147,\n",
        "        \"R\": 156,\n",
        "        \"Y\": 163,\n",
        "        \"W\": 186,\n",
        "    }\n",
        "\n",
        "    return mass"
      ]
    },
    {
      "cell_type": "code",
      "execution_count": 2,
      "metadata": {
        "id": "jl_3KHNhnbQ5"
      },
      "outputs": [],
      "source": [
        "def Cyclospectrum(peptide):\n",
        "\n",
        "    n = len(peptide)\n",
        "    mass = get_mass()\n",
        "    cyclospectrum = []\n",
        "    suma = 0\n",
        "\n",
        "    cycle = peptide + peptide[:-1]\n",
        "\n",
        "    # na pocetku mora bit nula\n",
        "    cyclospectrum.append(0)\n",
        "\n",
        "    # masa cijelog peptida\n",
        "    for element in peptide:\n",
        "      suma += mass[element]\n",
        "    \n",
        "    cyclospectrum.append(suma)\n",
        "\n",
        "    for i in range(n):\n",
        "      for j in range(1, n):\n",
        "        subpeptide = cycle[i : i + j]\n",
        "        cyclospectrum.append(sum([mass[x] for x in subpeptide]))\n",
        "\n",
        "    return sorted( cyclospectrum)"
      ]
    },
    {
      "cell_type": "code",
      "execution_count": 3,
      "metadata": {
        "colab": {
          "base_uri": "https://localhost:8080/",
          "height": 36
        },
        "id": "LleLerudnhgy",
        "outputId": "ce4987d3-0aa3-42ed-bba8-5e4cc5cb2b3e"
      },
      "outputs": [
        {
          "output_type": "execute_result",
          "data": {
            "text/plain": [
              "'0 113 114 128 129 227 242 242 257 355 356 370 371 484'"
            ],
            "application/vnd.google.colaboratory.intrinsic+json": {
              "type": "string"
            }
          },
          "metadata": {},
          "execution_count": 3
        }
      ],
      "source": [
        "# sample dataset\n",
        "\" \".join([str(x) for x in Cyclospectrum('LEQN')])"
      ]
    },
    {
      "cell_type": "code",
      "execution_count": 4,
      "metadata": {
        "colab": {
          "base_uri": "https://localhost:8080/",
          "height": 122
        },
        "id": "rY9BY9cJqyaN",
        "outputId": "f354844f-5c5e-4398-faf8-21fe757d650c"
      },
      "outputs": [
        {
          "output_type": "execute_result",
          "data": {
            "text/plain": [
              "'0 57 99 101 103 113 113 114 114 115 115 137 147 156 171 186 186 204 214 226 227 228 229 240 248 251 259 284 285 287 301 305 318 327 340 341 342 354 366 396 397 400 400 415 419 431 434 440 443 445 455 469 491 510 512 513 514 515 532 544 546 552 554 582 590 605 611 625 626 628 629 645 647 651 655 659 683 693 696 718 740 741 742 750 754 758 760 761 766 797 797 811 811 830 831 855 855 859 864 869 874 879 887 910 912 912 944 944 946 969 977 982 987 992 997 1001 1001 1025 1026 1045 1045 1059 1059 1090 1095 1096 1098 1102 1106 1114 1115 1116 1138 1160 1163 1173 1197 1201 1205 1209 1211 1227 1228 1230 1231 1245 1251 1266 1274 1302 1304 1310 1312 1324 1341 1342 1343 1344 1346 1365 1387 1401 1411 1413 1416 1422 1425 1437 1441 1456 1456 1459 1460 1490 1502 1514 1515 1516 1529 1538 1551 1555 1569 1571 1572 1597 1605 1608 1616 1627 1628 1629 1630 1642 1652 1670 1670 1685 1700 1709 1719 1741 1741 1742 1742 1743 1743 1753 1755 1757 1799 1856'"
            ],
            "application/vnd.google.colaboratory.intrinsic+json": {
              "type": "string"
            }
          },
          "metadata": {},
          "execution_count": 4
        }
      ],
      "source": [
        "# dataset\n",
        "\" \".join([str(x) for x in Cyclospectrum('LNGFTWRCHNDWVDI')])"
      ]
    }
  ]
}