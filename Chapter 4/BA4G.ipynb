{
  "nbformat": 4,
  "nbformat_minor": 0,
  "metadata": {
    "colab": {
      "name": "BA4G.ipynb",
      "provenance": [],
      "collapsed_sections": []
    },
    "kernelspec": {
      "name": "python3",
      "display_name": "Python 3"
    },
    "language_info": {
      "name": "python"
    }
  },
  "cells": [
    {
      "cell_type": "markdown",
      "source": [
        "## BA4G"
      ],
      "metadata": {
        "id": "RPGWnvECvq3y"
      }
    },
    {
      "cell_type": "markdown",
      "source": [
        "**Implement LeaderboardCyclopeptideSequencing**\n",
        "\n",
        "Given: An integer N and a collection of integers Spectrum.\n",
        "\n",
        "Return: LeaderPeptide after running LeaderboardCyclopeptideSequencing(Spectrum, N)."
      ],
      "metadata": {
        "id": "DxTDwhpeh6iY"
      }
    },
    {
      "cell_type": "markdown",
      "source": [
        "Link: https://rosalind.info/problems/ba4g/"
      ],
      "metadata": {
        "id": "18NSDeqXXW6I"
      }
    },
    {
      "cell_type": "code",
      "execution_count": 1,
      "metadata": {
        "id": "UxY8nR9X61jH"
      },
      "outputs": [],
      "source": [
        "def get_mass():\n",
        "    mass = {\n",
        "        \"G\": 57,\n",
        "        \"A\": 71,\n",
        "        \"S\": 87,\n",
        "        \"P\": 97,\n",
        "        \"V\": 99,\n",
        "        \"T\": 101,\n",
        "        \"C\": 103,\n",
        "        \"I\": 113,\n",
        "        \"L\": 113,\n",
        "        \"N\": 114,\n",
        "        \"D\": 115,\n",
        "        \"K\": 128,\n",
        "        \"Q\": 128,\n",
        "        \"E\": 129,\n",
        "        \"M\": 131,\n",
        "        \"H\": 137,\n",
        "        \"F\": 147,\n",
        "        \"R\": 156,\n",
        "        \"Y\": 163,\n",
        "        \"W\": 186,\n",
        "    }\n",
        "\n",
        "    return mass"
      ]
    },
    {
      "cell_type": "markdown",
      "source": [
        "Funkcije iz prethodnog zadatka koja se koristi"
      ],
      "metadata": {
        "id": "awjrgcSpaYxJ"
      }
    },
    {
      "cell_type": "code",
      "source": [
        "import numpy as np"
      ],
      "metadata": {
        "id": "qiJHw_yV6C5U"
      },
      "execution_count": 2,
      "outputs": []
    },
    {
      "cell_type": "code",
      "source": [
        "# small changes - razlika je jer ovdje primamo brojeve a tamo smo primali stringove\n",
        "def cyclospectrum(peptide):\n",
        "\n",
        "    n = len(peptide)\n",
        "    mass = get_mass()\n",
        "    cyclospectrum = []\n",
        "\n",
        "    cycle = peptide + peptide[:-1]\n",
        "    \n",
        "    cyclospectrum.append(0)\n",
        "    \n",
        "    # razlicito u odnosu na BA4C\n",
        "    cyclospectrum.append(sum(peptide))\n",
        "\n",
        "    for i in range(n):\n",
        "      for j in range(1, n):\n",
        "        subpeptide = cycle[i : i + j]\n",
        "        # razlicito u odnosu na BA4C\n",
        "        cyclospectrum.append(sum(subpeptide))\n",
        "\n",
        "    return sorted( cyclospectrum)"
      ],
      "metadata": {
        "id": "sutWwpTb8d-B"
      },
      "execution_count": 3,
      "outputs": []
    },
    {
      "cell_type": "code",
      "source": [
        "def CyclicPeptideScoring(peptide,experimental_spectrum):\n",
        "\n",
        "  theoretical_spectrum = cyclospectrum(peptide)\n",
        "  score = 0\n",
        "  ex = experimental_spectrum.copy()\n",
        "\n",
        "  for item in theoretical_spectrum:\n",
        "    if item in ex:\n",
        "      score += 1\n",
        "      ex.remove(item)\n",
        "\n",
        "  return score"
      ],
      "metadata": {
        "id": "gocBO8fmgFga"
      },
      "execution_count": 4,
      "outputs": []
    },
    {
      "cell_type": "code",
      "source": [
        "def LinearSpectrum(peptide):\n",
        "\n",
        "  prefix_mass  = [0]\n",
        "  linear_spectrum = [0]\n",
        " \n",
        "  for i in range(len(peptide)):\n",
        "    # promjena u odnosu na BA4J jer su tamo peptidi bili predstavljeni slovima \n",
        "    current = prefix_mass[i] +  peptide[i]\n",
        "    prefix_mass.append(current)\n",
        "\n",
        "  for i in range(len(peptide)):\n",
        "    for j in range(i + 1, len(peptide) + 1):\n",
        "      linear_spectrum.append(prefix_mass[j] - prefix_mass[i])\n",
        "  \n",
        "  return sorted(linear_spectrum) "
      ],
      "metadata": {
        "id": "SLEuIYynEbvr"
      },
      "execution_count": 5,
      "outputs": []
    },
    {
      "cell_type": "code",
      "source": [
        "def LinearScoring(peptide, experimental_spectrum):\n",
        "\n",
        "  theoretical_spectrum = LinearSpectrum(peptide)\n",
        "\n",
        "  score = 0\n",
        "\n",
        "  for item in experimental_spectrum:\n",
        "    if item in theoretical_spectrum:\n",
        "      score += 1\n",
        "      theoretical_spectrum.remove(item)\n",
        "\n",
        "  return score"
      ],
      "metadata": {
        "id": "_KN38CLuXaCB"
      },
      "execution_count": 6,
      "outputs": []
    },
    {
      "cell_type": "code",
      "source": [
        "def Trim(leaderboard, linear_spectrum, N):\n",
        "\n",
        "  linear_scores = {}\n",
        "  leaderboard_new = []\n",
        "\n",
        "  for i,peptide in enumerate(leaderboard):\n",
        "    linear_scores[i] = LinearScoring(peptide,linear_spectrum)\n",
        " \n",
        "  linear_scores_list = sorted(linear_scores.values(), reverse = True)\n",
        "  \n",
        "  if len(leaderboard) <= N:\n",
        "   return leaderboard\n",
        "\n",
        "  for index, score in linear_scores.items():\n",
        "     if score >= linear_scores_list[N-1]:\n",
        "       leaderboard_new.append(leaderboard[index])\n",
        "\n",
        "\n",
        "  return leaderboard_new"
      ],
      "metadata": {
        "id": "hmdVQplpGSPV"
      },
      "execution_count": 7,
      "outputs": []
    },
    {
      "cell_type": "code",
      "source": [
        "def Output_format(peptide):\n",
        "  p = ''\n",
        "  output = []\n",
        "  for pep in peptide:\n",
        "    p += str(pep) + '-'\n",
        "  # :-1 da se makne - sa kraja, inace bi bilo 113-128-186-\n",
        "  print(p[:-1])"
      ],
      "metadata": {
        "id": "TJ24JMVuHhU6"
      },
      "execution_count": 8,
      "outputs": []
    },
    {
      "cell_type": "markdown",
      "source": [
        "Novo"
      ],
      "metadata": {
        "id": "GNh9JhONlRGK"
      }
    },
    {
      "cell_type": "code",
      "source": [
        "def Is_Consistent(peptide, spectrum):\n",
        "\n",
        "  for mass in LinearSpectrum(peptide):\n",
        "    if not mass in spectrum:\n",
        "      return False\n",
        "      \n",
        "  return True"
      ],
      "metadata": {
        "id": "dVFZUr1Gc7HX"
      },
      "execution_count": 9,
      "outputs": []
    },
    {
      "cell_type": "code",
      "source": [
        "# doodan samo is consistent u odnosu na BA4E\n",
        "def Expand(peptides,spectrum):\n",
        "  \n",
        "  mass = get_mass()\n",
        "  mass_list = np.unique(list(mass.values()))\n",
        "  new_list = []\n",
        "\n",
        "  for peptide in peptides:\n",
        "    for mass in mass_list:\n",
        "      x = peptide.copy()\n",
        "      x.append(mass)\n",
        "      if Is_Consistent(x,spectrum):\n",
        "        new_list.append(x)\n",
        "\n",
        "  return new_list"
      ],
      "metadata": {
        "id": "EzU5GfL8dC7e"
      },
      "execution_count": 10,
      "outputs": []
    },
    {
      "cell_type": "code",
      "execution_count": 11,
      "metadata": {
        "id": "RFUu0tvo42Ff"
      },
      "outputs": [],
      "source": [
        "def LeaderboardCyclopeptideSequencing(N,spectrum):\n",
        " \n",
        "    leaderboard = [[]]\n",
        "    leaderPeptide = []\n",
        "\n",
        "    while leaderboard:\n",
        "      \n",
        "      leaderboard  = Expand(leaderboard,spectrum)\n",
        "      parent_mass = spectrum[-1]\n",
        "\n",
        "      for peptide in leaderboard:\n",
        "        if sum(peptide) == parent_mass:\n",
        "          if CyclicPeptideScoring(peptide, spectrum) > CyclicPeptideScoring(leaderPeptide, spectrum):\n",
        "            leaderPeptide = peptide\n",
        "        elif sum(peptide) > parent_mass:\n",
        "          leaderboard.remove(peptide)\n",
        "\n",
        "      leaderboard  = Trim(leaderboard, spectrum, N)\n",
        "\n",
        "    return leaderPeptide"
      ]
    },
    {
      "cell_type": "code",
      "source": [
        "# sample dataset\n",
        "spectrum = [0, 71, 113, 129, 147 ,200, 218, 260 ,313,331 ,347 ,389 ,460]"
      ],
      "metadata": {
        "id": "ZdIdTLjQ6WJ9"
      },
      "execution_count": 12,
      "outputs": []
    },
    {
      "cell_type": "code",
      "source": [
        "LeaderboardCyclopeptideSequencing(10,spectrum)"
      ],
      "metadata": {
        "colab": {
          "base_uri": "https://localhost:8080/"
        },
        "id": "KqmgUIMC6H-S",
        "outputId": "d4da6d74-9fa5-4b88-9af8-c73353b9ffa8"
      },
      "execution_count": 13,
      "outputs": [
        {
          "output_type": "execute_result",
          "data": {
            "text/plain": [
              "[113, 147, 71, 129]"
            ]
          },
          "metadata": {},
          "execution_count": 13
        }
      ]
    },
    {
      "cell_type": "code",
      "source": [
        "# dataset\n",
        "with open('/content/rosalind_ba4g (5).txt') as file:\n",
        "  N = file.readline().strip()\n",
        "  spectrum = [int(s) for s in file.readline().strip().split()]"
      ],
      "metadata": {
        "id": "Wf7xY0W3ukxg"
      },
      "execution_count": 14,
      "outputs": []
    },
    {
      "cell_type": "code",
      "source": [
        "result = LeaderboardCyclopeptideSequencing(int(N),spectrum)"
      ],
      "metadata": {
        "id": "P-SpiV4XCb4H"
      },
      "execution_count": 15,
      "outputs": []
    },
    {
      "cell_type": "code",
      "source": [
        "Output_format(result)"
      ],
      "metadata": {
        "colab": {
          "base_uri": "https://localhost:8080/"
        },
        "id": "GfJDJbvxH1XB",
        "outputId": "5bf93fdb-5d0c-4231-bdf4-63f907720190"
      },
      "execution_count": 17,
      "outputs": [
        {
          "output_type": "stream",
          "name": "stdout",
          "text": [
            "71-101-113-71-128-186-114-129-131-71-103-163-101\n"
          ]
        }
      ]
    }
  ]
}