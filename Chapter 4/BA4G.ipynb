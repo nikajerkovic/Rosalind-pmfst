{
  "nbformat": 4,
  "nbformat_minor": 0,
  "metadata": {
    "colab": {
      "name": "BA4G.ipynb",
      "provenance": [],
      "collapsed_sections": []
    },
    "kernelspec": {
      "name": "python3",
      "display_name": "Python 3"
    },
    "language_info": {
      "name": "python"
    }
  },
  "cells": [
    {
      "cell_type": "markdown",
      "source": [
        "## BA4G"
      ],
      "metadata": {
        "id": "RPGWnvECvq3y"
      }
    },
    {
      "cell_type": "markdown",
      "source": [
        "**Implement LeaderboardCyclopeptideSequencing**\n",
        "\n",
        "Given: An integer N and a collection of integers Spectrum.\n",
        "\n",
        "Return: LeaderPeptide after running LeaderboardCyclopeptideSequencing(Spectrum, N)."
      ],
      "metadata": {
        "id": "DxTDwhpeh6iY"
      }
    },
    {
      "cell_type": "markdown",
      "source": [
        "Link: https://rosalind.info/problems/ba4g/"
      ],
      "metadata": {
        "id": "18NSDeqXXW6I"
      }
    },
    {
      "cell_type": "code",
      "execution_count": null,
      "metadata": {
        "id": "UxY8nR9X61jH"
      },
      "outputs": [],
      "source": [
        "def get_mass():\n",
        "    mass = {\n",
        "        \"G\": 57,\n",
        "        \"A\": 71,\n",
        "        \"S\": 87,\n",
        "        \"P\": 97,\n",
        "        \"V\": 99,\n",
        "        \"T\": 101,\n",
        "        \"C\": 103,\n",
        "        \"I\": 113,\n",
        "        \"L\": 113,\n",
        "        \"N\": 114,\n",
        "        \"D\": 115,\n",
        "        \"K\": 128,\n",
        "        \"Q\": 128,\n",
        "        \"E\": 129,\n",
        "        \"M\": 131,\n",
        "        \"H\": 137,\n",
        "        \"F\": 147,\n",
        "        \"R\": 156,\n",
        "        \"Y\": 163,\n",
        "        \"W\": 186,\n",
        "    }\n",
        "\n",
        "    return mass"
      ]
    },
    {
      "cell_type": "markdown",
      "source": [
        "Funkcije iz prethodnog zadatka koja se koristi"
      ],
      "metadata": {
        "id": "awjrgcSpaYxJ"
      }
    },
    {
      "cell_type": "code",
      "source": [
        "def Expand(peptides):\n",
        "  \n",
        "  mass = get_mass()\n",
        "  mass_list = np.unique(list(mass.values()))\n",
        "  new_list = []\n",
        "\n",
        "  for peptide in peptides:\n",
        "    for mass in mass_list:\n",
        "      x = peptide.copy()\n",
        "      x.append(mass)\n",
        "      new_list.append(x)\n",
        "\n",
        "  return new_list"
      ],
      "metadata": {
        "id": "Ib_tMvE0FmPD"
      },
      "execution_count": null,
      "outputs": []
    },
    {
      "cell_type": "code",
      "source": [
        "# small changes - razlika je jer ovdje primamo brojeve a tamo smo primali stringove\n",
        "def cyclospectrum(peptide):\n",
        "\n",
        "    n = len(peptide)\n",
        "    mass = get_mass()\n",
        "    cyclospectrum = []\n",
        "\n",
        "    cycle = peptide + peptide[:-1]\n",
        "    \n",
        "    cyclospectrum.append(0)\n",
        "    \n",
        "    # razlicito u odnosu na BA4C\n",
        "    cyclospectrum.append(sum(peptide))\n",
        "\n",
        "    for i in range(n):\n",
        "      for j in range(1, n):\n",
        "        subpeptide = cycle[i : i + j]\n",
        "        # razlicito u odnosu na BA4C\n",
        "        cyclospectrum.append(sum(subpeptide))\n",
        "\n",
        "    return sorted( cyclospectrum)"
      ],
      "metadata": {
        "id": "sutWwpTb8d-B"
      },
      "execution_count": null,
      "outputs": []
    },
    {
      "cell_type": "code",
      "source": [
        "def CyclicPeptideScoring(peptide,experimental_spectrum):\n",
        "\n",
        "  theoretical_spectrum = cyclospectrum(peptide)\n",
        "  score = 0\n",
        "\n",
        "  for item in theoretical_spectrum:\n",
        "    if item in experimental_spectrum:\n",
        "      score += 1\n",
        "      experimental_spectrum.remove(item)\n",
        "\n",
        "  return score"
      ],
      "metadata": {
        "id": "gocBO8fmgFga"
      },
      "execution_count": null,
      "outputs": []
    },
    {
      "cell_type": "code",
      "source": [
        "def Trim(leaderboard, linear_spectrum, N):\n",
        "\n",
        "  linear_scores = {}\n",
        "  leaderboard_new = []\n",
        "\n",
        "  for i,peptide in enumerate(leaderboard):\n",
        "    #samo promijenjeno u Cyclic u  odnosu na BA4L\n",
        "    linear_scores[i] = CyclicPeptideScoring(peptide,linear_spectrum)\n",
        " \n",
        "  linear_scores_list = sorted(linear_scores.values(), reverse = True)\n",
        "  \n",
        "  #dodano\n",
        "  if len(leaderboard) <= N:\n",
        "   return leaderboard\n",
        "\n",
        "  for index, score in linear_scores.items():\n",
        "     if score >= linear_scores_list[N-1]:\n",
        "       leaderboard_new.append(leaderboard[index])\n",
        "\n",
        "\n",
        "  return leaderboard_new"
      ],
      "metadata": {
        "id": "hmdVQplpGSPV"
      },
      "execution_count": null,
      "outputs": []
    },
    {
      "cell_type": "code",
      "source": [
        "def Output_format(peptide):\n",
        "  p = ''\n",
        "  output = []\n",
        "  for pep in peptide:\n",
        "    p += str(pep) + '-'\n",
        "  # :-1 da se makne - sa kraja, inace bi bilo 113-128-186-\n",
        "  print(p[:-1])"
      ],
      "metadata": {
        "id": "TJ24JMVuHhU6"
      },
      "execution_count": null,
      "outputs": []
    },
    {
      "cell_type": "markdown",
      "source": [
        "Novo"
      ],
      "metadata": {
        "id": "GNh9JhONlRGK"
      }
    },
    {
      "cell_type": "code",
      "source": [
        "def LeaderboardCyclopeptideSequencing(N,spectrum):\n",
        "\n",
        "  leaderboard = [[]]\n",
        "  leaderPeptide = []\n",
        "  leaderScore = 0\n",
        "\n",
        "  while leaderboard:\n",
        "\n",
        "    leaderboard = Expand(leaderboard)\n",
        "    new_leaderboard = []\n",
        "    parent_mass = spectrum[-1]\n",
        "\n",
        "    for peptide in leaderboard:\n",
        "      if sum(peptide) == parent_mass:\n",
        "          if CyclicPeptideScoring(peptide, spectrum) >= leaderScore:\n",
        "            leaderPeptide = peptide\n",
        "            leaderScore = CyclicPeptideScoring(peptide, spectrum)\n",
        "      if sum(peptide) <= parent_mass:\n",
        "        new_leaderboard.append(peptide)\n",
        "\n",
        "    leaderboard = Trim(new_leaderboard,spectrum, N)\n",
        "\n",
        "  return leaderPeptide"
      ],
      "metadata": {
        "id": "F0GW23GAwkY7"
      },
      "execution_count": null,
      "outputs": []
    },
    {
      "cell_type": "code",
      "source": [
        "# dataset\n",
        "with open('/content/rosalind_ba4g (3).txt') as file:\n",
        "  N = file.readline().strip()\n",
        "  spectrum = [int(s) for s in file.readline().strip().split()]"
      ],
      "metadata": {
        "id": "Wf7xY0W3ukxg"
      },
      "execution_count": null,
      "outputs": []
    },
    {
      "cell_type": "code",
      "source": [
        "result = LeaderboardCyclopeptideSequencing(int(N),spectrum)"
      ],
      "metadata": {
        "id": "4ogfTryauvRd"
      },
      "execution_count": null,
      "outputs": []
    },
    {
      "cell_type": "code",
      "source": [
        "Output_format(result)"
      ],
      "metadata": {
        "colab": {
          "base_uri": "https://localhost:8080/"
        },
        "id": "82rh4OAYQCNC",
        "outputId": "3def75b8-37fa-4fe1-b773-06ed3129feea"
      },
      "execution_count": null,
      "outputs": [
        {
          "output_type": "stream",
          "name": "stdout",
          "text": [
            "156-156-131-113-97-128-97-137-131-113-71-137-87-57-71\n"
          ]
        }
      ]
    }
  ]
}