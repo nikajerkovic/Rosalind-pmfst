{
  "nbformat": 4,
  "nbformat_minor": 0,
  "metadata": {
    "colab": {
      "name": "BA4D.ipynb",
      "provenance": [],
      "collapsed_sections": []
    },
    "kernelspec": {
      "name": "python3",
      "display_name": "Python 3"
    },
    "language_info": {
      "name": "python"
    }
  },
  "cells": [
    {
      "cell_type": "markdown",
      "source": [
        "## BA4D"
      ],
      "metadata": {
        "id": "RPGWnvECvq3y"
      }
    },
    {
      "cell_type": "markdown",
      "metadata": {
        "id": "Kpqu0vOqx35Q"
      },
      "source": [
        "**Counting Peptides with Given Mass Problem**\n",
        "\n",
        "Compute the number of peptides of given total mass.\n",
        "\n",
        "Given: An integer m.\n",
        "\n",
        "Return: The number of linear peptides having integer mass m."
      ]
    },
    {
      "cell_type": "markdown",
      "metadata": {
        "id": "AAV-9izlx-og"
      },
      "source": [
        "Link: https://rosalind.info/problems/ba4d/"
      ]
    },
    {
      "cell_type": "code",
      "source": [
        "import numpy as np"
      ],
      "metadata": {
        "id": "nkxFZ-b4JeZD"
      },
      "execution_count": 101,
      "outputs": []
    },
    {
      "cell_type": "code",
      "execution_count": 4,
      "metadata": {
        "id": "UxY8nR9X61jH"
      },
      "outputs": [],
      "source": [
        "def get_mass():\n",
        "    mass = {\n",
        "        \"G\": 57,\n",
        "        \"A\": 71,\n",
        "        \"S\": 87,\n",
        "        \"P\": 97,\n",
        "        \"V\": 99,\n",
        "        \"T\": 101,\n",
        "        \"C\": 103,\n",
        "        \"I\": 113,\n",
        "        \"L\": 113,\n",
        "        \"N\": 114,\n",
        "        \"D\": 115,\n",
        "        \"K\": 128,\n",
        "        \"Q\": 128,\n",
        "        \"E\": 129,\n",
        "        \"M\": 131,\n",
        "        \"H\": 137,\n",
        "        \"F\": 147,\n",
        "        \"R\": 156,\n",
        "        \"Y\": 163,\n",
        "        \"W\": 186,\n",
        "    }\n",
        "\n",
        "    return mass"
      ]
    },
    {
      "cell_type": "code",
      "source": [
        "def CountingPeptides(m, mass_list, counter_dict):\n",
        "\n",
        "    if m in counter_dict:\n",
        "        return counter_dict[m]\n",
        "\n",
        "    elif m < 0:\n",
        "        return 0\n",
        "\n",
        "    else:\n",
        "\n",
        "      counter_dict[m] = 0\n",
        "      for curr_mass in mass_list:\n",
        "        counter_dict[m] += CountingPeptides(m - curr_mass, mass_list, counter_dict)\n",
        "\n",
        "    return counter_dict[m]"
      ],
      "metadata": {
        "id": "KGK4cP1V1Du8"
      },
      "execution_count": 106,
      "outputs": []
    },
    {
      "cell_type": "code",
      "source": [
        "mass = get_mass()\n",
        "mass_list = np.unique(list(mass.values()))"
      ],
      "metadata": {
        "id": "HFKI-H7E7ISd"
      },
      "execution_count": 107,
      "outputs": []
    },
    {
      "cell_type": "code",
      "source": [
        "# sample dataset\n",
        "CountingPeptides(1024, mass_list,counter_dict = {0:1})"
      ],
      "metadata": {
        "colab": {
          "base_uri": "https://localhost:8080/"
        },
        "id": "3T8X0hcUPfl-",
        "outputId": "837e416d-0bc6-4de8-a2d9-1dd4551ac6ce"
      },
      "execution_count": 108,
      "outputs": [
        {
          "output_type": "execute_result",
          "data": {
            "text/plain": [
              "14712706211"
            ]
          },
          "metadata": {},
          "execution_count": 108
        }
      ]
    },
    {
      "cell_type": "code",
      "source": [
        "# dataset\n",
        "CountingPeptides(1402, mass_list,counter_dict = {0:1})"
      ],
      "metadata": {
        "colab": {
          "base_uri": "https://localhost:8080/"
        },
        "outputId": "7979a177-aa95-4645-f531-ff840383534a",
        "id": "ZJLwl6j2VEvZ"
      },
      "execution_count": 109,
      "outputs": [
        {
          "output_type": "execute_result",
          "data": {
            "text/plain": [
              "488819212520700"
            ]
          },
          "metadata": {},
          "execution_count": 109
        }
      ]
    }
  ]
}