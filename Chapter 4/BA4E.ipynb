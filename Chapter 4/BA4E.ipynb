{
  "nbformat": 4,
  "nbformat_minor": 0,
  "metadata": {
    "colab": {
      "name": "BA4E.ipynb",
      "provenance": [],
      "collapsed_sections": []
    },
    "kernelspec": {
      "name": "python3",
      "display_name": "Python 3"
    },
    "language_info": {
      "name": "python"
    }
  },
  "cells": [
    {
      "cell_type": "markdown",
      "source": [
        "## BA4E"
      ],
      "metadata": {
        "id": "RPGWnvECvq3y"
      }
    },
    {
      "cell_type": "markdown",
      "source": [
        "**Cyclopeptide Sequencing Problem**\n",
        "\n",
        "Given an ideal experimental spectrum, find a cyclic peptide whose theoretical spectrum matches the experimental spectrum.\n",
        "\n",
        "Given: A collection of (possibly repeated) integers Spectrum corresponding to an ideal experimental spectrum.\n",
        "\n",
        "Return: Every amino acid string Peptide such that Cyclospectrum(Peptide) = Spectrum (if such a string exists)."
      ],
      "metadata": {
        "id": "hx3LwHgo-WNI"
      }
    },
    {
      "cell_type": "markdown",
      "source": [
        "Link: https://rosalind.info/problems/ba4e/"
      ],
      "metadata": {
        "id": "18NSDeqXXW6I"
      }
    },
    {
      "cell_type": "code",
      "execution_count": null,
      "metadata": {
        "id": "UxY8nR9X61jH"
      },
      "outputs": [],
      "source": [
        "def get_mass():\n",
        "    mass = {\n",
        "        \"G\": 57,\n",
        "        \"A\": 71,\n",
        "        \"S\": 87,\n",
        "        \"P\": 97,\n",
        "        \"V\": 99,\n",
        "        \"T\": 101,\n",
        "        \"C\": 103,\n",
        "        \"I\": 113,\n",
        "        \"L\": 113,\n",
        "        \"N\": 114,\n",
        "        \"D\": 115,\n",
        "        \"K\": 128,\n",
        "        \"Q\": 128,\n",
        "        \"E\": 129,\n",
        "        \"M\": 131,\n",
        "        \"H\": 137,\n",
        "        \"F\": 147,\n",
        "        \"R\": 156,\n",
        "        \"Y\": 163,\n",
        "        \"W\": 186,\n",
        "    }\n",
        "\n",
        "    return mass"
      ]
    },
    {
      "cell_type": "markdown",
      "source": [
        "Funkcije iz prethodnog zadatka koja se koristi"
      ],
      "metadata": {
        "id": "awjrgcSpaYxJ"
      }
    },
    {
      "cell_type": "code",
      "source": [
        "# small changes - razlika je jer ovdje primamo brojeve a tamo smo primali stringove\n",
        "def cyclospectrum(peptide):\n",
        "\n",
        "    n = len(peptide)\n",
        "    mass = get_mass()\n",
        "    cyclospectrum = []\n",
        "\n",
        "    cycle = peptide + peptide[:-1]\n",
        "    \n",
        "    cyclospectrum.append(0)\n",
        "    \n",
        "    # razlicito u odnosu na BA4C\n",
        "    cyclospectrum.append(sum(peptide))\n",
        "\n",
        "    for i in range(n):\n",
        "      for j in range(1, n):\n",
        "        subpeptide = cycle[i : i + j]\n",
        "        # razlicito u odnosu na BA4C\n",
        "        cyclospectrum.append(sum(subpeptide))\n",
        "\n",
        "    return sorted( cyclospectrum)"
      ],
      "metadata": {
        "id": "sutWwpTb8d-B"
      },
      "execution_count": null,
      "outputs": []
    },
    {
      "cell_type": "code",
      "source": [
        "def LinearSpectrum(peptide):\n",
        "\n",
        "  prefix_mass  = [0]\n",
        "  linear_spectrum = [0]\n",
        " \n",
        "  for i in range(len(peptide)):\n",
        "    # promjena u odnosu na BA4J jer su tamo peptidi bili predstavljeni slovima \n",
        "    current = prefix_mass[i] +  peptide[i]\n",
        "    prefix_mass.append(current)\n",
        "\n",
        "  for i in range(len(peptide)):\n",
        "    for j in range(i + 1, len(peptide) + 1):\n",
        "      linear_spectrum.append(prefix_mass[j] - prefix_mass[i])\n",
        "  \n",
        "  return sorted(linear_spectrum) "
      ],
      "metadata": {
        "id": "SLEuIYynEbvr"
      },
      "execution_count": null,
      "outputs": []
    },
    {
      "cell_type": "markdown",
      "source": [
        "Novo"
      ],
      "metadata": {
        "id": "ehjz6AF1aVih"
      }
    },
    {
      "cell_type": "code",
      "source": [
        "def Expand(peptides):\n",
        "  \n",
        "  mass = get_mass()\n",
        "  mass_list = np.unique(list(mass.values()))\n",
        "  new_list = []\n",
        "\n",
        "  for peptide in peptides:\n",
        "    for mass in mass_list:\n",
        "      x = peptide.copy()\n",
        "      x.append(mass)\n",
        "      new_list.append(x)\n",
        "\n",
        "  return new_list"
      ],
      "metadata": {
        "id": "Ib_tMvE0FmPD"
      },
      "execution_count": null,
      "outputs": []
    },
    {
      "cell_type": "code",
      "source": [
        "def Output_format(peptide):\n",
        "  p = ''\n",
        "  output = []\n",
        "  for pep in peptide:\n",
        "    p += str(pep) + '-'\n",
        "  # :-1 da se makne - sa kraja, inace bi bilo 113-128-186-\n",
        "  print(p[:-1])"
      ],
      "metadata": {
        "id": "TJ24JMVuHhU6"
      },
      "execution_count": null,
      "outputs": []
    },
    {
      "cell_type": "code",
      "source": [
        "def CyclopeptideSequencing(spectrum):\n",
        "\n",
        "\t# a set containing only the empty peptide\n",
        "\tpeptides = [[]]\n",
        "\n",
        "\tparent_mass = spectrum[-1]\n",
        "\n",
        "\t# dok peptides nije prazno\n",
        "\twhile peptides:\n",
        "\n",
        "\t\t# branching\n",
        "\t\tpeptides = Expand(peptides)\n",
        "\t\tnew_peptides = []\n",
        "\n",
        "\t\tfor peptide in peptides:\n",
        "\n",
        "\t\t\t# bound\n",
        "\t\t\tif sum(peptide) == parent_mass:\n",
        "\t\t\t\tcyclo_spec = cyclospectrum(peptide)\n",
        "\t\t\t\tif len(cyclo_spec) == len(spectrum):\n",
        "\t\t\t\t\tcheck = True\n",
        "\t\t\t\t\tfor i in range(len(cyclo_spec)):\n",
        "\t\t\t\t\t\tif cyclo_spec [i] != spectrum[i]:\n",
        "\t\t\t\t\t\t\tcheck = False\n",
        "\t\t\t\t\t\t\tbreak;\n",
        "\t\t\t\t\tif check:\n",
        "\t\t\t\t\t\tOutput_format(peptide)\n",
        "\t\t\telse:\n",
        "\t\t\t\tlinear_spec = LinearSpectrum(peptide)\n",
        "\t\t\t\tcheck = True\n",
        "\t\t\t\ti = 0\n",
        "\t\t\t\t# bound\n",
        "\t\t\t\tfor el in linear_spec:\n",
        "\t\t\t\t\tisConsistet = False\n",
        "\t\t\t\t\tfor j in range(i,len(spectrum)):\n",
        "\t\t\t\t\t\tif el == spectrum[j]:\n",
        "\t\t\t\t\t\t\tisConsistet = True\n",
        "\t\t\t\t\t\t\ti = j\n",
        "\t\t\t\t\t\t\tbreak;\n",
        "\n",
        "\t\t\t\t\tif isConsistet  == False:\n",
        "\t\t\t\t\t\tcheck = False\n",
        "\t\t\t\t\t\tbreak;\n",
        "\n",
        "\t\t\t\tif check:\n",
        "\t\t\t\t\tnew_peptides.append(peptide)\n",
        "     \n",
        "\t\tpeptides = new_peptides"
      ],
      "metadata": {
        "id": "yeC5ZcmpAWNw"
      },
      "execution_count": null,
      "outputs": []
    },
    {
      "cell_type": "code",
      "source": [
        "# sample dataset\n",
        "CyclopeptideSequencing([0, 113, 128, 186, 241, 299, 314, 427])"
      ],
      "metadata": {
        "colab": {
          "base_uri": "https://localhost:8080/"
        },
        "id": "-OXBCrcbBe_a",
        "outputId": "2db72e2c-fd8d-430a-cad9-6dee95bb5762"
      },
      "execution_count": null,
      "outputs": [
        {
          "output_type": "stream",
          "name": "stdout",
          "text": [
            "113-128-186\n",
            "113-186-128\n",
            "128-113-186\n",
            "128-186-113\n",
            "186-113-128\n",
            "186-128-113\n"
          ]
        }
      ]
    },
    {
      "cell_type": "code",
      "source": [
        "# dataset\n",
        "with open(\"/content/rosalind_ba4e (3).txt\") as f:\n",
        "  input_data = [int(s) for s in list(f.read().strip().split())]"
      ],
      "metadata": {
        "id": "9jq4UdKyfOTJ"
      },
      "execution_count": null,
      "outputs": []
    },
    {
      "cell_type": "code",
      "source": [
        "CyclopeptideSequencing(input_data)"
      ],
      "metadata": {
        "colab": {
          "base_uri": "https://localhost:8080/"
        },
        "id": "y5u5NbXnfRGu",
        "outputId": "0bca1316-e3fa-446a-ef82-c754159ce3c1"
      },
      "execution_count": null,
      "outputs": [
        {
          "output_type": "stream",
          "name": "stdout",
          "text": [
            "87-103-163-128-128-97-163-128-113-113\n",
            "87-113-113-128-163-97-128-128-163-103\n",
            "97-128-128-163-103-87-113-113-128-163\n",
            "97-163-128-113-113-87-103-163-128-128\n",
            "103-87-113-113-128-163-97-128-128-163\n",
            "103-163-128-128-97-163-128-113-113-87\n",
            "113-87-103-163-128-128-97-163-128-113\n",
            "113-113-87-103-163-128-128-97-163-128\n",
            "113-113-128-163-97-128-128-163-103-87\n",
            "113-128-163-97-128-128-163-103-87-113\n",
            "128-97-163-128-113-113-87-103-163-128\n",
            "128-113-113-87-103-163-128-128-97-163\n",
            "128-128-97-163-128-113-113-87-103-163\n",
            "128-128-163-103-87-113-113-128-163-97\n",
            "128-163-97-128-128-163-103-87-113-113\n",
            "128-163-103-87-113-113-128-163-97-128\n",
            "163-97-128-128-163-103-87-113-113-128\n",
            "163-103-87-113-113-128-163-97-128-128\n",
            "163-128-113-113-87-103-163-128-128-97\n",
            "163-128-128-97-163-128-113-113-87-103\n"
          ]
        }
      ]
    }
  ]
}