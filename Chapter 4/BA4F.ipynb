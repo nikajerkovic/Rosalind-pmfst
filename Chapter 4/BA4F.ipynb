{
  "nbformat": 4,
  "nbformat_minor": 0,
  "metadata": {
    "colab": {
      "name": "BA4F.ipynb",
      "provenance": [],
      "collapsed_sections": []
    },
    "kernelspec": {
      "name": "python3",
      "display_name": "Python 3"
    },
    "language_info": {
      "name": "python"
    }
  },
  "cells": [
    {
      "cell_type": "markdown",
      "source": [
        "## BA4F"
      ],
      "metadata": {
        "id": "RPGWnvECvq3y"
      }
    },
    {
      "cell_type": "markdown",
      "source": [
        "**Cyclic Peptide Scoring Problem**\n",
        "\n",
        "Compute the score of a cyclic peptide against a spectrum.\n",
        "\n",
        "Given: An amino acid string Peptide and a collection of integers Spectrum.\n",
        "\n",
        "Return: The score of Peptide against Spectrum, Score(Peptide, Spectrum)."
      ],
      "metadata": {
        "id": "jBp3NPmUZLFm"
      }
    },
    {
      "cell_type": "markdown",
      "source": [
        "Link: https://rosalind.info/problems/ba4f/"
      ],
      "metadata": {
        "id": "18NSDeqXXW6I"
      }
    },
    {
      "cell_type": "code",
      "execution_count": null,
      "metadata": {
        "id": "UxY8nR9X61jH"
      },
      "outputs": [],
      "source": [
        "def get_mass():\n",
        "    mass = {\n",
        "        \"G\": 57,\n",
        "        \"A\": 71,\n",
        "        \"S\": 87,\n",
        "        \"P\": 97,\n",
        "        \"V\": 99,\n",
        "        \"T\": 101,\n",
        "        \"C\": 103,\n",
        "        \"I\": 113,\n",
        "        \"L\": 113,\n",
        "        \"N\": 114,\n",
        "        \"D\": 115,\n",
        "        \"K\": 128,\n",
        "        \"Q\": 128,\n",
        "        \"E\": 129,\n",
        "        \"M\": 131,\n",
        "        \"H\": 137,\n",
        "        \"F\": 147,\n",
        "        \"R\": 156,\n",
        "        \"Y\": 163,\n",
        "        \"W\": 186,\n",
        "    }\n",
        "\n",
        "    return mass"
      ]
    },
    {
      "cell_type": "markdown",
      "source": [
        "Funkcije iz prethodnog zadatka koja se koristi"
      ],
      "metadata": {
        "id": "awjrgcSpaYxJ"
      }
    },
    {
      "cell_type": "code",
      "execution_count": null,
      "metadata": {
        "id": "jl_3KHNhnbQ5"
      },
      "outputs": [],
      "source": [
        "# B4AC\n",
        "def cyclospectrum(peptide):\n",
        "\n",
        "    n = len(peptide)\n",
        "    mass = get_mass()\n",
        "    cyclospectrum = []\n",
        "    suma = 0\n",
        "\n",
        "    cycle = peptide + peptide[:-1]\n",
        "\n",
        "    cyclospectrum.append(0)\n",
        "    for element in peptide:\n",
        "      suma += mass[element]\n",
        "    \n",
        "    cyclospectrum.append(suma)\n",
        "\n",
        "    for i in range(n):\n",
        "      for j in range(1, n):\n",
        "        subpeptide = cycle[i : i + j]\n",
        "        cyclospectrum.append(sum([mass[x] for x in subpeptide]))\n",
        "\n",
        "    return sorted( cyclospectrum)"
      ]
    },
    {
      "cell_type": "markdown",
      "source": [
        "Novo"
      ],
      "metadata": {
        "id": "GNh9JhONlRGK"
      }
    },
    {
      "cell_type": "code",
      "source": [
        "def CyclicPeptideScoring(peptide,experimental_spectrum):\n",
        "\n",
        "  theoretical_spectrum = cyclospectrum(peptide)\n",
        "  score = 0\n",
        "\n",
        "  for item in theoretical_spectrum:\n",
        "    if item in experimental_spectrum:\n",
        "      score += 1\n",
        "      experimental_spectrum.remove(item)\n",
        "\n",
        "  return score"
      ],
      "metadata": {
        "id": "gocBO8fmgFga"
      },
      "execution_count": null,
      "outputs": []
    },
    {
      "cell_type": "code",
      "source": [
        "# sample dataset\n",
        "with open('/content/sample_data/input.txt') as file:\n",
        "  peptide = file.readline().strip()\n",
        "  experimental_spectrum = [int(s) for s in file.readline().strip().split()]"
      ],
      "metadata": {
        "id": "21kzwePXfgQZ"
      },
      "execution_count": null,
      "outputs": []
    },
    {
      "cell_type": "code",
      "source": [
        "CyclicPeptideScoring(peptide, experimental_spectrum)"
      ],
      "metadata": {
        "colab": {
          "base_uri": "https://localhost:8080/"
        },
        "id": "58uUACE-eHOF",
        "outputId": "43750250-d5f9-45c4-f36d-e919cefbc575"
      },
      "execution_count": null,
      "outputs": [
        {
          "output_type": "execute_result",
          "data": {
            "text/plain": [
              "11"
            ]
          },
          "metadata": {},
          "execution_count": 171
        }
      ]
    },
    {
      "cell_type": "code",
      "source": [
        "# dataset\n",
        "with open('/content/rosalind_ba4f.txt') as file:\n",
        "  peptide = file.readline().strip()\n",
        "  experimental_spectrum = [int(s) for s in file.readline().strip().split()]"
      ],
      "metadata": {
        "id": "mHLm9nB5gxeI"
      },
      "execution_count": null,
      "outputs": []
    },
    {
      "cell_type": "code",
      "source": [
        "CyclicPeptideScoring(peptide, experimental_spectrum)"
      ],
      "metadata": {
        "colab": {
          "base_uri": "https://localhost:8080/"
        },
        "id": "Vk4sTaMng1sF",
        "outputId": "b3e25cff-fc08-40c6-8208-d47412fdf847"
      },
      "execution_count": null,
      "outputs": [
        {
          "output_type": "execute_result",
          "data": {
            "text/plain": [
              "415"
            ]
          },
          "metadata": {},
          "execution_count": 173
        }
      ]
    }
  ]
}