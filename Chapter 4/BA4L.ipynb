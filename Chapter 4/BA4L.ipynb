{
  "nbformat": 4,
  "nbformat_minor": 0,
  "metadata": {
    "colab": {
      "name": "BA4L.ipynb",
      "provenance": [],
      "collapsed_sections": []
    },
    "kernelspec": {
      "name": "python3",
      "display_name": "Python 3"
    },
    "language_info": {
      "name": "python"
    }
  },
  "cells": [
    {
      "cell_type": "markdown",
      "source": [
        "## BA4L"
      ],
      "metadata": {
        "id": "RPGWnvECvq3y"
      }
    },
    {
      "cell_type": "markdown",
      "source": [
        "**Trim Problem**\n",
        "\n",
        "Trim a leaderboard of peptides.\n",
        "\n",
        "Given: A leaderboard of linear peptides Leaderboard, a linear spectrum Spectrum, and an integer N.\n",
        "\n",
        "Return: The top N peptides from Leaderboard scored against Spectrum. Remember to use LinearScore."
      ],
      "metadata": {
        "id": "a4eVpAKMbLCL"
      }
    },
    {
      "cell_type": "markdown",
      "source": [
        "Link: https://rosalind.info/problems/ba4l/"
      ],
      "metadata": {
        "id": "18NSDeqXXW6I"
      }
    },
    {
      "cell_type": "code",
      "execution_count": 1,
      "metadata": {
        "id": "UxY8nR9X61jH"
      },
      "outputs": [],
      "source": [
        "def get_mass():\n",
        "    mass = {\n",
        "        \"G\": 57,\n",
        "        \"A\": 71,\n",
        "        \"S\": 87,\n",
        "        \"P\": 97,\n",
        "        \"V\": 99,\n",
        "        \"T\": 101,\n",
        "        \"C\": 103,\n",
        "        \"I\": 113,\n",
        "        \"L\": 113,\n",
        "        \"N\": 114,\n",
        "        \"D\": 115,\n",
        "        \"K\": 128,\n",
        "        \"Q\": 128,\n",
        "        \"E\": 129,\n",
        "        \"M\": 131,\n",
        "        \"H\": 137,\n",
        "        \"F\": 147,\n",
        "        \"R\": 156,\n",
        "        \"Y\": 163,\n",
        "        \"W\": 186,\n",
        "    }\n",
        "\n",
        "    return mass"
      ]
    },
    {
      "cell_type": "markdown",
      "source": [
        "Funkcije iz prethodnog zadatka koja se koristi"
      ],
      "metadata": {
        "id": "awjrgcSpaYxJ"
      }
    },
    {
      "cell_type": "code",
      "source": [
        "# BA4J\n",
        "def LinearSpectrum(peptide):\n",
        "\n",
        "  mass = get_mass()\n",
        "  prefix_mass  = [0]\n",
        "  linear_spectrum = [0]\n",
        " \n",
        "  for i in range(len(peptide)):\n",
        "    current = prefix_mass[i] + mass[peptide[i]]\n",
        "    prefix_mass.append(current)\n",
        "\n",
        "  for i in range(len(peptide)):\n",
        "    for j in range(i + 1, len(peptide) + 1):\n",
        "      linear_spectrum.append(prefix_mass[j] - prefix_mass[i])\n",
        "  \n",
        "  return sorted(linear_spectrum) "
      ],
      "metadata": {
        "id": "gpq5m5SuNTmB"
      },
      "execution_count": 2,
      "outputs": []
    },
    {
      "cell_type": "code",
      "source": [
        "# BA4K\n",
        "def LinearScoring(peptide, experimental_spectrum):\n",
        "\n",
        "  theoretical_spectrum = LinearSpectrum(peptide)\n",
        "\n",
        "  score = 0\n",
        "\n",
        "  for item in experimental_spectrum:\n",
        "    if item in theoretical_spectrum:\n",
        "      score += 1\n",
        "      theoretical_spectrum.remove(item)\n",
        "\n",
        "  return score"
      ],
      "metadata": {
        "id": "VpvN68CJD8EK"
      },
      "execution_count": 3,
      "outputs": []
    },
    {
      "cell_type": "markdown",
      "source": [
        "Novo"
      ],
      "metadata": {
        "id": "ehjz6AF1aVih"
      }
    },
    {
      "cell_type": "code",
      "source": [
        "def Trim(leaderboard, linear_spectrum, N):\n",
        "\n",
        "  linear_scores = {}\n",
        "  leaderboard_new = []\n",
        "\n",
        "  for i,peptide in enumerate(leaderboard):\n",
        "    linear_scores[i] = LinearScoring(peptide,linear_spectrum)\n",
        "\n",
        " \n",
        "  linear_scores_list = sorted(linear_scores.values(), reverse = True)\n",
        "  \n",
        "  if len(leaderboard) <= N:\n",
        "   return leaderboard\n",
        "\n",
        "  for index, score in linear_scores.items():\n",
        "     if score >= linear_scores_list[N-1]:\n",
        "       leaderboard_new.append(leaderboard[index])\n",
        "\n",
        "\n",
        "  return leaderboard_new"
      ],
      "metadata": {
        "id": "QyfwQV76OXJs"
      },
      "execution_count": 4,
      "outputs": []
    },
    {
      "cell_type": "code",
      "source": [
        "# sample dataset\n",
        "with open('/content/sample_data/input.txt') as file:\n",
        "  leaderboard = file.readline().split()\n",
        "  experimental_linear_spectrum = [int(s) for s in file.readline().strip().split()]\n",
        "  N = int(file.readline())"
      ],
      "metadata": {
        "id": "nOYlaXKQf06E"
      },
      "execution_count": 5,
      "outputs": []
    },
    {
      "cell_type": "code",
      "source": [
        "Trim(leaderboard,experimental_linear_spectrum,N)"
      ],
      "metadata": {
        "colab": {
          "base_uri": "https://localhost:8080/"
        },
        "id": "d5WxetXfPOjF",
        "outputId": "6032fcf4-5353-4f13-8d1b-c8b20fa50703"
      },
      "execution_count": 6,
      "outputs": [
        {
          "output_type": "execute_result",
          "data": {
            "text/plain": [
              "['LAST', 'ALST']"
            ]
          },
          "metadata": {},
          "execution_count": 6
        }
      ]
    },
    {
      "cell_type": "code",
      "source": [
        "# dataset\n",
        "with open('/content/rosalind_ba4l (4).txt') as file:\n",
        "  leaderboard = file.readline().split()\n",
        "  experimental_linear_spectrum = [int(s) for s in file.readline().strip().split()]\n",
        "  N = int(file.readline())"
      ],
      "metadata": {
        "id": "MTa9YjRue9fJ"
      },
      "execution_count": 10,
      "outputs": []
    },
    {
      "cell_type": "code",
      "source": [
        "result = Trim(leaderboard,experimental_linear_spectrum,N)"
      ],
      "metadata": {
        "id": "0tUAGRRoI63a"
      },
      "execution_count": 11,
      "outputs": []
    },
    {
      "cell_type": "code",
      "source": [
        "print(*result)"
      ],
      "metadata": {
        "colab": {
          "base_uri": "https://localhost:8080/"
        },
        "id": "Zpg0V7sBfH9F",
        "outputId": "4178bdbd-ed92-4787-d1f3-b8b486e867fa"
      },
      "execution_count": 12,
      "outputs": [
        {
          "output_type": "stream",
          "name": "stdout",
          "text": [
            "KSYSPRDCMLNERCDKWNHFRFTGHMMAGTDFEAI FSFSMFVDCIGMTSFTNQWWWAQYQHEIATRGVHM SDPNEHDMCTMHIEPHHVWRHYMAEEETIPFNTQR IDLMCRFCVHYATCESFDSSFFNYSFAFPDPQEHK HCKHVWGETSSHDCCLMWNPVWSWLWVKEVESGLA\n"
          ]
        }
      ]
    }
  ]
}