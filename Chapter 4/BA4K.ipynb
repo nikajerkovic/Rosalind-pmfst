{
  "nbformat": 4,
  "nbformat_minor": 0,
  "metadata": {
    "colab": {
      "name": "BA4K.ipynb",
      "provenance": [],
      "collapsed_sections": []
    },
    "kernelspec": {
      "name": "python3",
      "display_name": "Python 3"
    },
    "language_info": {
      "name": "python"
    }
  },
  "cells": [
    {
      "cell_type": "markdown",
      "source": [
        "## BA4K"
      ],
      "metadata": {
        "id": "RPGWnvECvq3y"
      }
    },
    {
      "cell_type": "markdown",
      "source": [
        "**Linear Peptide Scoring Problem**\n",
        "\n",
        "Compute the score of a linear peptide with respect to a spectrum.\n",
        "\n",
        "Given: An amino acid string Peptide and a collection of integers LinearSpectrum.\n",
        "\n",
        "Return: The linear score of Peptide against Spectrum, LinearScore(Peptide, Spectrum)."
      ],
      "metadata": {
        "id": "KQCu0_1LWcdu"
      }
    },
    {
      "cell_type": "markdown",
      "source": [
        "Link: https://rosalind.info/problems/ba4k/"
      ],
      "metadata": {
        "id": "18NSDeqXXW6I"
      }
    },
    {
      "cell_type": "code",
      "execution_count": null,
      "metadata": {
        "id": "UxY8nR9X61jH"
      },
      "outputs": [],
      "source": [
        "def get_mass():\n",
        "    mass = {\n",
        "        \"G\": 57,\n",
        "        \"A\": 71,\n",
        "        \"S\": 87,\n",
        "        \"P\": 97,\n",
        "        \"V\": 99,\n",
        "        \"T\": 101,\n",
        "        \"C\": 103,\n",
        "        \"I\": 113,\n",
        "        \"L\": 113,\n",
        "        \"N\": 114,\n",
        "        \"D\": 115,\n",
        "        \"K\": 128,\n",
        "        \"Q\": 128,\n",
        "        \"E\": 129,\n",
        "        \"M\": 131,\n",
        "        \"H\": 137,\n",
        "        \"F\": 147,\n",
        "        \"R\": 156,\n",
        "        \"Y\": 163,\n",
        "        \"W\": 186,\n",
        "    }\n",
        "\n",
        "    return mass"
      ]
    },
    {
      "cell_type": "markdown",
      "source": [
        "Funkcija iz prethodnog zadatka koja se koristi"
      ],
      "metadata": {
        "id": "awjrgcSpaYxJ"
      }
    },
    {
      "cell_type": "code",
      "source": [
        "# BA4J\n",
        "def LinearSpectrum(peptide):\n",
        "\n",
        "  mass = get_mass()\n",
        "  prefix_mass  = [0]\n",
        "  linear_spectrum = [0]\n",
        " \n",
        "  for i in range(len(peptide)):\n",
        "    current = prefix_mass[i] + mass[peptide[i]]\n",
        "    prefix_mass.append(current)\n",
        "\n",
        "  for i in range(len(peptide)):\n",
        "    for j in range(i + 1, len(peptide) + 1):\n",
        "      linear_spectrum.append(prefix_mass[j] - prefix_mass[i])\n",
        "  \n",
        "  return sorted(linear_spectrum) "
      ],
      "metadata": {
        "id": "gpq5m5SuNTmB"
      },
      "execution_count": null,
      "outputs": []
    },
    {
      "cell_type": "markdown",
      "source": [
        "Novo"
      ],
      "metadata": {
        "id": "ehjz6AF1aVih"
      }
    },
    {
      "cell_type": "code",
      "source": [
        "def LinearScoring(peptide, experimental_spectrum):\n",
        "\n",
        "\n",
        "  # samo je ovo razlicito u odnosu na BA4F - CyclicPeptideScoring\n",
        "  theoretical_spectrum = LinearSpectrum(peptide)\n",
        "\n",
        "  score = 0\n",
        "\n",
        "  for item in theoretical_spectrum:\n",
        "    if item in experimental_spectrum:\n",
        "      score += 1\n",
        "      experimental_spectrum.remove(item)\n",
        "\n",
        "  return score"
      ],
      "metadata": {
        "id": "_KN38CLuXaCB"
      },
      "execution_count": null,
      "outputs": []
    },
    {
      "cell_type": "code",
      "source": [
        "# sample dataset\n",
        "LinearScoring('NQEL', [0 ,99, 113 ,114, 128 ,227 ,257, 299 ,355, 356, 370, 371, 484])"
      ],
      "metadata": {
        "colab": {
          "base_uri": "https://localhost:8080/"
        },
        "id": "stNskQYCZFhd",
        "outputId": "9297e808-12d6-4855-ece9-e71a0147b287"
      },
      "execution_count": null,
      "outputs": [
        {
          "output_type": "execute_result",
          "data": {
            "text/plain": [
              "8"
            ]
          },
          "metadata": {},
          "execution_count": 284
        }
      ]
    },
    {
      "cell_type": "code",
      "source": [
        "# dataset\n",
        "with open('/content/rosalind_ba4k.txt') as file:\n",
        "  peptide = file.readline().strip()\n",
        "  experimental_spectrum = [int(s) for s in file.readline().strip().split()]"
      ],
      "metadata": {
        "id": "ih2HT1vRZzDJ"
      },
      "execution_count": null,
      "outputs": []
    },
    {
      "cell_type": "code",
      "source": [
        "LinearScoring(peptide, experimental_spectrum)"
      ],
      "metadata": {
        "colab": {
          "base_uri": "https://localhost:8080/"
        },
        "outputId": "aaaec2b7-9db8-4ef1-a5cf-39bbbd3cba47",
        "id": "A7zWPTAlZ1sf"
      },
      "execution_count": null,
      "outputs": [
        {
          "output_type": "execute_result",
          "data": {
            "text/plain": [
              "398"
            ]
          },
          "metadata": {},
          "execution_count": 286
        }
      ]
    }
  ]
}