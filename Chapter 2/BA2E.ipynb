{
  "nbformat": 4,
  "nbformat_minor": 0,
  "metadata": {
    "colab": {
      "name": "BA2E.ipynb",
      "provenance": []
    },
    "kernelspec": {
      "name": "python3",
      "display_name": "Python 3"
    },
    "language_info": {
      "name": "python"
    }
  },
  "cells": [
    {
      "cell_type": "markdown",
      "source": [
        "## BA2E"
      ],
      "metadata": {
        "id": "P8wOy2XSyrR7"
      }
    },
    {
      "cell_type": "markdown",
      "source": [
        "We encountered GreedyMotifSearch in “Implement GreedyMotifSearch”. In this problem, we will power it up with pseudocounts.\n",
        "\n",
        "**Implement GreedyMotifSearch with Pseudocounts**\n",
        "\n",
        "Given: Integers k and t, followed by a collection of strings Dna.\n",
        "\n",
        "Return: A collection of strings BestMotifs resulting from running GreedyMotifSearch(Dna, k, t) with pseudocounts. If at any step you find more than one Profile-most probable k-mer in a given string, use the one occurring first."
      ],
      "metadata": {
        "id": "wCZPptFDezO9"
      }
    },
    {
      "cell_type": "markdown",
      "source": [
        "Link: https://rosalind.info/problems/ba2e/"
      ],
      "metadata": {
        "id": "5sWJWjc2e7QU"
      }
    },
    {
      "cell_type": "markdown",
      "source": [
        "**Funkcije iz prethodnog zadatka koje se koriste:**"
      ],
      "metadata": {
        "id": "zxVtLrZBvFZh"
      }
    },
    {
      "cell_type": "code",
      "source": [
        "def profile(k_mers):\n",
        "    \n",
        "    prof= list(dict())\n",
        "\n",
        "    for i in range(len(k_mers[0])):\n",
        "        prof_col = {'A':0, 'C':0, 'G':0, 'T':0}\n",
        "        for j in range(len(k_mers)):\n",
        "            prof_col[k_mers[j][i]] += 1\n",
        "\n",
        "        # da dobijemo vjerojatnost\n",
        "        for key in prof_col.keys():\n",
        "            prof_col[key] = prof_col[key] / len(k_mers)\n",
        "\n",
        "        prof.append(prof_col)\n",
        "\n",
        "    return prof"
      ],
      "metadata": {
        "id": "bR6PXKjT7YP9"
      },
      "execution_count": 7,
      "outputs": []
    },
    {
      "cell_type": "code",
      "source": [
        "# malo drugačija funkcija od BA2C zbog drugacijeg formata inputa\n",
        "def profile_most_probable_kmer(dna, k, profile):\n",
        "    max_probability = 0\n",
        "    # postavljamo na prvi\n",
        "    most_probable = dna[0:k]\n",
        "    for i in range(len(dna)-k+1):\n",
        "        substr = dna[i:i+k]\n",
        "        probability = 1\n",
        "        for j in range(len(substr)):\n",
        "          probability *= profile[j][substr[j]]\n",
        "        if probability > max_probability:\n",
        "            most_probable = substr\n",
        "            max_probability = probability\n",
        "\n",
        "    return most_probable"
      ],
      "metadata": {
        "id": "AhJfVKP4ElvP"
      },
      "execution_count": 2,
      "outputs": []
    },
    {
      "cell_type": "code",
      "source": [
        "import collections\n",
        "def score(motifs,k,t):\n",
        "\n",
        "    columns = [''.join(sequence) for sequence in zip(*motifs)]\n",
        "    maxCount = 0\n",
        "    for column in columns:\n",
        "      maxCount += collections.Counter(column).most_common(1)[0][1]\n",
        "\n",
        "    return k*t - maxCount"
      ],
      "metadata": {
        "id": "6xE909e9U_KJ"
      },
      "execution_count": 3,
      "outputs": []
    },
    {
      "cell_type": "markdown",
      "source": [
        "**Novo:**"
      ],
      "metadata": {
        "id": "0B-xoArSvC7I"
      }
    },
    {
      "cell_type": "code",
      "source": [
        "def profilePseudocounts(motifs):\n",
        "  prof = list(dict())\n",
        "  for i in range(len(motifs[0])):\n",
        "        prof_col = {'A':0, 'C':0, 'G':0, 'T':0}\n",
        "        for j in range(len(motifs)):\n",
        "            prof_col[motifs[j][i]] += 1\n",
        "\n",
        "        # samo ovo je drugacije u odnosu na profile iz BA2D\n",
        "        for key in prof_col.keys():\n",
        "            prof_col[key] = (prof_col[key]+1)  / (len(motifs) +4)\n",
        "\n",
        "        prof.append(prof_col)\n",
        "  return prof"
      ],
      "metadata": {
        "id": "FT7xjSwyfABC"
      },
      "execution_count": 4,
      "outputs": []
    },
    {
      "cell_type": "code",
      "source": [
        "def GreedyMotifSearchWithPseoudocounts(k, t, Dna):\n",
        "\n",
        "    best_motif = list()\n",
        "    # prvi k-mer u svakoj dna - motif od njih\n",
        "    for i in range(t):\n",
        "        best_motif.append(Dna[i][0:k])\n",
        "\n",
        "    # za svaki k meru prvom dna\n",
        "    for a in range(len(Dna[0])-k+1):\n",
        "        motifs = list()\n",
        "        motifs.append(Dna[0][a:a+k])\n",
        "        for i in range(1, t):\n",
        "            # jedina razlika u odnosu na BA2D: umjesto profile - profile with pseudocounts\n",
        "            prof = profilePseudocounts(motifs[0:i])\n",
        "            motifs.append(profile_most_probable_kmer(Dna[i],k,prof))\n",
        "\n",
        "        if score(motifs,k,t) < score(best_motif,k,t):\n",
        "            best_motif = motifs[:]\n",
        "\n",
        "    return best_motif"
      ],
      "metadata": {
        "id": "muwetXfHp0cR"
      },
      "execution_count": 5,
      "outputs": []
    },
    {
      "cell_type": "code",
      "source": [
        "# sample dataset\n",
        "GreedyMotifSearchWithPseoudocounts(3,5,['GGCGTTCAGGCA',\n",
        "'AAGAATCAGTCA',\n",
        "'CAAGGAGTTCGC',\n",
        "'CACGTCAATCAC',\n",
        "'CAATAATATTCG'])"
      ],
      "metadata": {
        "colab": {
          "base_uri": "https://localhost:8080/"
        },
        "id": "5i6cfQ0SqDwB",
        "outputId": "4ceba6b2-b6d1-4d32-a88d-41df4eae3039"
      },
      "execution_count": 6,
      "outputs": [
        {
          "output_type": "execute_result",
          "data": {
            "text/plain": [
              "['TTC', 'ATC', 'TTC', 'ATC', 'TTC']"
            ]
          },
          "metadata": {},
          "execution_count": 6
        }
      ]
    },
    {
      "cell_type": "code",
      "source": [
        "# dataset\n",
        "with open('/content/rosalind_ba2e.txt') as input_data:\n",
        "\t\tk,t = map(int, input_data.readline().split())\n",
        "\t\tdna = [line.strip() for line in input_data.readlines()]"
      ],
      "metadata": {
        "id": "6DkLemsJt9pA"
      },
      "execution_count": null,
      "outputs": []
    },
    {
      "cell_type": "code",
      "source": [
        "results = GreedyMotifSearchWithPseoudocounts(k,t,dna)"
      ],
      "metadata": {
        "id": "Va7qXHeguCDx"
      },
      "execution_count": null,
      "outputs": []
    },
    {
      "cell_type": "code",
      "source": [
        "for result in results:\n",
        "  print(result)"
      ],
      "metadata": {
        "colab": {
          "base_uri": "https://localhost:8080/"
        },
        "id": "bd91vwEWuEEn",
        "outputId": "c1b76d35-b944-4bf8-bf94-1871e3587780"
      },
      "execution_count": null,
      "outputs": [
        {
          "output_type": "stream",
          "name": "stdout",
          "text": [
            "ATACTAATAGAC\n",
            "GGACTAATGGAA\n",
            "CCACTAATAGAC\n",
            "GTACTAATTGAG\n",
            "GCACTAATAGAT\n",
            "GTACTAATTGAC\n",
            "GCACTAATAGAT\n",
            "GCACTAATCGAC\n",
            "CTACTAATTGAC\n",
            "GGACTAATTGAT\n",
            "GCACTAATAGAT\n",
            "GGACTAATGGAA\n",
            "ATACTAATGGAA\n",
            "ACACTAATCGAG\n",
            "CGACTAATAGAG\n",
            "AAACTAATAGAC\n",
            "CTACTAATGGAT\n",
            "GGACTAATTGAT\n",
            "ACACTAATTGAT\n",
            "TGACTAATCGAC\n",
            "GTACTAATAGAA\n",
            "TGACTAATAGAA\n",
            "AGACTAATGGAT\n",
            "GAACTAATAGAG\n",
            "AGACTAATAGAC\n"
          ]
        }
      ]
    }
  ]
}