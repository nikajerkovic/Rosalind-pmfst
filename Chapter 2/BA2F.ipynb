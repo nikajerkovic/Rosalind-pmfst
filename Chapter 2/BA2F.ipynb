{
  "nbformat": 4,
  "nbformat_minor": 0,
  "metadata": {
    "colab": {
      "name": "BA2F.ipynb",
      "provenance": []
    },
    "kernelspec": {
      "name": "python3",
      "display_name": "Python 3"
    },
    "language_info": {
      "name": "python"
    }
  },
  "cells": [
    {
      "cell_type": "markdown",
      "source": [
        "## BA2F"
      ],
      "metadata": {
        "id": "P8wOy2XSyrR7"
      }
    },
    {
      "cell_type": "markdown",
      "source": [
        "**Implement RandomizedMotifSearch**\n",
        "\n",
        "Given: Positive integers k and t, followed by a collection of strings Dna.\n",
        "\n",
        "Return: A collection BestMotifs resulting from running RandomizedMotifSearch(Dna, k, t) 1000 times. Remember to use pseudocounts!"
      ],
      "metadata": {
        "id": "uSdrxMSBw49R"
      }
    },
    {
      "cell_type": "markdown",
      "source": [
        "Link: https://rosalind.info/problems/ba2f/"
      ],
      "metadata": {
        "id": "5mnGK0YAw7DW"
      }
    },
    {
      "cell_type": "markdown",
      "source": [
        "**Funkcije iz prethodnih zadataka koje se koriste:**"
      ],
      "metadata": {
        "id": "zxVtLrZBvFZh"
      }
    },
    {
      "cell_type": "code",
      "source": [
        "def profile(k_mers):\n",
        "    \n",
        "    prof= list(dict())\n",
        "\n",
        "    for i in range(len(k_mers[0])):\n",
        "        prof_col = {'A':0, 'C':0, 'G':0, 'T':0}\n",
        "        for j in range(len(k_mers)):\n",
        "            prof_col[k_mers[j][i]] += 1\n",
        "\n",
        "        # da dobijemo vjerojatnost\n",
        "        for key in prof_col.keys():\n",
        "            prof_col[key] = prof_col[key] / len(k_mers)\n",
        "\n",
        "        prof.append(prof_col)\n",
        "\n",
        "    return prof"
      ],
      "metadata": {
        "id": "bR6PXKjT7YP9"
      },
      "execution_count": 16,
      "outputs": []
    },
    {
      "cell_type": "code",
      "source": [
        "# malo drugačija funkcija od BA2C zbog drugacijeg formata inputa\n",
        "def profile_most_probable_kmer(dna, k, profile):\n",
        "    max_probability = 0\n",
        "    # postavljamo na prvi\n",
        "    most_probable = dna[0:k]\n",
        "    for i in range(len(dna)-k+1):\n",
        "        substr = dna[i:i+k]\n",
        "        probability = 1\n",
        "        for j in range(len(substr)):\n",
        "          probability *= profile[j][substr[j]]\n",
        "        if probability > max_probability:\n",
        "            most_probable = substr\n",
        "            max_probability = probability\n",
        "\n",
        "    return most_probable"
      ],
      "metadata": {
        "id": "AhJfVKP4ElvP"
      },
      "execution_count": 17,
      "outputs": []
    },
    {
      "cell_type": "code",
      "source": [
        "import collections\n",
        "def score(motifs,k,t):\n",
        "\n",
        "    columns = [''.join(sequence) for sequence in zip(*motifs)]\n",
        "    maxCount = 0\n",
        "    for column in columns:\n",
        "      maxCount += collections.Counter(column).most_common(1)[0][1]\n",
        "\n",
        "    return k*t - maxCount"
      ],
      "metadata": {
        "id": "6xE909e9U_KJ"
      },
      "execution_count": 18,
      "outputs": []
    },
    {
      "cell_type": "code",
      "source": [
        "def profilePseudocounts(motifs):\n",
        "  prof = list(dict())\n",
        "  for i in range(len(motifs[0])):\n",
        "        prof_col = {'A':0, 'C':0, 'G':0, 'T':0}\n",
        "        for j in range(len(motifs)):\n",
        "            prof_col[motifs[j][i]] += 1\n",
        "\n",
        "        # samo ovo je drugacije u odnosu na profile iz BA2D\n",
        "        for key in prof_col.keys():\n",
        "            prof_col[key] = (prof_col[key]+1)  / (len(motifs) +4)\n",
        "\n",
        "        prof.append(prof_col)\n",
        "  return prof"
      ],
      "metadata": {
        "id": "FT7xjSwyfABC"
      },
      "execution_count": 19,
      "outputs": []
    },
    {
      "cell_type": "markdown",
      "source": [
        "**Novo:**"
      ],
      "metadata": {
        "id": "0B-xoArSvC7I"
      }
    },
    {
      "cell_type": "code",
      "source": [
        "from random import randint"
      ],
      "metadata": {
        "id": "QFeKkIezMiiA"
      },
      "execution_count": 20,
      "outputs": []
    },
    {
      "cell_type": "code",
      "source": [
        "def MotifsFromProfile(dna, k, profile):\n",
        "  motifs_list = []\n",
        "  for seq in dna:\n",
        "    motifs_list.append(profile_most_probable_kmer(seq,k,profile))\n",
        "  \n",
        "  return motifs_list"
      ],
      "metadata": {
        "id": "sDaISLh4wyXc"
      },
      "execution_count": 21,
      "outputs": []
    },
    {
      "cell_type": "code",
      "source": [
        "def RandomizedMotifSearch(k,t,Dna):\n",
        "  best_motifs = list()\n",
        "  for i in Dna:\n",
        "    random_int = randint(0, len(i)-k)\n",
        "    best_motifs.append(i[random_int:random_int + k])\n",
        "    \n",
        "  while True:\n",
        "    prof = profilePseudocounts(best_motifs)\n",
        "    motifs = MotifsFromProfile(Dna,k,prof)\n",
        "    if score(motifs,k,t) < score(best_motifs,k,t):\n",
        "      best_motifs = motifs\n",
        "    else:\n",
        "      return best_motifs"
      ],
      "metadata": {
        "id": "KDZCzqEofJlz"
      },
      "execution_count": 22,
      "outputs": []
    },
    {
      "cell_type": "code",
      "source": [
        "def RandomizedMotifSearch_Iteration(k, t, Dna):\n",
        "\n",
        "  best_motifs = list()\n",
        "  for i in range(t):\n",
        "    best_motifs.append(Dna[i][0:k])\n",
        "  \n",
        "  count = 0\n",
        "  while count < 1000:\n",
        "    motifs = RandomizedMotifSearch(k,t,Dna)\n",
        "    if score(motifs,k,t) < score(best_motifs,k,t):\n",
        "        best_motifs = motifs\n",
        "    count += 1\n",
        "\n",
        "  return best_motifs"
      ],
      "metadata": {
        "id": "xpWIaAYGMXyB"
      },
      "execution_count": 23,
      "outputs": []
    },
    {
      "cell_type": "code",
      "source": [
        "# sample dataset\n",
        "with open('/content/sample_data/input.txt') as input_data:\n",
        "\t\tk,t = map(int, input_data.readline().split())\n",
        "\t\tdna = [line.strip() for line in input_data.readlines()]"
      ],
      "metadata": {
        "id": "QKJC_4xAQgwd"
      },
      "execution_count": 24,
      "outputs": []
    },
    {
      "cell_type": "code",
      "source": [
        "results = RandomizedMotifSearch_Iteration(k,t,dna)"
      ],
      "metadata": {
        "id": "RvR9bLmVRHuZ"
      },
      "execution_count": 25,
      "outputs": []
    },
    {
      "cell_type": "code",
      "source": [
        "for result in results:\n",
        "  print(result)"
      ],
      "metadata": {
        "colab": {
          "base_uri": "https://localhost:8080/"
        },
        "id": "2NYJBUTxhLy4",
        "outputId": "d9ffa8cf-7b4f-4fbe-8737-595f43247c41"
      },
      "execution_count": 26,
      "outputs": [
        {
          "output_type": "stream",
          "name": "stdout",
          "text": [
            "TCTCGGGG\n",
            "CCAAGGTG\n",
            "TACAGGCG\n",
            "TTCAGGTG\n",
            "TCCACGTG\n"
          ]
        }
      ]
    },
    {
      "cell_type": "code",
      "source": [
        "# dataset\n",
        "with open('/content/rosalind_ba2f.txt') as input_data:\n",
        "\t\tk,t = map(int, input_data.readline().split())\n",
        "\t\tdna = [line.strip() for line in input_data.readlines()]"
      ],
      "metadata": {
        "id": "fXkUMswrhfQK"
      },
      "execution_count": null,
      "outputs": []
    },
    {
      "cell_type": "code",
      "source": [
        "results = RandomizedMotifSearch_Iteration(k,t,dna)"
      ],
      "metadata": {
        "id": "aBqfBmBrhhtP"
      },
      "execution_count": null,
      "outputs": []
    },
    {
      "cell_type": "code",
      "source": [
        "for result in results:\n",
        "  print(result)"
      ],
      "metadata": {
        "colab": {
          "base_uri": "https://localhost:8080/"
        },
        "outputId": "2e549eef-7a8e-4de4-ff29-ec63d1ab87fd",
        "id": "NveG_vekhjpC"
      },
      "execution_count": null,
      "outputs": [
        {
          "output_type": "stream",
          "name": "stdout",
          "text": [
            "TGCTGTCTCCACCCG\n",
            "TGTACCCCCGAGCGT\n",
            "TGTTGTCCCGACATT\n",
            "TGTTCAACCGAGCGT\n",
            "CTCTGTCCCGAGCGT\n",
            "GATTGTCCCGAGCGG\n",
            "TGTTGTCCGAGGCGT\n",
            "TGAGCTCCCGAGCGT\n",
            "TAACGTCCCGAGCGT\n",
            "TGTTGTTGTGAGCGT\n",
            "TGTTTGACCGAGCGT\n",
            "TGTTGTCCCGCATGT\n",
            "AGTTGTCCCGAGCTG\n",
            "TGTTGTCCCGAGTAC\n",
            "TGTGTACCCGAGCGT\n",
            "TGTTGCATCGAGCGT\n",
            "TGTTGTTAGGAGCGT\n",
            "TGTTGTCCCTGACGT\n",
            "TGTTGTCGTTAGCGT\n",
            "TGTTGGAACGAGCGT\n"
          ]
        }
      ]
    }
  ]
}