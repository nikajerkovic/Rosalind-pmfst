{
  "nbformat": 4,
  "nbformat_minor": 0,
  "metadata": {
    "colab": {
      "name": "BA2F.ipynb",
      "provenance": []
    },
    "kernelspec": {
      "name": "python3",
      "display_name": "Python 3"
    },
    "language_info": {
      "name": "python"
    }
  },
  "cells": [
    {
      "cell_type": "markdown",
      "source": [
        "## BA2G"
      ],
      "metadata": {
        "id": "P8wOy2XSyrR7"
      }
    },
    {
      "cell_type": "markdown",
      "source": [
        "**Implement GibbsSampler**\n",
        "\n",
        "Given: Integers k, t, and N, followed by a collection of strings Dna.\n",
        "\n",
        "Return: The strings BestMotifs resulting from running GibbsSampler(Dna, k, t, N) with 20 random starts. Remember to use pseudocounts!"
      ],
      "metadata": {
        "id": "wW-Z_vZYhG24"
      }
    },
    {
      "cell_type": "markdown",
      "source": [
        "Link: https://rosalind.info/problems/ba2g/"
      ],
      "metadata": {
        "id": "2WD0eV5WxMIF"
      }
    },
    {
      "cell_type": "markdown",
      "source": [
        "**Funkcije iz prethodnih zadataka koje se koriste:**"
      ],
      "metadata": {
        "id": "zxVtLrZBvFZh"
      }
    },
    {
      "cell_type": "code",
      "source": [
        "def profile(k_mers):\n",
        "    \n",
        "    prof= list(dict())\n",
        "\n",
        "    for i in range(len(k_mers[0])):\n",
        "        prof_col = {'A':0, 'C':0, 'G':0, 'T':0}\n",
        "        for j in range(len(k_mers)):\n",
        "            prof_col[k_mers[j][i]] += 1\n",
        "\n",
        "        # da dobijemo vjerojatnost\n",
        "        for key in prof_col.keys():\n",
        "            prof_col[key] = prof_col[key] / len(k_mers)\n",
        "\n",
        "        prof.append(prof_col)\n",
        "\n",
        "    return prof"
      ],
      "metadata": {
        "id": "bR6PXKjT7YP9"
      },
      "execution_count": null,
      "outputs": []
    },
    {
      "cell_type": "code",
      "source": [
        "# malo drugačija funkcija od BA2C zbog drugacijeg formata inputa\n",
        "def profile_most_probable_kmer(dna, k, profile):\n",
        "    max_probability = 0\n",
        "    # postavljamo na prvi\n",
        "    most_probable = dna[0:k]\n",
        "    for i in range(len(dna)-k+1):\n",
        "        substr = dna[i:i+k]\n",
        "        probability = 1\n",
        "        for j in range(len(substr)):\n",
        "          probability *= profile[j][substr[j]]\n",
        "        if probability > max_probability:\n",
        "            most_probable = substr\n",
        "            max_probability = probability\n",
        "\n",
        "    return most_probable"
      ],
      "metadata": {
        "id": "AhJfVKP4ElvP"
      },
      "execution_count": null,
      "outputs": []
    },
    {
      "cell_type": "code",
      "source": [
        "import collections\n",
        "def score(motifs,k,t):\n",
        "\n",
        "    columns = [''.join(sequence) for sequence in zip(*motifs)]\n",
        "    maxCount = 0\n",
        "    for column in columns:\n",
        "      maxCount += collections.Counter(column).most_common(1)[0][1]\n",
        "\n",
        "    return k*t - maxCount"
      ],
      "metadata": {
        "id": "6xE909e9U_KJ"
      },
      "execution_count": null,
      "outputs": []
    },
    {
      "cell_type": "code",
      "source": [
        "def profilePseudocounts(motifs):\n",
        "  prof = list(dict())\n",
        "  for i in range(len(motifs[0])):\n",
        "        prof_col = {'A':0, 'C':0, 'G':0, 'T':0}\n",
        "        for j in range(len(motifs)):\n",
        "            prof_col[motifs[j][i]] += 1\n",
        "\n",
        "        # samo ovo je drugacije u odnosu na profile iz BA2D\n",
        "        for key in prof_col.keys():\n",
        "            prof_col[key] = (prof_col[key]+1)  / (len(motifs) +4)\n",
        "\n",
        "        prof.append(prof_col)\n",
        "  return prof"
      ],
      "metadata": {
        "id": "FT7xjSwyfABC"
      },
      "execution_count": null,
      "outputs": []
    },
    {
      "cell_type": "markdown",
      "source": [
        "**Novo:**"
      ],
      "metadata": {
        "id": "0B-xoArSvC7I"
      }
    },
    {
      "cell_type": "code",
      "source": [
        "from random import randint"
      ],
      "metadata": {
        "id": "QFeKkIezMiiA"
      },
      "execution_count": null,
      "outputs": []
    },
    {
      "cell_type": "code",
      "source": [
        "def GibbsSampler(k,t,Dna,N):\n",
        "  \n",
        "  motifs = list()\n",
        "  for i in Dna:\n",
        "    random_int = randint(0, len(i)-k)\n",
        "    motifs.append(i[random_int:random_int + k])\n",
        "\n",
        "  best = [score(motifs,k,t), motifs]\n",
        "\n",
        "  for j in range(N):\n",
        "    random_position = randint(0,t-1)\n",
        "    prof = profilePseudocounts([motif for i, motif in enumerate(motifs) if i !=random_position ])\n",
        "    motifs = [profile_most_probable_kmer(dna[i],k,prof) if i == random_position else motif for i,motif in enumerate(motifs)]\n",
        "    current_score = score(motifs,k,t)\n",
        "    if current_score < best[0]:\n",
        "      best = [current_score, motifs]\n",
        "\n",
        "  return best"
      ],
      "metadata": {
        "id": "XrD52uxZb9GJ"
      },
      "execution_count": null,
      "outputs": []
    },
    {
      "cell_type": "code",
      "source": [
        "def GibbsSampler_Iteration(k,t,Dna,N):\n",
        "  \n",
        "  best_motifs = [k*t, None]\n",
        "\n",
        "  count = 0\n",
        "  while count <= 20:\n",
        "    current_motifs =GibbsSampler(k,t,dna,N)\n",
        "    if current_motifs[0] < best_motifs[0]:\n",
        "      best_motifs = current_motifs\n",
        "    count += 1\n",
        "\n",
        "  return best_motifs[1]"
      ],
      "metadata": {
        "id": "P1BT_hv_8Cze"
      },
      "execution_count": null,
      "outputs": []
    },
    {
      "cell_type": "code",
      "source": [
        "# sample dataset\n",
        "with open('/content/sample_data/input.txt') as input_data:\n",
        "\t\tk,t,N= map(int, input_data.readline().split())\n",
        "\t\tdna = [line.strip() for line in input_data.readlines()]"
      ],
      "metadata": {
        "id": "cqmq8g0m2yru"
      },
      "execution_count": null,
      "outputs": []
    },
    {
      "cell_type": "code",
      "source": [
        "GibbsSampler_Iteration(k,t,dna,N)"
      ],
      "metadata": {
        "colab": {
          "base_uri": "https://localhost:8080/"
        },
        "id": "eDCtHjoo8Rkf",
        "outputId": "93a1d2d4-a0b9-4dac-f192-102aa8ba62fc"
      },
      "execution_count": null,
      "outputs": [
        {
          "output_type": "execute_result",
          "data": {
            "text/plain": [
              "['TCTCGGGG', 'CCAAGGTG', 'TACAGGCG', 'TTCAGGTG', 'TCCACGTG']"
            ]
          },
          "metadata": {},
          "execution_count": 138
        }
      ]
    },
    {
      "cell_type": "code",
      "source": [
        "# dataset\n",
        "with open('/content/rosalind_ba2g.txt') as input_data:\n",
        "\t\tk,t,N= map(int, input_data.readline().split())\n",
        "\t\tdna = [line.strip() for line in input_data.readlines()]"
      ],
      "metadata": {
        "id": "bjnNIPYJ4O4l"
      },
      "execution_count": null,
      "outputs": []
    },
    {
      "cell_type": "code",
      "source": [
        "results = GibbsSampler_Iteration(k,t,dna,N)"
      ],
      "metadata": {
        "id": "hd8NXqxy9yZZ"
      },
      "execution_count": null,
      "outputs": []
    },
    {
      "cell_type": "code",
      "source": [
        "for result in results:\n",
        "  print(result)"
      ],
      "metadata": {
        "colab": {
          "base_uri": "https://localhost:8080/"
        },
        "id": "lPC7n2Cm4Sb0",
        "outputId": "9da0a2c5-7dff-4660-99c0-b531569e85bc"
      },
      "execution_count": null,
      "outputs": [
        {
          "output_type": "stream",
          "name": "stdout",
          "text": [
            "TAAAGGCCCGGAACT\n",
            "TAATATGCCTGAACA\n",
            "CTAACCGCCTGAACG\n",
            "TAACGAGCCTGAACA\n",
            "TAAACCAATTGAACA\n",
            "TAAATAACCTGAACA\n",
            "TAAACCGTTGGAACA\n",
            "TAAACCGCGGTAACA\n",
            "TAAAGAACCTGAACA\n",
            "TAAACCGCCGCCACA\n",
            "TAAACCGCCTGGTTA\n",
            "TAAACATGCTGAACA\n",
            "TCTGCCGCCTGAACA\n",
            "TAAACCCGTTGAACA\n",
            "TAAACCGCCTAGGCA\n",
            "CAAACCGCCTGAAGC\n",
            "TAAACCGCCTGATAT\n",
            "TAAACTTTCTGAACA\n",
            "GTTACCGCCTGAACA\n",
            "TACGACGCCTGAACA\n"
          ]
        }
      ]
    }
  ]
}