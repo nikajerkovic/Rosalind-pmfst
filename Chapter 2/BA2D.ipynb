{
  "nbformat": 4,
  "nbformat_minor": 0,
  "metadata": {
    "colab": {
      "name": "BA2D.ipynb",
      "provenance": []
    },
    "kernelspec": {
      "name": "python3",
      "display_name": "Python 3"
    },
    "language_info": {
      "name": "python"
    }
  },
  "cells": [
    {
      "cell_type": "markdown",
      "source": [
        "## BA2D"
      ],
      "metadata": {
        "id": "P8wOy2XSyrR7"
      }
    },
    {
      "cell_type": "markdown",
      "source": [
        "**Implement GreedyMotifSearch**\n",
        "\n",
        "Given: Integers k and t, followed by a collection of strings Dna.\n",
        "\n",
        "Return: A collection of strings BestMotifs resulting from running GreedyMotifSearch(Dna, k, t). If at any step you find more than one Profile-most probable k-mer in a given string, use the one occurring first."
      ],
      "metadata": {
        "id": "-03yvreRSnmm"
      }
    },
    {
      "cell_type": "markdown",
      "source": [
        "Link: https://rosalind.info/problems/ba2d/"
      ],
      "metadata": {
        "id": "2T9UzZxSSxgT"
      }
    },
    {
      "cell_type": "code",
      "source": [
        "def profile(k_mers):\n",
        "    \n",
        "    # svaki dictionary je stupac u profilu\n",
        "    prof= list(dict())\n",
        "\n",
        "    # prvo po slovima, pa po k merovima\n",
        "    for i in range(len(k_mers[0])):\n",
        "        prof_col = {'A':0, 'C':0, 'G':0, 'T':0}\n",
        "        for j in range(len(k_mers)):\n",
        "            prof_col[k_mers[j][i]] += 1\n",
        "\n",
        "        # da dobijemo vjerojatnost\n",
        "        for key in prof_col.keys():\n",
        "            prof_col[key] = prof_col[key] / len(k_mers)\n",
        "\n",
        "        prof.append(prof_col)\n",
        "\n",
        "    return prof"
      ],
      "metadata": {
        "id": "bR6PXKjT7YP9"
      },
      "execution_count": null,
      "outputs": []
    },
    {
      "cell_type": "code",
      "source": [
        "# malo drugačija funkcija od BA2C zbog drugacijeg formata inputa\n",
        "def profile_most_probable_kmer(dna, k, profile):\n",
        "  \n",
        "    max_probability = 0\n",
        "    # postavljamo na prvi\n",
        "    most_probable = dna[0:k]\n",
        "\n",
        "    for i in range(len(dna)-k+1):\n",
        "        substr = dna[i:i+k]\n",
        "        probability = 1\n",
        "        for j in range(len(substr)):\n",
        "          probability *= profile[j][substr[j]]\n",
        "        if probability > max_probability:\n",
        "            most_probable = substr\n",
        "            max_probability = probability\n",
        "\n",
        "    return most_probable"
      ],
      "metadata": {
        "id": "AhJfVKP4ElvP"
      },
      "execution_count": null,
      "outputs": []
    },
    {
      "cell_type": "code",
      "source": [
        "import collections\n",
        "def score(motifs,k,t):\n",
        "    # od npr. ['GGC', 'AAG', 'AAG', 'CAC', 'CAA'] dobijemo 5 redaka i 3 stupca(columns)\n",
        "    # ['GAACC', 'GAAAA', 'CGGCA']\n",
        "    columns = [''.join(sequence) for sequence in zip(*motifs)]\n",
        "    maxCount = 0\n",
        "    for column in columns:\n",
        "      maxCount += collections.Counter(column).most_common(1)[0][1]\n",
        "    return k*t - maxCount"
      ],
      "metadata": {
        "id": "6xE909e9U_KJ"
      },
      "execution_count": null,
      "outputs": []
    },
    {
      "cell_type": "code",
      "source": [
        "def GreedyMotifSearch(k, t, Dna):\n",
        "\n",
        "    best_motif = list()\n",
        "    # prvi k-mer u svakoj dna - motif od njih\n",
        "    for i in range(t):\n",
        "        best_motif.append(Dna[i][0:k])\n",
        "\n",
        "    # za svaki k meru u prvom dna\n",
        "    for a in range(len(Dna[0])-k+1):\n",
        "        motifs = list()\n",
        "        motifs.append(Dna[0][a:a+k])\n",
        "        for i in range(1, t):\n",
        "            prof = profile(motifs[0:i])\n",
        "            motifs.append(profile_most_probable_kmer(Dna[i],k,prof))\n",
        "\n",
        "        if score(motifs,k,t) < score(best_motif,k,t):\n",
        "            best_motif = motifs[:]\n",
        "\n",
        "    return best_motif"
      ],
      "metadata": {
        "id": "YpudNwhpw36a"
      },
      "execution_count": null,
      "outputs": []
    },
    {
      "cell_type": "code",
      "source": [
        "# sample dataset\n",
        "GreedyMotifSearch(3,5,['GGCGTTCAGGCA',\n",
        "'AAGAATCAGTCA',\n",
        "'CAAGGAGTTCGC',\n",
        "'CACGTCAATCAC',\n",
        "'CAATAATATTCG'])"
      ],
      "metadata": {
        "colab": {
          "base_uri": "https://localhost:8080/"
        },
        "id": "Zg67TKnRvOSt",
        "outputId": "1dfe87b1-3698-4a6a-f644-8b6f61601764"
      },
      "execution_count": null,
      "outputs": [
        {
          "output_type": "execute_result",
          "data": {
            "text/plain": [
              "['CAG', 'CAG', 'CAA', 'CAA', 'CAA']"
            ]
          },
          "metadata": {},
          "execution_count": 265
        }
      ]
    },
    {
      "cell_type": "code",
      "source": [
        "# dataset\n",
        "with open('/content/rosalind_ba2d.txt') as input_data:\n",
        "\t\tk,t = map(int, input_data.readline().split())\n",
        "\t\tdna = [line.strip() for line in input_data.readlines()]"
      ],
      "metadata": {
        "id": "2MR1wfIGb4sL"
      },
      "execution_count": null,
      "outputs": []
    },
    {
      "cell_type": "code",
      "source": [
        "results = GreedyMotifSearch(k,t,dna)"
      ],
      "metadata": {
        "id": "F8g08ZelcgEX"
      },
      "execution_count": null,
      "outputs": []
    },
    {
      "cell_type": "code",
      "source": [
        "for result in results:\n",
        "  print(result)"
      ],
      "metadata": {
        "colab": {
          "base_uri": "https://localhost:8080/"
        },
        "id": "EKuwAafPcu_v",
        "outputId": "447dc259-79da-4738-a52f-8ca9837464f3"
      },
      "execution_count": null,
      "outputs": [
        {
          "output_type": "stream",
          "name": "stdout",
          "text": [
            "AGCGCCTGCCTC\n",
            "GTGTGCCGGGCA\n",
            "ATCTTCCCTTGG\n",
            "GGAATAGGCTAG\n",
            "ACAAAGAAAACC\n",
            "GGGTTAAGGTCA\n",
            "GGGAACAGCTAA\n",
            "ATGACCCGTCCA\n",
            "GTGTACCGCTGA\n",
            "GGGGCCCGCTCA\n",
            "GGGGTCACGTTG\n",
            "GGGAACCCAGCA\n",
            "GGGAACTGATAG\n",
            "GCGTTCCGCTGA\n",
            "AGGATCCATCGC\n",
            "GGGTCCTAGTCG\n",
            "GGGGACGGATCA\n",
            "GTGGACGGATAA\n",
            "ACGATCTGTTCA\n",
            "GTGTAGTGTTGG\n",
            "GTGAACCGACCG\n",
            "AGGATCGCGCCA\n",
            "AGCATCCGGGCA\n",
            "ATCGTCCGATCG\n",
            "AGCGACCACTGG\n"
          ]
        }
      ]
    }
  ]
}