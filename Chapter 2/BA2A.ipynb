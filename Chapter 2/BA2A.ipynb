{
  "nbformat": 4,
  "nbformat_minor": 0,
  "metadata": {
    "colab": {
      "name": "BA2A.ipynb",
      "provenance": []
    },
    "kernelspec": {
      "name": "python3",
      "display_name": "Python 3"
    },
    "language_info": {
      "name": "python"
    }
  },
  "cells": [
    {
      "cell_type": "markdown",
      "source": [
        "## BA2A"
      ],
      "metadata": {
        "id": "pRNEvQcPqd8a"
      }
    },
    {
      "cell_type": "markdown",
      "source": [
        "Given a collection of strings Dna and an integer d, a k-mer is a (k,d)-motif if it appears in every string from Dna with at most d mismatches. The following algorithm finds (k,d)-motifs.\n",
        "\n",
        "Implanted Motif Problem\n",
        "\n",
        "Implement MotifEnumeration (shown above) to find all (k, d)-motifs in a collection of strings.\n",
        "\n",
        "Given: Integers k and d, followed by a collection of strings Dna.\n",
        "\n",
        "Return: All (k, d)-motifs in Dna."
      ],
      "metadata": {
        "id": "hHZM3U_Yqki4"
      }
    },
    {
      "cell_type": "markdown",
      "source": [
        "Link: https://rosalind.info/problems/ba2a/"
      ],
      "metadata": {
        "id": "t-2zVoWbqpko"
      }
    },
    {
      "cell_type": "code",
      "source": [
        "import itertools\n",
        "\n",
        "def combination(k):\n",
        "    return (''.join(p) for p in itertools.product('ATCG', repeat=k))\n",
        "\n",
        "def hamming_distance(pattern, seq):\n",
        "    return sum(c1 != c2 for c1, c2 in zip(pattern, seq))\n",
        "\n",
        "def window(s, k):\n",
        "    for i in range(1 + len(s) - k):\n",
        "        yield s[i:i+k]\n",
        "\n",
        "def in_window(combo, string, k, d):\n",
        "  \n",
        "    return any(hamming_distance(combo, pat) <= d for pat in window(string, k))\n",
        "\n",
        "def motif_enumeration(k, d, DNA):\n",
        "    pattern = set()\n",
        "    for combo in combination(k):\n",
        "        if all(in_window(combo, string, k, d) for string in DNA):\n",
        "            pattern.add(combo)\n",
        "    return pattern"
      ],
      "metadata": {
        "id": "DOOXDnZftg4r"
      },
      "execution_count": 35,
      "outputs": []
    },
    {
      "cell_type": "code",
      "source": [
        "# sample dataset\n",
        "motif_enumeration(3, 1,\n",
        "[\"ATTTGGC\",\n",
        "\"TGCCTTA\",\n",
        "\"CGGTATC\",\n",
        "\"GAAAATT\"])"
      ],
      "metadata": {
        "colab": {
          "base_uri": "https://localhost:8080/"
        },
        "id": "B8QAotz9QxUu",
        "outputId": "ac0fae5c-7f4f-4451-d34a-6b594467da88"
      },
      "execution_count": 36,
      "outputs": [
        {
          "output_type": "execute_result",
          "data": {
            "text/plain": [
              "{'ATA', 'ATT', 'GTT', 'TTT'}"
            ]
          },
          "metadata": {},
          "execution_count": 36
        }
      ]
    },
    {
      "cell_type": "code",
      "source": [
        "result_set = motif_enumeration(5,2,[\"CTGTCTCTGCTGGCCTCGCCAGGAT\",\n",
        "\"TAAACGGGATTGCGCGTTGTTGACA\",\n",
        "\"AGATTATACCGTTGGCGGAGGCGAA\",\n",
        "\"TATGGAGGAAGGCTAAGATCTGAAC\",\n",
        "\"TGCCACATTATGAATCTTGTCGGAA\",\n",
        "\"GGGACGTCAGTGTAACAAACAGGAC\",\n",
        "\"CATGGTGCAGAAAGACGGAGAGGTC\",\n",
        "\"GGGAATTGGCAAGAATAGCACTCCT\",\n",
        "\"TTGCAAGGACTAAAGGAGGGCTTTT\",\n",
        "\"TGATCGATCGAGGACTTCCAAGTAG\"])"
      ],
      "metadata": {
        "colab": {
          "base_uri": "https://localhost:8080/"
        },
        "id": "qlh5I3tXtrms",
        "outputId": "1dbd259f-3973-4136-bf3c-c628590435c2"
      },
      "execution_count": null,
      "outputs": [
        {
          "output_type": "stream",
          "name": "stdout",
          "text": [
            "<generator object combination.<locals>.<genexpr> at 0x7f5f8381af50>\n"
          ]
        }
      ]
    },
    {
      "cell_type": "code",
      "source": [
        "textfile = open(\"result.txt\", \"w\")\n",
        "for element in result_set:\n",
        "  textfile.write(str(element) + \" \")"
      ],
      "metadata": {
        "id": "jUVR3FUC0V1N"
      },
      "execution_count": null,
      "outputs": []
    }
  ]
}