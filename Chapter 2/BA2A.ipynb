{
  "nbformat": 4,
  "nbformat_minor": 0,
  "metadata": {
    "colab": {
      "name": "BA2A.ipynb",
      "provenance": []
    },
    "kernelspec": {
      "name": "python3",
      "display_name": "Python 3"
    },
    "language_info": {
      "name": "python"
    }
  },
  "cells": [
    {
      "cell_type": "markdown",
      "source": [
        "## BA2A"
      ],
      "metadata": {
        "id": "P8wOy2XSyrR7"
      }
    },
    {
      "cell_type": "markdown",
      "source": [
        "Given a collection of strings Dna and an integer d, a k-mer is a (k,d)-motif if it appears in every string from Dna with at most d mismatches. The following algorithm finds (k,d)-motifs.\n",
        "\n",
        "Implanted Motif Problem\n",
        "\n",
        "Implement MotifEnumeration (shown above) to find all (k, d)-motifs in a collection of strings.\n",
        "\n",
        "Given: Integers k and d, followed by a collection of strings Dna.\n",
        "\n",
        "Return: All (k, d)-motifs in Dna."
      ],
      "metadata": {
        "id": "hHZM3U_Yqki4"
      }
    },
    {
      "cell_type": "markdown",
      "source": [
        "Link: https://rosalind.info/problems/ba2a/"
      ],
      "metadata": {
        "id": "t-2zVoWbqpko"
      }
    },
    {
      "cell_type": "code",
      "source": [
        "# iz chaptera 1\n",
        "def hamming(dna1,dna2):\n",
        "  counter=0\n",
        "  for i, j in zip(dna1,dna2):\n",
        "    if i != j:\n",
        "      counter+=1\n",
        "\n",
        "  return counter"
      ],
      "metadata": {
        "id": "_KcpP3yeZjQV"
      },
      "execution_count": 1,
      "outputs": []
    },
    {
      "cell_type": "code",
      "source": [
        "import itertools\n",
        "\n",
        "def combination(k):\n",
        "    return (''.join(p) for p in itertools.product('ATCG', repeat=k))\n",
        "\n",
        "def window(s, k):\n",
        "    for i in range(1 + len(s) - k):\n",
        "        yield s[i:i+k]\n",
        "\n",
        "def in_window(combo, string, k, d):\n",
        "  \n",
        "    return any(hamming(combo, pat) <= d for pat in window(string, k))\n",
        "\n",
        "def motif_enumeration(k, d, DNA):\n",
        "    pattern = set()\n",
        "    for combo in combination(k):\n",
        "        if all(in_window(combo, string, k, d) for string in DNA):\n",
        "            pattern.add(combo)\n",
        "    return pattern"
      ],
      "metadata": {
        "id": "DOOXDnZftg4r"
      },
      "execution_count": 2,
      "outputs": []
    },
    {
      "cell_type": "code",
      "source": [
        "# sample dataset\n",
        "motif_enumeration(3,1,[\n",
        "\"ATTTGGC\",\n",
        "\"TGCCTTA\",\n",
        "\"CGGTATC\",\n",
        "\"GAAAATT\"])"
      ],
      "metadata": {
        "colab": {
          "base_uri": "https://localhost:8080/"
        },
        "id": "IO6ksmSzIEVw",
        "outputId": "c23f8f1f-a8ac-4202-97df-7a4a48bff664"
      },
      "execution_count": 3,
      "outputs": [
        {
          "output_type": "execute_result",
          "data": {
            "text/plain": [
              "{'ATA', 'ATT', 'GTT', 'TTT'}"
            ]
          },
          "metadata": {},
          "execution_count": 3
        }
      ]
    },
    {
      "cell_type": "code",
      "source": [
        "# dataset \n",
        "result_set = motif_enumeration(5,2,[\"CTGTCTCTGCTGGCCTCGCCAGGAT\",\n",
        "\"TAAACGGGATTGCGCGTTGTTGACA\",\n",
        "\"AGATTATACCGTTGGCGGAGGCGAA\",\n",
        "\"TATGGAGGAAGGCTAAGATCTGAAC\",\n",
        "\"TGCCACATTATGAATCTTGTCGGAA\",\n",
        "\"GGGACGTCAGTGTAACAAACAGGAC\",\n",
        "\"CATGGTGCAGAAAGACGGAGAGGTC\",\n",
        "\"GGGAATTGGCAAGAATAGCACTCCT\",\n",
        "\"TTGCAAGGACTAAAGGAGGGCTTTT\",\n",
        "\"TGATCGATCGAGGACTTCCAAGTAG\"])"
      ],
      "metadata": {
        "id": "qlh5I3tXtrms"
      },
      "execution_count": 4,
      "outputs": []
    },
    {
      "cell_type": "code",
      "source": [
        "textfile = open(\"result.txt\", \"w\")\n",
        "for element in result_set:\n",
        "  textfile.write(str(element) + \" \")"
      ],
      "metadata": {
        "id": "jUVR3FUC0V1N"
      },
      "execution_count": 5,
      "outputs": []
    }
  ]
}