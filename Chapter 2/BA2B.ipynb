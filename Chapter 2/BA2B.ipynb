{
  "nbformat": 4,
  "nbformat_minor": 0,
  "metadata": {
    "colab": {
      "name": "BA2B.ipynb",
      "provenance": []
    },
    "kernelspec": {
      "name": "python3",
      "display_name": "Python 3"
    },
    "language_info": {
      "name": "python"
    }
  },
  "cells": [
    {
      "cell_type": "markdown",
      "source": [
        "## BA2B"
      ],
      "metadata": {
        "id": "P8wOy2XSyrR7"
      }
    },
    {
      "cell_type": "markdown",
      "source": [
        "Given a k-mer Pattern and a longer string Text, we use d(Pattern, Text) to denote the minimum Hamming distance between Pattern and any k-mer in Text,\n",
        "\n",
        "d(Pattern,Text)=minall k-mers Pattern' in TextHammingDistance(Pattern,Pattern′).\n",
        "\n",
        "Given a k-mer Pattern and a set of strings Dna = {Dna1, … , Dnat}, we define d(Pattern, Dna) as the sum of distances between Pattern and all strings in Dna,\n",
        "\n",
        "d(Pattern,Dna)=∑i=1td(Pattern,Dnai).\n",
        "\n",
        "Our goal is to find a k-mer Pattern that minimizes d(Pattern, Dna) over all k-mers Pattern, the same task that the Equivalent Motif Finding Problem is trying to achieve. We call such a k-mer a median string for Dna.\n",
        "\n",
        "**Median String Problem**\n",
        "\n",
        "Find a median string.\n",
        "\n",
        "Given: An integer k and a collection of strings Dna.\n",
        "\n",
        "Return: A k-mer Pattern that minimizes d(Pattern, Dna) over all k-mers Pattern. (If multiple answers exist, you may return any one.)"
      ],
      "metadata": {
        "id": "7Hajq3BFy_c7"
      }
    },
    {
      "cell_type": "markdown",
      "source": [
        "Link: https://rosalind.info/problems/ba2b/"
      ],
      "metadata": {
        "id": "AOIBuF4PzFlD"
      }
    },
    {
      "cell_type": "code",
      "source": [
        "# iz chaptera 1\n",
        "def hamming(dna1,dna2):\n",
        "  counter=0\n",
        "  for i, j in zip(dna1,dna2):\n",
        "    if i != j:\n",
        "      counter+=1\n",
        "\n",
        "  return counter"
      ],
      "metadata": {
        "id": "_KcpP3yeZjQV"
      },
      "execution_count": 1,
      "outputs": []
    },
    {
      "cell_type": "code",
      "source": [
        "import itertools\n",
        "def all_kmers(k):\n",
        "  bases=['A','T','G','C']\n",
        "  return [''.join(p) for p in itertools.product(bases, repeat=k)]"
      ],
      "metadata": {
        "id": "Rcu4iZDBly6v"
      },
      "execution_count": 2,
      "outputs": []
    },
    {
      "cell_type": "code",
      "source": [
        "def MedianString(k,dna):\n",
        "  candidates = all_kmers(k)\n",
        "  best = [k*len(candidates) + 1, None]\n",
        "  for candidate in candidates:\n",
        "    count = 0\n",
        "    # Jedan više nego najveći mogući score\n",
        "    for i in dna:\n",
        "      minimum = min([hamming(i[j:j+k],candidate) for j in range(len(i)-k+1)])\n",
        "      count += minimum \n",
        "  \n",
        "    if count < best[0]:\n",
        "      best = [count, ''.join(candidate)]\n",
        "\n",
        "  return best"
      ],
      "metadata": {
        "id": "KQx5nxtmn3jB"
      },
      "execution_count": 3,
      "outputs": []
    },
    {
      "cell_type": "code",
      "source": [
        "# sample dataset\n",
        "dna = ['AAATTGACGCAT',\n",
        "'GACGACCACGTT',\n",
        "'CGTCAGCGCCTG',\n",
        "'GCTGAGCACCGG',\n",
        "'AGTACGGGACAG']\n",
        "MedianString(3,dna)"
      ],
      "metadata": {
        "colab": {
          "base_uri": "https://localhost:8080/"
        },
        "id": "F1v_Ob-snJZt",
        "outputId": "da6492aa-225d-4686-caac-aa621bed3e99"
      },
      "execution_count": 4,
      "outputs": [
        {
          "output_type": "execute_result",
          "data": {
            "text/plain": [
              "[2, 'ACG']"
            ]
          },
          "metadata": {},
          "execution_count": 4
        }
      ]
    },
    {
      "cell_type": "code",
      "source": [
        "# dataset\n",
        "MedianString(6,['GTTATCTGGGTAAGCCTCGTGACTACTTGGTGAACAGTGGCC',\n",
        "'AAGGCGTTATAGGGGGGACTCCGATGCTCCGTGTCTTTCGAC',\n",
        "'CCTTGTTACTATGGTACGGTGACTCGGATCCTCCAAGGCCTC',\n",
        "'GTGTCTACCGACTAAACCACGACGCGTACAGGTAGTCCTTAC',\n",
        "'ACATTGTATCGCCTGGCTGTGTCTTTGGAGTCGCGAAGGGCC',\n",
        "'GTGCCTAAGCCGGGAGCCGGAGGGTACACTCCCGGTTCCACC',\n",
        "'GTATATTCTACTGGGCGCTCCGTTTCGCGCGCCACCGTGCCT',\n",
        "'CCGTCTGTGACTATTGATAAGCGGCTGCGGGACTTTTCACCT',\n",
        "'CGTCCCGTGCCTTGTTGCGTGCCGGGGCCTTCATAAGCCTCG',\n",
        "'TCCAAACGCCCTTTTCGGGTGTCTACTTATCAGGGGAGTAAG'])\n"
      ],
      "metadata": {
        "colab": {
          "base_uri": "https://localhost:8080/"
        },
        "id": "MM8OtPIxr771",
        "outputId": "75c8db4e-8b6a-465e-887c-f1d9ae6f8dc6"
      },
      "execution_count": 5,
      "outputs": [
        {
          "output_type": "execute_result",
          "data": {
            "text/plain": [
              "[6, 'GTGTCT']"
            ]
          },
          "metadata": {},
          "execution_count": 5
        }
      ]
    }
  ]
}