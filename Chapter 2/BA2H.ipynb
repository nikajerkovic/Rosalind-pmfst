{
  "nbformat": 4,
  "nbformat_minor": 0,
  "metadata": {
    "colab": {
      "name": "BA2H.ipynb",
      "provenance": []
    },
    "kernelspec": {
      "name": "python3",
      "display_name": "Python 3"
    },
    "language_info": {
      "name": "python"
    }
  },
  "cells": [
    {
      "cell_type": "markdown",
      "source": [
        "## BA2H"
      ],
      "metadata": {
        "id": "P8wOy2XSyrR7"
      }
    },
    {
      "cell_type": "markdown",
      "source": [
        "**Compute DistanceBetweenPatternAndStrings**\n",
        "\n",
        "Find the distance between a pattern and a set of strings.\n",
        "\n",
        "Given: A DNA string Pattern and a collection of DNA strings Dna.\n",
        "\n",
        "Return: DistanceBetweenPatternAndStrings(Pattern, Dna)."
      ],
      "metadata": {
        "id": "j8Mb-rkoAMO-"
      }
    },
    {
      "cell_type": "markdown",
      "source": [
        "Link: https://rosalind.info/problems/ba2h/"
      ],
      "metadata": {
        "id": "hPUNKxTLAQO_"
      }
    },
    {
      "cell_type": "code",
      "source": [
        "# iz chaptera 1\n",
        "def hamming(dna1,dna2):\n",
        "  counter=0\n",
        "  for i, j in zip(dna1,dna2):\n",
        "    if i != j:\n",
        "      counter+=1\n",
        "\n",
        "  return counter"
      ],
      "metadata": {
        "id": "_KcpP3yeZjQV"
      },
      "execution_count": null,
      "outputs": []
    },
    {
      "cell_type": "code",
      "source": [
        "import sys"
      ],
      "metadata": {
        "id": "Gb3Bn-kBCBjb"
      },
      "execution_count": null,
      "outputs": []
    },
    {
      "cell_type": "code",
      "source": [
        "def DistanceBetweenPatternAndStrings(Pattern,Dna):\n",
        "  k = len(Pattern)\n",
        "  distance = 0\n",
        "\n",
        "  for string_text in Dna:\n",
        "    hamming_distance = sys.maxsize\n",
        "    for i in range(len(string_text)-k+1):\n",
        "      if hamming_distance > hamming(Pattern, string_text[i:i+k]):\n",
        "        hamming_distance =  hamming(Pattern, string_text[i:i+k])\n",
        "\n",
        "    distance += hamming_distance\n",
        "\n",
        "  return distance\n"
      ],
      "metadata": {
        "id": "iTfRJd34ADoI"
      },
      "execution_count": null,
      "outputs": []
    },
    {
      "cell_type": "code",
      "source": [
        "# sample dataset\n",
        "DistanceBetweenPatternAndStrings('AAA', ['TTACCTTAAC', 'GATATCTGTC' ,'ACGGCGTTCG' ,'CCCTAAAGAG', 'CGTCAGAGGT'])"
      ],
      "metadata": {
        "colab": {
          "base_uri": "https://localhost:8080/"
        },
        "id": "wOjOqzYPDE_8",
        "outputId": "8659be33-bf36-4971-f4c2-3d2d20606d37"
      },
      "execution_count": null,
      "outputs": [
        {
          "output_type": "execute_result",
          "data": {
            "text/plain": [
              "5"
            ]
          },
          "metadata": {},
          "execution_count": 147
        }
      ]
    },
    {
      "cell_type": "code",
      "source": [
        "# dataset\n",
        "data = \"\".join(open('/content/rosalind_ba2h.txt')).split()"
      ],
      "metadata": {
        "id": "DufIAs2fDcnX"
      },
      "execution_count": null,
      "outputs": []
    },
    {
      "cell_type": "code",
      "source": [
        "Pattern = data[0]\n",
        "Dna = data[1:]"
      ],
      "metadata": {
        "id": "qYV81Xr6EahH"
      },
      "execution_count": null,
      "outputs": []
    },
    {
      "cell_type": "code",
      "source": [
        "DistanceBetweenPatternAndStrings(Pattern,Dna)"
      ],
      "metadata": {
        "colab": {
          "base_uri": "https://localhost:8080/"
        },
        "id": "QbfF1uQ4Edgc",
        "outputId": "5791acd4-10c8-4c9a-d0ef-0f9c3bbdbcf0"
      },
      "execution_count": null,
      "outputs": [
        {
          "output_type": "execute_result",
          "data": {
            "text/plain": [
              "72"
            ]
          },
          "metadata": {},
          "execution_count": 162
        }
      ]
    }
  ]
}