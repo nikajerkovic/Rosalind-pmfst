{
  "nbformat": 4,
  "nbformat_minor": 0,
  "metadata": {
    "colab": {
      "name": "BA5B.ipynb",
      "provenance": []
    },
    "kernelspec": {
      "name": "python3",
      "display_name": "Python 3"
    },
    "language_info": {
      "name": "python"
    }
  },
  "cells": [
    {
      "cell_type": "markdown",
      "source": [
        "## BA5B"
      ],
      "metadata": {
        "id": "aZhgYkSvNNET"
      }
    },
    {
      "cell_type": "markdown",
      "source": [
        "**Length of a Longest Path in the Manhattan Tourist Problem**\n",
        "\n",
        "Find the length of a longest path in a rectangular city.\n",
        "\n",
        "Given: Integers n and m, followed by an n × (m+1) matrix Down and an (n+1) × m matrix Right. The two matrices are separated by the \"-\" symbol.\n",
        "\n",
        "Return: The length of a longest path from source (0, 0) to sink (n, m) in the n × m rectangular grid whose edges are defined by the matrices Down and Right."
      ],
      "metadata": {
        "id": "nNK0qWWz5rGw"
      }
    },
    {
      "cell_type": "markdown",
      "source": [
        "Link: https://rosalind.info/problems/ba5b/"
      ],
      "metadata": {
        "id": "tW2wv-6puHhU"
      }
    },
    {
      "cell_type": "code",
      "source": [
        "import numpy as np"
      ],
      "metadata": {
        "id": "ptXWz5J6_PMs"
      },
      "execution_count": null,
      "outputs": []
    },
    {
      "cell_type": "code",
      "source": [
        "def ManhattanTourist(n,m,down,right):\n",
        "\n",
        "  s = np.zeros([n+1, m+1])\n",
        "\n",
        "  for i in range(1, n+1):\n",
        "    s[i, 0] = s[i-1, 0] + down[i - 1, 0]\n",
        "\n",
        "  for j in range(1, m+1):\n",
        "    s[0, j] = s[0, j-1] + right[0, j - 1]\n",
        "    \n",
        "  for i in range(1, n+1):\n",
        "    for j in range(1, m +1):\n",
        "      s[i, j] = max(s[i - 1, j] + down[i - 1, j], s[i, j - 1] + right[i, j - 1])\n",
        "\n",
        "  return int(s[n, m])\n",
        "# vraca float  ako se ne casta u int"
      ],
      "metadata": {
        "id": "MBIGZ9ja5ylf"
      },
      "execution_count": null,
      "outputs": []
    },
    {
      "cell_type": "code",
      "source": [
        "# sample dataset\n",
        "down = np.matrix([[1,0,2,4,3],\n",
        "[4,6,5,2,1],\n",
        "[4,4,5,2,1],\n",
        "[5,6,8,5,3]])\n",
        "right = np.matrix([[3,2,4,0],\n",
        "[3,2,4,2],\n",
        "[0,7,3,3],\n",
        "[3,3,0,2],\n",
        "[1,3,2,2]])\n",
        "\n",
        "ManhattanTourist(4,4,down,right)"
      ],
      "metadata": {
        "colab": {
          "base_uri": "https://localhost:8080/"
        },
        "id": "4L3WjeCm94-Q",
        "outputId": "ac71ee7a-66ee-4e3e-e872-0897dea57dcf"
      },
      "execution_count": null,
      "outputs": [
        {
          "output_type": "execute_result",
          "data": {
            "text/plain": [
              "34"
            ]
          },
          "metadata": {},
          "execution_count": 47
        }
      ]
    },
    {
      "cell_type": "code",
      "source": [
        "# dataset\n",
        "f = open(\"/content/rosalind_ba5b (1).txt\", \"r\")\n",
        "inlines = [x.strip(\"\\n\") for x in f.readlines()]\n",
        "n, m = [int(x) for x in inlines[0].split()]\n",
        "\n",
        "down = []\n",
        "for i in range(n):\n",
        "  down.append([int(x) for x in inlines[1 + i].split()])\n",
        "\n",
        "down = np.matrix(down)\n",
        "\n",
        "right = []\n",
        "for i in range(n + 1):\n",
        "  right.append([int(x) for x in inlines[n + 2 + i].split()])\n",
        "\n",
        "right = np.matrix(right)\n",
        "\n",
        "ManhattanTourist(n,m,down,right)"
      ],
      "metadata": {
        "colab": {
          "base_uri": "https://localhost:8080/"
        },
        "id": "iS7D2oKW3qad",
        "outputId": "1d4549c3-a0b0-4eba-ed57-cada6251a57c"
      },
      "execution_count": null,
      "outputs": [
        {
          "output_type": "execute_result",
          "data": {
            "text/plain": [
              "100"
            ]
          },
          "metadata": {},
          "execution_count": 43
        }
      ]
    }
  ]
}