{
  "nbformat": 4,
  "nbformat_minor": 0,
  "metadata": {
    "colab": {
      "name": "BA5D.ipynb",
      "provenance": []
    },
    "kernelspec": {
      "name": "python3",
      "display_name": "Python 3"
    },
    "language_info": {
      "name": "python"
    }
  },
  "cells": [
    {
      "cell_type": "markdown",
      "source": [
        "## BA5D"
      ],
      "metadata": {
        "id": "HgkgEi5giSgV"
      }
    },
    {
      "cell_type": "markdown",
      "source": [
        "**Longest Path in a DAG Problem**\n",
        "\n",
        "Find a longest path between two nodes in an edge-weighted DAG.\n",
        "\n",
        "Given: An integer representing the source node of a graph, followed by an integer representing the sink node of the graph, followed by an edge-weighted graph. The graph is represented by a modified adjacency list in which the notation \"0->1:7\" indicates that an edge connects node 0 to node 1 with weight 7.\n",
        "\n",
        "Return: The length of a longest path in the graph, followed by a longest path. (If multiple longest paths exist, you may return any one.)"
      ],
      "metadata": {
        "id": "WOZDqGfJt5Dr"
      }
    },
    {
      "cell_type": "markdown",
      "source": [
        "Link: https://rosalind.info/problems/ba5d/"
      ],
      "metadata": {
        "id": "Mpe4OCKfq_PL"
      }
    },
    {
      "cell_type": "markdown",
      "source": [
        "Funkcije od prije"
      ],
      "metadata": {
        "id": "CoZamgGTjjzu"
      }
    },
    {
      "cell_type": "code",
      "source": [
        "# BA5N\n",
        "def TopologicalOrdering(dict_edges):\n",
        "\n",
        "  topological_ordering = []\n",
        "  value_list = []\n",
        "  for values in dict_edges.values():\n",
        "    for value in values:\n",
        "      value_list.append(value)\n",
        "\n",
        "  with_incoming_edges = set(value_list)\n",
        "  with_outcoming_edges = set([key  for key,value in dict_edges.items() if len(value) != 0 ])\n",
        "\n",
        "  candidates = list(with_outcoming_edges - with_incoming_edges)\n",
        "\n",
        "  while candidates:\n",
        "\n",
        "    a = candidates[0]\n",
        "    topological_ordering.append(a)\n",
        "    candidates.pop(0)\n",
        "    a_nodes = dict_edges[a].copy()\n",
        "    dict_edges[a] = []\n",
        "    help_list = []\n",
        "    for node in a_nodes:\n",
        "      count = 0\n",
        "      for values in dict_edges.values():\n",
        "        count += values.count(node)\n",
        "      if count == 0:\n",
        "        help_list.append(node)\n",
        "\n",
        "    candidates.extend(help_list)\n",
        "\n",
        "  return topological_ordering"
      ],
      "metadata": {
        "id": "_Ur9BKb1skZL"
      },
      "execution_count": 1,
      "outputs": []
    },
    {
      "cell_type": "markdown",
      "source": [
        "Novo"
      ],
      "metadata": {
        "id": "J9G73w1Hl5xV"
      }
    },
    {
      "cell_type": "code",
      "source": [
        "def LongestPathInDAG(source,sink,weights_dict,adjacency_list):\n",
        "\n",
        "    # Uzima se topolgical ordering source -> i isključuje source\n",
        "    topological = TopologicalOrdering(adjacency_list)\n",
        "    # .index() vraca index na kojem je vrijednost soruce/sink, + 1 jer inace nebi ukljucilo sink\n",
        "    topological = topological[topological.index(source)+1:topological.index(sink)+1]\n",
        "\n",
        "    ins = []\n",
        "    outs = []\n",
        "    S = {}\n",
        "    backtrack = {}\n",
        "\n",
        "    # dobijemo set svih čvorova grafa\n",
        "    for edge in weights_dict.keys():\n",
        "      ins.append(edge[0])\n",
        "      outs.append(edge[1])\n",
        "\n",
        "    all_nodes = set(ins+outs)\n",
        "\n",
        "    # postavimo vrijedost za svaki čvor -beskonacno\n",
        "    for node in all_nodes:\n",
        "      S[node] = float('-inf')\n",
        "\n",
        "    # za source čvor - vrijednost 0\n",
        "    S[source] = 0\n",
        "\n",
        "    for node in topological:\n",
        "\n",
        "      try:\n",
        "        # trazimo edgeve u kojima je trenutni node izlaz\n",
        "        help_list = filter(lambda e: e[1] == node, weights_dict.keys())\n",
        "        help_list_2 = []\n",
        "        for element in help_list:\n",
        "          help_list_2.append([S[element[0]] + weights_dict[element], element[0]])\n",
        "\n",
        "        # uspoređuje prema nultom elementu npr. [[51, 22], [-inf, 24], [-inf, 35]] uspoređuje 51,-inf i -inf i vraca [51,22]\n",
        "        S[node], backtrack[node] = max(help_list_2, key=lambda el:el[0])\n",
        "\n",
        "      # ValueError se pojavljuje ako je max(prazan) - node nema predecessora -> takvi nodovi se ignoriraju, svakako nece biti dio najduzeg puta\n",
        "      except ValueError:\n",
        "            pass\n",
        "\n",
        "    # Backtrack kako bi dobili najduzi put\n",
        "    path = [sink]\n",
        "    while path[0] != source:\n",
        "        path = [backtrack[path[0]]] + path\n",
        "\n",
        "    return S[sink], path"
      ],
      "metadata": {
        "id": "rA5a3uO6uAet"
      },
      "execution_count": 2,
      "outputs": []
    },
    {
      "cell_type": "code",
      "source": [
        "def Output_format(path):\n",
        "  p = ''\n",
        "  output = []\n",
        "  for el in path:\n",
        "    p += str(el) + '->'\n",
        "  # :-2 da se makne -> sa kraja, inace zavrsavalo s ->\n",
        "  print(p[:-2])"
      ],
      "metadata": {
        "id": "TJ24JMVuHhU6"
      },
      "execution_count": 3,
      "outputs": []
    },
    {
      "cell_type": "code",
      "source": [
        "with open('/content/rosalind_ba5d (2).txt') as input_data:\n",
        "  source, sink = [int(input_data.readline()) for repeat in range(2)]\n",
        "  adjacency_list, weights_dict = {}, {}\n",
        "  for pair in [line.strip().split('->') for line in input_data.readlines()]:\n",
        "    if int(pair[0]) not in adjacency_list:\n",
        "      adjacency_list[int(pair[0])] = [int(pair[1].split(':')[0])]\n",
        "    else:\n",
        "      adjacency_list[int(pair[0])].append(int(pair[1].split(':')[0]))\n",
        "\n",
        "    weights_dict[int(pair[0]), int(pair[1].split(':')[0])] = int(pair[1].split(':')[1])"
      ],
      "metadata": {
        "id": "BHq-4Dfzke55"
      },
      "execution_count": 19,
      "outputs": []
    },
    {
      "cell_type": "code",
      "source": [
        "nodes_to_add = []\n",
        "for values in adjacency_list.values():\n",
        "  for value in values:\n",
        "    if value not in adjacency_list.keys():\n",
        "      nodes_to_add.append(value)\n",
        "\n",
        "for node in set(nodes_to_add):\n",
        "  adjacency_list[node] = []"
      ],
      "metadata": {
        "id": "WEnCJKeikhv-"
      },
      "execution_count": 20,
      "outputs": []
    },
    {
      "cell_type": "code",
      "source": [
        "# sample dataset\n",
        "adjacency_list, weights_dict"
      ],
      "metadata": {
        "colab": {
          "base_uri": "https://localhost:8080/"
        },
        "id": "ZvOM-gAakijS",
        "outputId": "1406e648-b0e5-4415-a956-ff160db27a9a"
      },
      "execution_count": 16,
      "outputs": [
        {
          "output_type": "execute_result",
          "data": {
            "text/plain": [
              "({0: [1, 2], 1: [4], 2: [3], 3: [4], 4: []},\n",
              " {(0, 1): 7, (0, 2): 4, (1, 4): 1, (2, 3): 2, (3, 4): 3})"
            ]
          },
          "metadata": {},
          "execution_count": 16
        }
      ]
    },
    {
      "cell_type": "code",
      "source": [
        "# sample dataset result\n",
        "result = LongestPathInDAG(source,sink,weights_dict,adjacency_list)\n",
        "result"
      ],
      "metadata": {
        "colab": {
          "base_uri": "https://localhost:8080/"
        },
        "id": "uwfP0YCQk1AL",
        "outputId": "8c482180-8371-4be9-fcff-11bdae16dfe2"
      },
      "execution_count": 17,
      "outputs": [
        {
          "output_type": "execute_result",
          "data": {
            "text/plain": [
              "(9, [0, 2, 3, 4])"
            ]
          },
          "metadata": {},
          "execution_count": 17
        }
      ]
    },
    {
      "cell_type": "code",
      "source": [
        "Output_format(result[1])"
      ],
      "metadata": {
        "colab": {
          "base_uri": "https://localhost:8080/"
        },
        "id": "09qnyju7jlSd",
        "outputId": "86c3dc16-2752-47bd-bf3f-1a260f60dcaf"
      },
      "execution_count": 18,
      "outputs": [
        {
          "output_type": "stream",
          "name": "stdout",
          "text": [
            "0->2->3->4\n"
          ]
        }
      ]
    },
    {
      "cell_type": "code",
      "source": [
        "# dataset result\n",
        "result = LongestPathInDAG(source,sink,weights_dict,adjacency_list)\n",
        "result"
      ],
      "metadata": {
        "colab": {
          "base_uri": "https://localhost:8080/"
        },
        "outputId": "234deb38-60ef-46ce-8d2f-a795395c7bfc",
        "id": "d2RPLGYclUw4"
      },
      "execution_count": 22,
      "outputs": [
        {
          "output_type": "execute_result",
          "data": {
            "text/plain": [
              "(11, [12, 35])"
            ]
          },
          "metadata": {},
          "execution_count": 22
        }
      ]
    },
    {
      "cell_type": "code",
      "source": [
        "Output_format(result[1])"
      ],
      "metadata": {
        "colab": {
          "base_uri": "https://localhost:8080/"
        },
        "outputId": "69fbf62a-905f-4fb2-f3cf-e220ba42a2b6",
        "id": "RtLZuzAUlXhA"
      },
      "execution_count": 23,
      "outputs": [
        {
          "output_type": "stream",
          "name": "stdout",
          "text": [
            "12->35\n"
          ]
        }
      ]
    }
  ]
}