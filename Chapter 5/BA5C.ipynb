{
  "nbformat": 4,
  "nbformat_minor": 0,
  "metadata": {
    "colab": {
      "name": "BA5C.ipynb",
      "provenance": []
    },
    "kernelspec": {
      "name": "python3",
      "display_name": "Python 3"
    },
    "language_info": {
      "name": "python"
    }
  },
  "cells": [
    {
      "cell_type": "markdown",
      "source": [
        "## BA5C"
      ],
      "metadata": {
        "id": "aZhgYkSvNNET"
      }
    },
    {
      "cell_type": "markdown",
      "source": [
        "**Longest Common Subsequence Problem**\n",
        "\n",
        "Given: Two strings.\n",
        "\n",
        "Return: A longest common subsequence of these strings."
      ],
      "metadata": {
        "id": "gF_tB72AfFKF"
      }
    },
    {
      "cell_type": "markdown",
      "source": [
        "Link: https://rosalind.info/problems/ba5c/"
      ],
      "metadata": {
        "id": "6CpaPfF_fMiq"
      }
    },
    {
      "cell_type": "code",
      "source": [
        "def LongestCommonSubsequence(v,w):\n",
        "\n",
        "  longest_sequence = ''\n",
        "  n = len(v)\n",
        "  m = len(w)\n",
        "\n",
        "  S = np.zeros([n+1, m+1])\n",
        "\n",
        "  for i in range(n):\n",
        "    for j in range(m):\n",
        "      if v[i] == w[j]:\n",
        "        S[i+1][j+1] = S[i][j]+1\n",
        "      else:\n",
        "        S[i+1][j+1] = max(S[i+1][j],S[i][j+1])\n",
        "  \n",
        "  while n*m != 0:\n",
        "    if S[n][m] == S[n-1][m]:\n",
        "      n -= 1\n",
        "    elif S[n][m] == S[n][m-1]:\n",
        "      m -= 1\n",
        "    else:\n",
        "      longest_sequence = v[n-1] + longest_sequence\n",
        "      n -= 1\n",
        "      m -= 1\n",
        "\n",
        "  return longest_sequence"
      ],
      "metadata": {
        "id": "OLN7O5TjfQKL"
      },
      "execution_count": null,
      "outputs": []
    },
    {
      "cell_type": "code",
      "source": [
        "# sample dataset\n",
        "LongestCommonSubsequence('AACCTTGG','ACACTGTGA')"
      ],
      "metadata": {
        "colab": {
          "base_uri": "https://localhost:8080/",
          "height": 36
        },
        "id": "LEGmcCh5L3Te",
        "outputId": "80bf2d72-0a0a-46ff-a3d3-8098728ded11"
      },
      "execution_count": null,
      "outputs": [
        {
          "output_type": "execute_result",
          "data": {
            "text/plain": [
              "'AACTTG'"
            ],
            "application/vnd.google.colaboratory.intrinsic+json": {
              "type": "string"
            }
          },
          "metadata": {},
          "execution_count": 50
        }
      ]
    },
    {
      "cell_type": "code",
      "source": [
        "# dataset\n",
        "LongestCommonSubsequence('CGTTCTCTATATGGAAAACGCCGCAAAGCGCTAAATCTATGTCTTGTTACAGTGGCCGCATTTCTCGCAAGAATCACTCATAATTCGGTAGATATTCCGAGGATCGCGCGCAACTGCGGAAGATATCTCGCGGAGCTGTGTCTGGTCTACCCCACGACGATACTAGGGATATGGTTTCTTTGAATAACCAGTCTTGCTTCATTAATGCGAAGTTAGGTACGCCTGATATCGACGTGATGCATCAGGGGTACAATTCGTGTGCGTAGTTTCAACCACTGGTTAGCTACATCTTCTACGACCGCATCAAAAGGAGGATGTCGTCTGGACACGGCATCGATCACAGGATGTTAGTTACCTACGCATCGCCGCCTATTCTAATGCTGATTGTCAACCGCGTTCAGTGCACGAATGACTTCGCACTCACAGGGCCAAGTAACGAACCAGAGCGAGACTAATATGCGTACATACGTAACTAGCAACCAAATGGATTTAGAAAACGGGAAACGCATCTGCAAGGCCGGCGACTCTTGTAGGGGGCGGGCCGCCAGCGCCCCCATCGCGTAACTGTGCAGGACTATTAAAAATGTAGGGTCCCACGCGGCGGGGGGTAGATCGAGAATTGGGTTCTGGGGGTTGTATAGCCTTATCCGGTCGAGTTTTGTACGCTGGACCAGCACGAAACGAACCGACGAGGTTCAGACAACTCCTACATTAAGTCGTGGTACTCTATGTTGCATGCGACCTAGGACGGCTGTGAACACCCAATGCTCAATTACACATAAGATGCGTTACAGGCCAGATTCTAATTGCCGAATACGTAAAGTTCGCGGCGCTGATCTATTATGTAGGTGTTGTGCCCTATGAGTGATGACTACCCGGGCAATGTTGACACCAGATTGCGGC','CCTAGTCTTGACGCTGTCGTCCTATAGTGACCGTTCGTACCACGTCTGCACAGAGGCTGGATAGAAGCTTGTCCTAAGTTTCATAACTTTGCCGGGATCAGTTAATCCACTATCATGGGGTGGCACGCGACTGTCGAGAAGTCTTGGAGATCTTGGCTAATTTTACTCTATCCCTCGCGATCGCAAGCTTGAGGTCATTTACCCGATTTAGGAGGGGTCGGGCCGGAGTAATGGCACTAGATCAGGAATCTATTCACCGATGGGTACGAGCTACACGCGTCCTATAGGGGATTTACCTTTGGCCTACGGCCATTACTCTCTTTTGAGGGTTGGAGGTTCAAACACGCTATTTACGAACTGTTACTGAGGGCTAAGACAACCAGCGAGCATCATATAGAGGTCAGGACCATTTGCCCTGTTAGACGTGATTCAAGCTACAATGCGAAGCCCGATGCACGTCTGATGCGCCTAGGTAGGATGATCGCAGTATATAGACCGGAGAAGTTGCTTGATTGCCCAGCTCAGTCTTCCTTGCTGTCTGCCGGATTCTCCCACCCCGGCGTACTTTTGCTGCTACGTATTACTTAACCAGAGTATGGAGATACGACAAGGCGCGGCGCAACCCGCAGAACGTTGGTCTTAGGCTGAATATTCATAGCAGCCCGCTTAGTGCACGTATTCGACACCTGTATGATTGCATCAAAAATGCCTAAAACCCGGATCAAATACGGCCATTTATTAGCTACAGCGATGCCGAGCCTGGGTTGAGTAGAGATTGTACCGATCTTCACACACGCCGGTGGCAGGAACGGCGCTCTCCACA')"
      ],
      "metadata": {
        "colab": {
          "base_uri": "https://localhost:8080/",
          "height": 88
        },
        "id": "Rw6eg0y_zXqO",
        "outputId": "c144d313-1cb8-4472-a8fd-9729358046fb"
      },
      "execution_count": null,
      "outputs": [
        {
          "output_type": "execute_result",
          "data": {
            "text/plain": [
              "'CGTCTTGACGCGCGCCTATATGCTTGTACAGTGCCGACTGAAGAATCCTCATAATTCGGTAGATATTCAGGTGCGCGACTGCGGAAGTCTGGGACTTGCTTCTACCCCCGACGAACTGAGGTCTTTACCCGTTTAGGAGGGTCGCCGATATCACTAGATCAGGAATCTATTCACCATGGGTACACTCACGCGCATAGGGGATTTCTGGCACGGCCATACTTTTTTGAGGTTAGGTTCAACCGCTATACGAATGTTACTAGGGCAAGACAACCAGCGAGACTATAGGTCAACATGCCCTGTTAGACGGAAAGCACTGCAAGCCGGCACTCTGTGCGCCAGGAGGATGTGCAGATATAAAAATGTAGCCCAGCCAGTCTTGGTCTGGGTTTCCACCGGCGATTTTGTACGCTACCAGAGAAGAACGACAGGCGCAACCCCAAACGTGGTCTTATGTTCATGCGCCTAGGACGTTGACACCTGTAATTCACAAAATGCTAACCGATCAATGCCAATACTAAGCGCGGCCTGTTATAGAGTTGTCCGATTACACCCGGGCAGGAACCGTTCC'"
            ],
            "application/vnd.google.colaboratory.intrinsic+json": {
              "type": "string"
            }
          },
          "metadata": {},
          "execution_count": 48
        }
      ]
    }
  ]
}