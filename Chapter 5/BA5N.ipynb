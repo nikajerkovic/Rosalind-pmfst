{
  "nbformat": 4,
  "nbformat_minor": 0,
  "metadata": {
    "colab": {
      "name": "BA5N.ipynb",
      "provenance": []
    },
    "kernelspec": {
      "name": "python3",
      "display_name": "Python 3"
    },
    "language_info": {
      "name": "python"
    }
  },
  "cells": [
    {
      "cell_type": "markdown",
      "source": [
        "## BA5N"
      ],
      "metadata": {
        "id": "HgkgEi5giSgV"
      }
    },
    {
      "cell_type": "markdown",
      "source": [
        "**Topological Ordering Problem**\n",
        "\n",
        "Find a topological ordering of a directed acyclic graph.\n",
        "\n",
        "Given: The adjacency list of a graph (with nodes represented by integers).\n",
        "\n",
        "Return: A topological ordering of this graph."
      ],
      "metadata": {
        "id": "pxr1MOqIq3lB"
      }
    },
    {
      "cell_type": "markdown",
      "source": [
        "Link: https://rosalind.info/problems/ba5n/"
      ],
      "metadata": {
        "id": "Mpe4OCKfq_PL"
      }
    },
    {
      "cell_type": "code",
      "source": [
        "# prema pseudo codeu\n",
        "def TopologicalOrdering(dict_edges):\n",
        "\n",
        "  topological_ordering = []\n",
        "  value_list = []\n",
        "  for values in dict_edges.values():\n",
        "    for value in values:\n",
        "      value_list.append(value)\n",
        "\n",
        "  with_incoming_edges = set(value_list)\n",
        "  with_outcoming_edges = set([key  for key,value in dict_edges.items() if len(value) != 0 ])\n",
        "\n",
        "  candidates = list(with_outcoming_edges - with_incoming_edges)\n",
        "\n",
        "  while candidates:\n",
        "\n",
        "    a = candidates[0]\n",
        "    topological_ordering.append(a)\n",
        "    candidates.pop(0)\n",
        "    a_nodes = dict_edges[a].copy()\n",
        "    dict_edges[a] = []\n",
        "    help_list = []\n",
        "    for node in a_nodes:\n",
        "      count = 0\n",
        "      for values in dict_edges.values():\n",
        "        count += values.count(node)\n",
        "      if count == 0:\n",
        "        help_list.append(node)\n",
        "\n",
        "    candidates.extend(help_list)\n",
        "\n",
        "  return topological_ordering"
      ],
      "metadata": {
        "id": "_Ur9BKb1skZL"
      },
      "execution_count": null,
      "outputs": []
    },
    {
      "cell_type": "code",
      "source": [
        "def GraphToDict(filename):\n",
        "  \n",
        "  with open(filename) as f:\n",
        "    input = f.readlines()\n",
        "    input = [x.strip() for x in input]\n",
        "\n",
        "  dict_edges = {}\n",
        "  for edge in input:\n",
        "    first, second = edge.split(\" -> \")\n",
        "    second = second.split(\",\")\n",
        "    dict_edges[first] = second\n",
        "\n",
        "  dict_edges = {int(k):[int(i) for i in v] for k,v in dict_edges.items()}\n",
        "\n",
        "\n",
        "  # ako je node u values, a nije u keys, dodamo ga u keys i pridijeli mu se prazna lista\n",
        "  nodes_to_add = []\n",
        "  for values in dict_edges.values():\n",
        "    for value in values:\n",
        "      if value not in dict_edges.keys():\n",
        "        nodes_to_add.append(value)\n",
        "\n",
        "  for node in set(nodes_to_add):\n",
        "    dict_edges[node] = []\n",
        "\n",
        "  return dict_edges"
      ],
      "metadata": {
        "id": "IUz3QsICrJpQ"
      },
      "execution_count": null,
      "outputs": []
    },
    {
      "cell_type": "code",
      "source": [
        "# sample dataset\n",
        "dict_edges = GraphToDict('/content/sample_data/input.txt')"
      ],
      "metadata": {
        "id": "8ksNt-P7Iukv"
      },
      "execution_count": null,
      "outputs": []
    },
    {
      "cell_type": "code",
      "source": [
        "result = TopologicalOrdering(dict_edges)"
      ],
      "metadata": {
        "id": "_Vv6OKJXs21D"
      },
      "execution_count": null,
      "outputs": []
    },
    {
      "cell_type": "code",
      "source": [
        "result"
      ],
      "metadata": {
        "colab": {
          "base_uri": "https://localhost:8080/"
        },
        "id": "OPk8Z3xvMKsR",
        "outputId": "c9a78683-1b5a-458e-d4ca-597256274c9f"
      },
      "execution_count": null,
      "outputs": [
        {
          "output_type": "execute_result",
          "data": {
            "text/plain": [
              "[1, 4, 5, 2, 3]"
            ]
          },
          "metadata": {},
          "execution_count": 9
        }
      ]
    },
    {
      "cell_type": "code",
      "source": [
        "# dataset\n",
        "dict_edges = GraphToDict('/content/rosalind_ba5n (1).txt')"
      ],
      "metadata": {
        "id": "ibbH7-U1N-eq"
      },
      "execution_count": null,
      "outputs": []
    },
    {
      "cell_type": "code",
      "source": [
        "result = TopologicalOrdering(dict_edges)"
      ],
      "metadata": {
        "id": "yhglXd_BOAo2"
      },
      "execution_count": null,
      "outputs": []
    },
    {
      "cell_type": "code",
      "source": [
        "result"
      ],
      "metadata": {
        "colab": {
          "base_uri": "https://localhost:8080/"
        },
        "id": "T82rYv2AOCHK",
        "outputId": "14441acd-1b9d-4c4c-affe-fb3bdf453d89"
      },
      "execution_count": null,
      "outputs": [
        {
          "output_type": "execute_result",
          "data": {
            "text/plain": [
              "[0,\n",
              " 1,\n",
              " 2,\n",
              " 3,\n",
              " 4,\n",
              " 7,\n",
              " 40,\n",
              " 9,\n",
              " 10,\n",
              " 11,\n",
              " 13,\n",
              " 14,\n",
              " 16,\n",
              " 20,\n",
              " 21,\n",
              " 22,\n",
              " 23,\n",
              " 28,\n",
              " 25,\n",
              " 12,\n",
              " 5,\n",
              " 17,\n",
              " 15,\n",
              " 34,\n",
              " 19,\n",
              " 36,\n",
              " 37,\n",
              " 32,\n",
              " 35,\n",
              " 29,\n",
              " 24,\n",
              " 30,\n",
              " 45,\n",
              " 33,\n",
              " 44,\n",
              " 42,\n",
              " 26,\n",
              " 38,\n",
              " 41,\n",
              " 27,\n",
              " 43,\n",
              " 46,\n",
              " 31,\n",
              " 47]"
            ]
          },
          "metadata": {},
          "execution_count": 250
        }
      ]
    }
  ]
}