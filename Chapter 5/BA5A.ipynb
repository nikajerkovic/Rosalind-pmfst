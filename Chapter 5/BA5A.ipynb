{
  "nbformat": 4,
  "nbformat_minor": 0,
  "metadata": {
    "colab": {
      "name": "BA5A.ipynb",
      "provenance": []
    },
    "kernelspec": {
      "name": "python3",
      "display_name": "Python 3"
    },
    "language_info": {
      "name": "python"
    }
  },
  "cells": [
    {
      "cell_type": "markdown",
      "source": [
        "## BA5A"
      ],
      "metadata": {
        "id": "aZhgYkSvNNET"
      }
    },
    {
      "cell_type": "markdown",
      "source": [
        "**The Change Problem**\n",
        "\n",
        "Find the minimum number of coins needed to make change.\n",
        "\n",
        "Given: An integer money and an array Coins of positive integers.\n",
        "\n",
        "Return: The minimum number of coins with denominations Coins that changes money."
      ],
      "metadata": {
        "id": "vIJ4C4hNtkwK"
      }
    },
    {
      "cell_type": "markdown",
      "source": [
        "Link: https://rosalind.info/problems/ba5a/"
      ],
      "metadata": {
        "id": "tW2wv-6puHhU"
      }
    },
    {
      "cell_type": "code",
      "source": [
        "import sys"
      ],
      "metadata": {
        "id": "6MeGqjD-wX4t"
      },
      "execution_count": 1,
      "outputs": []
    },
    {
      "cell_type": "code",
      "source": [
        "def DP_Change(money,coins):\n",
        "\n",
        "  minimum_coins = [0]\n",
        "\n",
        "  for m in range(1,money+1):\n",
        "    minimum_coins.append(sys.maxsize)\n",
        "    for coin in coins:\n",
        "      if m >= coin:\n",
        "        if minimum_coins[m-coin] + 1 < minimum_coins[m]:\n",
        "          minimum_coins[m] = minimum_coins[m-coin] + 1\n",
        "\n",
        "\n",
        "  return minimum_coins[money]"
      ],
      "metadata": {
        "id": "dtCrzV8NJdT6"
      },
      "execution_count": 2,
      "outputs": []
    },
    {
      "cell_type": "code",
      "source": [
        "# sample\n",
        "DP_Change(40,[1,5,10,20,25,50])"
      ],
      "metadata": {
        "colab": {
          "base_uri": "https://localhost:8080/"
        },
        "id": "p_LLaqj7xUjW",
        "outputId": "5f7cabd1-3fe4-4d1e-e5eb-2cace9a2b34f"
      },
      "execution_count": 3,
      "outputs": [
        {
          "output_type": "execute_result",
          "data": {
            "text/plain": [
              "2"
            ]
          },
          "metadata": {},
          "execution_count": 3
        }
      ]
    },
    {
      "cell_type": "code",
      "source": [
        "# dataset \n",
        "DP_Change(17311,[1,3,5,10,17,19,22,24])"
      ],
      "metadata": {
        "colab": {
          "base_uri": "https://localhost:8080/"
        },
        "id": "792VlU09yMQY",
        "outputId": "1d139a9f-a20b-4603-aba4-7fa9fb842e47"
      },
      "execution_count": 4,
      "outputs": [
        {
          "output_type": "execute_result",
          "data": {
            "text/plain": [
              "722"
            ]
          },
          "metadata": {},
          "execution_count": 4
        }
      ]
    }
  ]
}