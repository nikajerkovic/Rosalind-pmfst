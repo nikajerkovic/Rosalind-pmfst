{
  "nbformat": 4,
  "nbformat_minor": 0,
  "metadata": {
    "colab": {
      "name": "BA1I.ipynb",
      "provenance": [],
      "collapsed_sections": []
    },
    "kernelspec": {
      "name": "python3",
      "display_name": "Python 3"
    },
    "language_info": {
      "name": "python"
    }
  },
  "cells": [
    {
      "cell_type": "markdown",
      "source": [
        "## BA1I"
      ],
      "metadata": {
        "id": "tUn9y7IU7oJ7"
      }
    },
    {
      "cell_type": "markdown",
      "metadata": {
        "id": "U-gBv-HSXXTR"
      },
      "source": [
        "We defined a mismatch in “Compute the Hamming Distance Between Two Strings”. We now generalize “Find the Most Frequent Words in a String” to incorporate mismatches as well.\n",
        "\n",
        "Given strings Text and Pattern as well as an integer d, we define Countd(Text, Pattern) as the total number of occurrences of Pattern in Text with at most d mismatches. For example, Count1(AACAAGCTGATAAACATTTAAAGAG, AAAAA) = 4 because AAAAA appears four times in this string with at most one mismatch: AACAA, ATAAA, AAACA, and AAAGA. Note that two of these occurrences overlap.\n",
        "\n",
        "A most frequent k-mer with up to d mismatches in Text is simply a string Pattern maximizing Countd(Text, Pattern) among all k-mers. Note that Pattern does not need to actually appear as a substring of Text; for example, AAAAA is the most frequent 5-mer with 1 mismatch in AACAAGCTGATAAACATTTAAAGAG, even though AAAAA does not appear exactly in this string. Keep this in mind while solving the following problem.\n",
        "\n",
        "**Frequent Words with Mismatches Problem**\n",
        "\n",
        "Find the most frequent k-mers with mismatches in a string.\n",
        "\n",
        "Given: A string Text as well as integers k and d.\n",
        "\n",
        "Return: All most frequent k-mers with up to d mismatches in Text."
      ]
    },
    {
      "cell_type": "markdown",
      "metadata": {
        "id": "9XGooBGZXkh6"
      },
      "source": [
        "Link: https://rosalind.info/problems/ba1i/"
      ]
    },
    {
      "cell_type": "code",
      "execution_count": 1,
      "metadata": {
        "id": "TB-mTfAruB7U"
      },
      "outputs": [],
      "source": [
        "# BA1G\n",
        "def hamming(dna1,dna2):\n",
        "  counter=0\n",
        "  for i, j in zip(dna1,dna2):\n",
        "    if i != j:\n",
        "      counter+=1\n",
        "\n",
        "  return counter"
      ]
    },
    {
      "cell_type": "code",
      "source": [
        "def make_kmers(k):\n",
        "  a_string = 'ACTG'\n",
        "  final_list = [[]]\n",
        "  length = k\n",
        "  groups = [list(a_string)] * length\n",
        "  for i in groups:\n",
        "      final_list = [x+[y] for x in final_list for y in i]\n",
        "  permutations = [''.join(item) for item in final_list]\n",
        "  return permutations"
      ],
      "metadata": {
        "id": "QyCGhpsX7YD4"
      },
      "execution_count": 2,
      "outputs": []
    },
    {
      "cell_type": "code",
      "source": [
        "def FrequentWords_Mismatches(text,k,d):\n",
        "  k_mers = make_kmers(k)\n",
        "  all = {}\n",
        "  for mer in k_mers:\n",
        "    counter = 0\n",
        "    for i in range(len(text)-k+1):\n",
        "      if hamming(mer,text[i:i+k]) <= d:\n",
        "        counter += 1\n",
        "    all[mer] = counter\n",
        "\n",
        "  max_value = max(all.items(), key=lambda x: x[1])\n",
        "  listOfKeys = list()\n",
        "  for key, value in  all.items():\n",
        "    if value == max_value[1]:\n",
        "        listOfKeys.append(key)\n",
        "  \n",
        "  return listOfKeys"
      ],
      "metadata": {
        "id": "bI6AvJ_o7aFV"
      },
      "execution_count": 3,
      "outputs": []
    },
    {
      "cell_type": "code",
      "source": [
        "# sample dataset\n",
        "result = FrequentWords_Mismatches('ACGTTGCATGTCGCATGATGCATGAGAGCT',4,1)"
      ],
      "metadata": {
        "id": "4lNa6y5u152Q"
      },
      "execution_count": 4,
      "outputs": []
    },
    {
      "cell_type": "code",
      "source": [
        "\" \".join(result)"
      ],
      "metadata": {
        "colab": {
          "base_uri": "https://localhost:8080/",
          "height": 36
        },
        "id": "3ZntoPfz5xqS",
        "outputId": "66ceb55d-8044-492c-b52d-955667bdb398"
      },
      "execution_count": null,
      "outputs": [
        {
          "output_type": "execute_result",
          "data": {
            "text/plain": [
              "'ATGC ATGT GATG'"
            ],
            "application/vnd.google.colaboratory.intrinsic+json": {
              "type": "string"
            }
          },
          "metadata": {},
          "execution_count": 18
        }
      ]
    },
    {
      "cell_type": "code",
      "source": [
        "# dataset\n",
        "result = FrequentWords_Mismatches('CTATGCTCCTATGCTCGATAGAAAGCCTATGCTCTAAGCGGGCTATGCTCCACGACTTGACTATGCTCAAGCGAGCCACGACTTGATAAGCGGGAAGCGAGCAAGCGAGCCTATGCTCCTATGCTCGATAGAAAGCTAAGCGGGCACGACTTGAGATAGAAAGCAAGCGAGCCTATGCTCGATAGAAAGCCACGACTTGACACGACTTGAGATAGAAAGCTAAGCGGGCACGACTTGACTATGCTCAAGCGAGCAAGCGAGCCACGACTTGAGATAGAAAGCTAAGCGGGCTATGCTCAAGCGAGCGATAGAAAGCGATAGAAAGCGATAGAAAGCAAGCGAGCAAGCGAGCGATAGAAAGCTAAGCGGGCTATGCTCTAAGCGGGCACGACTTGACTATGCTCCTATGCTCTAAGCGGGCTATGCTCTAAGCGGGAAGCGAGCCACGACTTGACACGACTTGACTATGCTCCACGACTTGACACGACTTGACTATGCTCCACGACTTGACTATGCTCCACGACTTGACACGACTTGACTATGCTCTAAGCGGGAAGCGAGCCACGACTTGAAAGCGAGCGATAGAAAGCAAGCGAGCTAAGCGGGCTATGCTCAAGCGAGCAAGCGAGCCTATGCTCCTATGCTCAAGCGAGCCACGACTTGACACGACTTGAAAGCGAGCAAGCGAGCTAAGCGGGCACGACTTGAGATAGAAAGCCACGACTTGACTATGCTCAAGCGAGCCTATGCTCCACGACTTGAAAGCGAGCCACGACTTGATAAGCGGGCTATGCTCGATAGAAAGCAAGCGAGCCACGACTTGAGATAGAAAGCGATAGAAAGCTAAGCGGGAAGCGAGCCTATGCTCAAGCGAGCCTATGCTCGATAGAAAGCAAGCGAGCCACGACTTGAGATAGAAAGCTAAGCGGGCTATGCTCAAGCGAGC',6,3)\n",
        "\" \".join(result)"
      ],
      "metadata": {
        "colab": {
          "base_uri": "https://localhost:8080/",
          "height": 36
        },
        "id": "Olw20NZG6US6",
        "outputId": "46d70c74-0662-4429-facd-af3dc39b6e76"
      },
      "execution_count": null,
      "outputs": [
        {
          "output_type": "execute_result",
          "data": {
            "text/plain": [
              "'GCGAGA'"
            ],
            "application/vnd.google.colaboratory.intrinsic+json": {
              "type": "string"
            }
          },
          "metadata": {},
          "execution_count": 19
        }
      ]
    }
  ]
}