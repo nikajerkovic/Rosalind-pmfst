{
  "nbformat": 4,
  "nbformat_minor": 0,
  "metadata": {
    "colab": {
      "name": "BA1M.ipynb",
      "provenance": []
    },
    "kernelspec": {
      "name": "python3",
      "display_name": "Python 3"
    },
    "language_info": {
      "name": "python"
    }
  },
  "cells": [
    {
      "cell_type": "markdown",
      "source": [
        "## BA1M"
      ],
      "metadata": {
        "id": "tFwX26xr0lyD"
      }
    },
    {
      "cell_type": "markdown",
      "source": [
        "Implement NumberToPattern\n",
        "Convert an integer to its corresponding DNA string.\n",
        "\n",
        "Given: Integers index and k.\n",
        "\n",
        "Return: NumberToPattern(index, k)."
      ],
      "metadata": {
        "id": "ZPaCNDSN0m3z"
      }
    },
    {
      "cell_type": "markdown",
      "source": [
        "Link: https://rosalind.info/problems/ba1m/"
      ],
      "metadata": {
        "id": "sc45ahTW4pda"
      }
    },
    {
      "cell_type": "code",
      "source": [
        "def NumberToSymbol(index):\n",
        "  if index == 0:\n",
        "    symbol = 'A'\n",
        "  elif index == 1:\n",
        "    symbol = 'C'\n",
        "  elif index == 2:\n",
        "    symbol = 'G'\n",
        "  else:\n",
        "    symbol = 'T'\n",
        "\n",
        "  return symbol"
      ],
      "metadata": {
        "id": "GBMHfiGr1AzL"
      },
      "execution_count": 28,
      "outputs": []
    },
    {
      "cell_type": "code",
      "source": [
        "def quotient(n,m):\n",
        "  return n//m\n"
      ],
      "metadata": {
        "id": "AgkQh2kl2AZq"
      },
      "execution_count": 29,
      "outputs": []
    },
    {
      "cell_type": "code",
      "source": [
        "def reminder(n,m):\n",
        "  return n%m\n"
      ],
      "metadata": {
        "id": "V3TKR0eZ2NZj"
      },
      "execution_count": 30,
      "outputs": []
    },
    {
      "cell_type": "code",
      "source": [
        "def NumberToPattern(index,k):\n",
        "  if k == 1:\n",
        "    return NumberToSymbol(index)\n",
        "  prefixIndex = quotient(index,4)\n",
        "  r = reminder(index,4)\n",
        "  symbol = NumberToSymbol(r)\n",
        "  PrefixPattern = NumberToPattern(prefixIndex, k-1)\n",
        "  return PrefixPattern + symbol"
      ],
      "metadata": {
        "id": "6uPMq22M0txD"
      },
      "execution_count": 31,
      "outputs": []
    },
    {
      "cell_type": "code",
      "source": [
        "# sample dataset\n",
        "NumberToPattern(45,4)"
      ],
      "metadata": {
        "colab": {
          "base_uri": "https://localhost:8080/",
          "height": 35
        },
        "id": "XXPubMXDPK1E",
        "outputId": "5fd2ff68-6370-41ec-bf39-5dcb7345bf6f"
      },
      "execution_count": 34,
      "outputs": [
        {
          "output_type": "execute_result",
          "data": {
            "text/plain": [
              "'AGTC'"
            ],
            "application/vnd.google.colaboratory.intrinsic+json": {
              "type": "string"
            }
          },
          "metadata": {},
          "execution_count": 34
        }
      ]
    },
    {
      "cell_type": "code",
      "source": [
        "NumberToPattern(6368,7)"
      ],
      "metadata": {
        "colab": {
          "base_uri": "https://localhost:8080/",
          "height": 35
        },
        "id": "H1e-tUGt3opr",
        "outputId": "431b5f8d-9fc3-474d-e1fa-b9da8dca04b5"
      },
      "execution_count": 33,
      "outputs": [
        {
          "output_type": "execute_result",
          "data": {
            "text/plain": [
              "'CGATGAA'"
            ],
            "application/vnd.google.colaboratory.intrinsic+json": {
              "type": "string"
            }
          },
          "metadata": {},
          "execution_count": 33
        }
      ]
    }
  ]
}