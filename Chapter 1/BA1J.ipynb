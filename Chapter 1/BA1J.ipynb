{
  "nbformat": 4,
  "nbformat_minor": 0,
  "metadata": {
    "colab": {
      "name": "BA1J.ipynb",
      "provenance": [],
      "collapsed_sections": []
    },
    "kernelspec": {
      "name": "python3",
      "display_name": "Python 3"
    },
    "language_info": {
      "name": "python"
    }
  },
  "cells": [
    {
      "cell_type": "markdown",
      "source": [
        "## BA1J"
      ],
      "metadata": {
        "id": "P8wOy2XSyrR7"
      }
    },
    {
      "cell_type": "markdown",
      "metadata": {
        "id": "1zDypPW6YMKG"
      },
      "source": [
        "We now extend “Find the Most Frequent Words with Mismatches in a String” to find frequent words with both mismatches and reverse complements. Recall that Pattern refers to the reverse complement of Pattern.\n",
        "\n",
        "**Frequent Words with Mismatches and Reverse Complements Problem**\n",
        "\n",
        "Find the most frequent k-mers (with mismatches and reverse complements) in a DNA string.\n",
        "\n",
        "Given: A DNA string Text as well as integers k and d.\n",
        "\n",
        "Return: All k-mers Pattern maximizing the sum Countd(Text, Pattern) + Countd(Text, Pattern) over all possible k-mers.\n",
        "\n"
      ]
    },
    {
      "cell_type": "markdown",
      "metadata": {
        "id": "4nijKXFLYVIy"
      },
      "source": [
        "Link: https://rosalind.info/problems/ba1j/"
      ]
    },
    {
      "cell_type": "markdown",
      "source": [
        "Funkcije iz prethodnih zadataka koje se koriste:"
      ],
      "metadata": {
        "id": "gINMquLSXY9d"
      }
    },
    {
      "cell_type": "code",
      "execution_count": null,
      "metadata": {
        "id": "GdqSZ9Seyjux"
      },
      "outputs": [],
      "source": [
        "# BA1C\n",
        "def reverseComplement(pattern):\n",
        "  r_complement = ''\n",
        "  r_dict = {\n",
        "      \"A\": \"T\",\"C\":\"G\",\"G\":\"C\",\"T\":\"A\"\n",
        "  }\n",
        "  for i in pattern[::-1]:\n",
        "    r_complement += r_dict[i]\n",
        "\n",
        "  return r_complement"
      ]
    },
    {
      "cell_type": "code",
      "execution_count": null,
      "metadata": {
        "id": "TB-mTfAruB7U"
      },
      "outputs": [],
      "source": [
        "# BA1G\n",
        "def hamming(dna1,dna2):\n",
        "  counter=0\n",
        "  for i, j in zip(dna1,dna2):\n",
        "    if i != j:\n",
        "      counter+=1\n",
        "\n",
        "  return counter"
      ]
    },
    {
      "cell_type": "code",
      "source": [
        "# BA1I\n",
        "def make_kmers(k):\n",
        "  a_string = 'ACTG'\n",
        "  final_list = [[]]\n",
        "  length = k\n",
        "  groups = [list(a_string)] * length\n",
        "  for i in groups:\n",
        "      final_list = [x+[y] for x in final_list for y in i]\n",
        "  permutations = [''.join(item) for item in final_list]\n",
        "  return permutations"
      ],
      "metadata": {
        "id": "MnlY0HWmyt0v"
      },
      "execution_count": null,
      "outputs": []
    },
    {
      "cell_type": "markdown",
      "source": [
        "Novo:"
      ],
      "metadata": {
        "id": "twDeltczX1Cj"
      }
    },
    {
      "cell_type": "code",
      "execution_count": null,
      "metadata": {
        "id": "v3ooCOKgYYJP"
      },
      "outputs": [],
      "source": [
        "def FrequentWordsMismatches_and_ReverseComplements(text,k,d):\n",
        "  k_mers = make_kmers(k)\n",
        "  all = {}\n",
        "  for mer in k_mers:\n",
        "    counter = 0\n",
        "    for i in range(len(text)-k+1):\n",
        "      if hamming(mer,text[i:i+k]) <= d:\n",
        "        counter += 1\n",
        "      # samo je ovo dodano u odnosu na BA1I\n",
        "      if hamming(mer,reverseComplement(text[i:i+k])) <= d:\n",
        "        counter += 1 \n",
        "    all[mer] = counter\n",
        "\n",
        "  max_value = max(all.items(), key=lambda x: x[1])\n",
        "  listOfKeys = list()\n",
        "  for key, value in  all.items():\n",
        "    if value == max_value[1]:\n",
        "        listOfKeys.append(key)\n",
        "  \n",
        "  return listOfKeys"
      ]
    },
    {
      "cell_type": "code",
      "source": [
        "# sample dataset\n",
        "FrequentWordsMismatches_and_ReverseComplements('ACGTTGCATGTCGCATGATGCATGAGAGCT',4,1)"
      ],
      "metadata": {
        "colab": {
          "base_uri": "https://localhost:8080/"
        },
        "id": "e2JjCl7eVWYW",
        "outputId": "61c7bd60-3702-476f-8a59-92381b6ece40"
      },
      "execution_count": null,
      "outputs": [
        {
          "output_type": "execute_result",
          "data": {
            "text/plain": [
              "['ACAT', 'ATGT']"
            ]
          },
          "metadata": {},
          "execution_count": 13
        }
      ]
    },
    {
      "cell_type": "code",
      "source": [
        "# dataset\n",
        "result = FrequentWordsMismatches_and_ReverseComplements('AGCCTATACGCTGAGTGTAAGCCTATACGCACAGCTGCACAGCTGCCCGTAACCACAGCTGAGCCTATACGCCCGTAACCCCGTAACCTGAGTGTACCCGTAACAGCCTATACGTCCGGTTTTCCGGTTTCCCGTAACCACAGCTGTCCGGTTTCCCGTAACCCCGTAACCTGAGTGTACACAGCTGAGCCTATACGCACAGCTGCCCGTAACCACAGCTGCCCGTAACCCCGTAACCCCGTAACCCCGTAACAGCCTATACGCACAGCTGTCCGGTTTCACAGCTGCACAGCTGAGCCTATACGCCCGTAACCCCGTAACCACAGCTGTCCGGTTTCTGAGTGTAAGCCTATACGCCCGTAACCACAGCTGCCCGTAACCCCGTAACAGCCTATACGTCCGGTTTCACAGCTGAGCCTATACGTCCGGTTTCTGAGTGTAAGCCTATACGAGCCTATACGTCCGGTTTTCCGGTTTCACAGCTGCTGAGTGTAAGCCTATACGCTGAGTGTACCCGTAACAGCCTATACGCACAGCTGTCCGGTTTCCCGTAACCACAGCTGTCCGGTTTAGCCTATACGAGCCTATACGAGCCTATACGAGCCTATACGCACAGCTGCTGAGTGTAAGCCTATACGCTGAGTGTACTGAGTGTACCCGTAACCCCGTAACTCCGGTTTCACAGCTGAGCCTATACGTCCGGTTTCACAGCTGCACAGCTGAGCCTATACGTCCGGTTTCCCGTAACCCCGTAACAGCCTATACGCCCGTAACCACAGCTGTCCGGTTTAGCCTATACGCCCGTAACAGCCTATACGTCCGGTTTTCCGGTTTTCCGGTTTCTGAGTGTACTGAGTGTAAGCCTATACGCACAGCTGAGCCTATACGAGCCTATACGAGCCTATACGAGCCTATACGCACAGCTG',6,2)"
      ],
      "metadata": {
        "id": "17RTq2zqWeNq"
      },
      "execution_count": null,
      "outputs": []
    },
    {
      "cell_type": "code",
      "source": [
        "\" \".join(result)"
      ],
      "metadata": {
        "colab": {
          "base_uri": "https://localhost:8080/",
          "height": 36
        },
        "id": "DDEbNkEXWnh7",
        "outputId": "57f400dd-f4b5-448f-d9e2-288fbd3058e4"
      },
      "execution_count": null,
      "outputs": [
        {
          "output_type": "execute_result",
          "data": {
            "text/plain": [
              "'CGGGTA TACCCG'"
            ],
            "application/vnd.google.colaboratory.intrinsic+json": {
              "type": "string"
            }
          },
          "metadata": {},
          "execution_count": 15
        }
      ]
    }
  ]
}