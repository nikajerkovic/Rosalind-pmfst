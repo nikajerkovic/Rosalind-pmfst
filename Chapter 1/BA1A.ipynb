{
  "nbformat": 4,
  "nbformat_minor": 0,
  "metadata": {
    "colab": {
      "name": "BA1A.ipynb",
      "provenance": []
    },
    "kernelspec": {
      "name": "python3",
      "display_name": "Python 3"
    },
    "language_info": {
      "name": "python"
    }
  },
  "cells": [
    {
      "cell_type": "markdown",
      "source": [
        "## BA1A"
      ],
      "metadata": {
        "id": "LGJqLG7senqe"
      }
    },
    {
      "cell_type": "markdown",
      "source": [
        "**Zadatak** \n",
        "\n",
        "This is the first problem in a collection of \"code challenges\" to accompany Bioinformatics Algorithms: An Active-Learning Approach by Phillip Compeau & Pavel Pevzner.\n",
        "\n",
        "A k-mer is a string of length k. We define Count(Text, Pattern) as the number of times that a k-mer Pattern appears as a substring of Text. For example,\n",
        "\n",
        "\n",
        "Count(ACAACTATGCATACTATCGGGAACTATCCT,ACTAT)=3.\n",
        "\n",
        "We note that Count(CGATATATCCATAG, ATA) is equal to 3 (not 2) since we should account for overlapping occurrences of Pattern in Text.\n",
        "\n",
        "To compute Count(Text, Pattern), our plan is to “slide a window” down Text, checking whether each k-mer substring of Text matches Pattern. We will therefore refer to the k-mer starting at position i of Text as Text(i, k). Throughout this book, we will often use 0-based indexing, meaning that we count starting at 0 instead of 1. In this case, Text begins at position 0 and ends at position |Text| − 1 (|Text| denotes the number of symbols in Text). For example, if Text = GACCATACTG, then Text(4, 3) = ATA. Note that the last k-mer of Text begins at position |Text| − k, e.g., the last 3-mer of GACCATACTG starts at position 10 − 3 = 7. This discussion results in the following pseudocode for computing Count(Text, Pattern)."
      ],
      "metadata": {
        "id": "jck3PMDAeucr"
      }
    },
    {
      "cell_type": "markdown",
      "source": [
        "Link: https://rosalind.info/problems/ba1a/"
      ],
      "metadata": {
        "id": "lnYz6IQhe9PW"
      }
    },
    {
      "cell_type": "code",
      "source": [
        "import re\n",
        "def count(text, pattern):\n",
        "  return len(re.findall('(?='+pattern+')',text))"
      ],
      "metadata": {
        "id": "hqNrvlpXe692"
      },
      "execution_count": 1,
      "outputs": []
    },
    {
      "cell_type": "code",
      "source": [
        "# sample dataset\n",
        "count(\"GCGCG\",\"GCG\")"
      ],
      "metadata": {
        "colab": {
          "base_uri": "https://localhost:8080/"
        },
        "id": "kuVlgwtcFdUr",
        "outputId": "68e767cd-d0e4-4d98-d1f0-bae9cab19bc7"
      },
      "execution_count": 3,
      "outputs": [
        {
          "output_type": "execute_result",
          "data": {
            "text/plain": [
              "2"
            ]
          },
          "metadata": {},
          "execution_count": 3
        }
      ]
    },
    {
      "cell_type": "code",
      "source": [
        "# dataset\n",
        "count(\"ACCGAAGATCCCCGAAGATTTCGAAGATTGCGAAGATCGAAGATGCCTAGCAAACGAAGATAAAACACCGAAGATTGGCCGAAGATCACGAAGATGGAGCACGAAGATCGAAGATTTGTCGAAGATACGAAGATACGAAGATGCGAAGATGATGTCGAAGATCGAAGATAGCGAAGATGGCGCGAAGATTCGAAGATTCGAAGATGTGACGAAGATTCGAAGATCGAAGATACGAAGATCGAAGATCGAAGATCGAAGATACGAAGATCGAAGATTCCTTGTCTGCGAAGATTAACGAAGATGACCGAAGATAGAACGAAGATAACGAAGATCGAAGATCGAAGATTGTTAGCACGTCCGAAGATGTTTGCGGTCACGAAGATCGAAGATGCGAAGATCGAAGATCACGAAGATAGGTCGAAGATTTCGAAGATTCCGAAGATACCGAAGATCGAAGATCGAAGATAGACGCGAAGATCGAAGATCATTCGAAGATACTATCGAAGATCGAAGATTCTCTGTCGAAGATCGAAGATCGAAGATGCGAAGATTAGCAGGCTACGAAGATCGAAGATGTAAATCGAAGATGCGAAGATGGTAGCCGAAGATACGAAGATCGCGAAGATACCGAAGATGGCCCGAAGATAACTCGAAGATGGCCGAAGATGCGAAGATTTCGACCGAAGATAGACGAAGATCACGTGCAACGAAGATGACGAAGATGCGAAGATACGAAGATCCCGTCGAAGATCGAAGATACCGAAGATGACTTCGAAGATACACGAAGATATGAGCGAAGATCGAAGATGCTTGTTCGTGCGAAGATCGAAGATCGAAGATCCGAAGATGTCGAAGATTTACGAAGATCGAAGATACGAAGATCGAAGATCGAAGATATTCACGAAGATCTACGAAGATCGAAGATCTGCGAAGATATCGAAGATAGGGCGAAGATCGAAGAT\",\"CGAAGATCG\")"
      ],
      "metadata": {
        "colab": {
          "base_uri": "https://localhost:8080/"
        },
        "id": "3VhLxU4MfcWm",
        "outputId": "ab0d201f-01d3-4cf2-e7c1-3f1a0972a1ea"
      },
      "execution_count": 4,
      "outputs": [
        {
          "output_type": "execute_result",
          "data": {
            "text/plain": [
              "29"
            ]
          },
          "metadata": {},
          "execution_count": 4
        }
      ]
    }
  ]
}