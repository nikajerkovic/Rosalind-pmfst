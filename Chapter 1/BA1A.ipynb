{
  "nbformat": 4,
  "nbformat_minor": 0,
  "metadata": {
    "colab": {
      "name": "BA1A.ipynb",
      "provenance": []
    },
    "kernelspec": {
      "name": "python3",
      "display_name": "Python 3"
    },
    "language_info": {
      "name": "python"
    }
  },
  "cells": [
    {
      "cell_type": "markdown",
      "source": [
        "## BA1A"
      ],
      "metadata": {
        "id": "LGJqLG7senqe"
      }
    },
    {
      "cell_type": "markdown",
      "source": [
        "**Implement PatternCount**\n",
        "\n",
        "Given: {DNA strings}} Text and Pattern.\n",
        "\n",
        "Return: Count(Text, Pattern)."
      ],
      "metadata": {
        "id": "jck3PMDAeucr"
      }
    },
    {
      "cell_type": "markdown",
      "source": [
        "Link: https://rosalind.info/problems/ba1a/"
      ],
      "metadata": {
        "id": "lnYz6IQhe9PW"
      }
    },
    {
      "cell_type": "code",
      "source": [
        "def count(text,pattern):\n",
        "  \n",
        "  count = 0\n",
        "  for i in range(len(text)):\n",
        "    window = text[i:len(pattern)+i]\n",
        "    if window == pattern:\n",
        "        count +=1\n",
        "\n",
        "  return count"
      ],
      "metadata": {
        "id": "9OlOnBijySBC"
      },
      "execution_count": 1,
      "outputs": []
    },
    {
      "cell_type": "code",
      "source": [
        "# sample dataset\n",
        "count(\"GCGCG\",\"GCG\")"
      ],
      "metadata": {
        "colab": {
          "base_uri": "https://localhost:8080/"
        },
        "id": "kuVlgwtcFdUr",
        "outputId": "e417dc3b-cb08-4315-9022-d523fe93a669"
      },
      "execution_count": 2,
      "outputs": [
        {
          "output_type": "execute_result",
          "data": {
            "text/plain": [
              "2"
            ]
          },
          "metadata": {},
          "execution_count": 2
        }
      ]
    },
    {
      "cell_type": "code",
      "source": [
        "# dataset\n",
        "count(\"ACCGAAGATCCCCGAAGATTTCGAAGATTGCGAAGATCGAAGATGCCTAGCAAACGAAGATAAAACACCGAAGATTGGCCGAAGATCACGAAGATGGAGCACGAAGATCGAAGATTTGTCGAAGATACGAAGATACGAAGATGCGAAGATGATGTCGAAGATCGAAGATAGCGAAGATGGCGCGAAGATTCGAAGATTCGAAGATGTGACGAAGATTCGAAGATCGAAGATACGAAGATCGAAGATCGAAGATCGAAGATACGAAGATCGAAGATTCCTTGTCTGCGAAGATTAACGAAGATGACCGAAGATAGAACGAAGATAACGAAGATCGAAGATCGAAGATTGTTAGCACGTCCGAAGATGTTTGCGGTCACGAAGATCGAAGATGCGAAGATCGAAGATCACGAAGATAGGTCGAAGATTTCGAAGATTCCGAAGATACCGAAGATCGAAGATCGAAGATAGACGCGAAGATCGAAGATCATTCGAAGATACTATCGAAGATCGAAGATTCTCTGTCGAAGATCGAAGATCGAAGATGCGAAGATTAGCAGGCTACGAAGATCGAAGATGTAAATCGAAGATGCGAAGATGGTAGCCGAAGATACGAAGATCGCGAAGATACCGAAGATGGCCCGAAGATAACTCGAAGATGGCCGAAGATGCGAAGATTTCGACCGAAGATAGACGAAGATCACGTGCAACGAAGATGACGAAGATGCGAAGATACGAAGATCCCGTCGAAGATCGAAGATACCGAAGATGACTTCGAAGATACACGAAGATATGAGCGAAGATCGAAGATGCTTGTTCGTGCGAAGATCGAAGATCGAAGATCCGAAGATGTCGAAGATTTACGAAGATCGAAGATACGAAGATCGAAGATCGAAGATATTCACGAAGATCTACGAAGATCGAAGATCTGCGAAGATATCGAAGATAGGGCGAAGATCGAAGAT\",\"CGAAGATCG\")"
      ],
      "metadata": {
        "colab": {
          "base_uri": "https://localhost:8080/"
        },
        "id": "3VhLxU4MfcWm",
        "outputId": "b2160ba0-1644-48a2-8642-ac609e340cc7"
      },
      "execution_count": 3,
      "outputs": [
        {
          "output_type": "execute_result",
          "data": {
            "text/plain": [
              "29"
            ]
          },
          "metadata": {},
          "execution_count": 3
        }
      ]
    }
  ]
}