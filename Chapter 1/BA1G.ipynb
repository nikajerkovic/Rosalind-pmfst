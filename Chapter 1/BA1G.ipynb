{
  "nbformat": 4,
  "nbformat_minor": 0,
  "metadata": {
    "colab": {
      "name": "BA1G.ipynb",
      "provenance": []
    },
    "kernelspec": {
      "name": "python3",
      "display_name": "Python 3"
    },
    "language_info": {
      "name": "python"
    }
  },
  "cells": [
    {
      "cell_type": "markdown",
      "source": [
        "## BA1G"
      ],
      "metadata": {
        "id": "IVtwltzSt1RF"
      }
    },
    {
      "cell_type": "markdown",
      "source": [
        "We say that position i in k-mers p1 … pk and q1 … qk is a mismatch if pi ≠ qi. For example, CGAAT and CGGAC have two mismatches. The number of mismatches between strings p and q is called the Hamming distance between these strings and is denoted HammingDistance(p, q).\n",
        "\n",
        "Hamming Distance Problem\n",
        "Compute the Hamming distance between two DNA strings.\n",
        "\n",
        "Given: Two DNA strings.\n",
        "\n",
        "Return: An integer value representing the Hamming distance."
      ],
      "metadata": {
        "id": "meR5KEZVtNVd"
      }
    },
    {
      "cell_type": "markdown",
      "source": [
        "Link: https://rosalind.info/problems/ba1g/"
      ],
      "metadata": {
        "id": "zKqCzDSjt61E"
      }
    },
    {
      "cell_type": "code",
      "source": [
        "def hamming(dna1,dna2):\n",
        "  counter=0\n",
        "  for i, j in zip(dna1,dna2):\n",
        "    if i != j:\n",
        "      counter+=1\n",
        "\n",
        "  return counter"
      ],
      "metadata": {
        "id": "TB-mTfAruB7U"
      },
      "execution_count": 18,
      "outputs": []
    },
    {
      "cell_type": "code",
      "source": [
        "# sample dataset\n",
        "hamming(\"GGGCCGTTGGT\",\"GGACCGTTGAC\")"
      ],
      "metadata": {
        "colab": {
          "base_uri": "https://localhost:8080/"
        },
        "id": "tPUBNkRlN55y",
        "outputId": "12cec93f-c3ba-4430-bc88-4065375474d0"
      },
      "execution_count": 19,
      "outputs": [
        {
          "output_type": "execute_result",
          "data": {
            "text/plain": [
              "3"
            ]
          },
          "metadata": {},
          "execution_count": 19
        }
      ]
    },
    {
      "cell_type": "code",
      "source": [
        "hamming(\"TTCTCAAATCTAATACTGACTGCTGAGATACACTTTGCGGGAAGAGGAATCTGTATGCTCTATGGCTCTAGAGCGTTTGGTGTTATTTTCGAGACCGGATGCCCATGGCTTCTTCACCTGCTAGTGGGTAACACCTATACCAGACGAGACTCTTCTGTAACTATCCAAATATGTCTTGACGCGTGTGGTTAGATCGTTCATTTTGTACTCACTTTTTAAAAAGAAGAGTATGACTAAGCATAAGATTTCAAAGCGGGACAATCGATCTTATGTCTCGTACTGCGCCCCTGATCCGCAGCATAGTTACCGCCGAAAAGTTAACCATGTGAGATTGTGCTCCATCCCACGCATGCCGTTCATGAGAGACCTCGGATTATGCGTACCTACTGGCAAGTCATTAATACCTTACCGATTAAGCATGAGGCCCGCTATGTCCATGTCTCGAATTTAGTGGTTACGTCGTACTTAGCTCCAATCTATGGTATCATACAGCCCGTGCGGTTTTGATTTTGCTACGAGACCTAGCACGTTGGTGGTTACCTCTTTATACTACGAGGAGTGCTAGTTATTGGAGGGGGTGCTTTGCCTACAAGCGGTACGGGATGACGCGTTACAAGAAACGCGCGGTTAACTGGTTACGTCTATGGTCGATCTAACGGGGTCCAAAGGTCGGTGTGGCGCTCCACAACTGGGCATTCCAAGGGCAGTTTTCCGAGCCAACTGGGAACGGCTATAGACGCGCATCACCTTAATAAGACTACTTCCACAATTTGTAATCATACATAAGTATGCAGATCCACGCATCAACGCACAATGATATGCCAGTCTCAAGAGTTAGTTATATGGTTGCATCCAATAGATGCCAGACTAAAATAGTTTTTTTACCACAGGTTGGAGCCGAACCCCGTTGAACGTATTGAGGGGCGACTGGTTCTTATTGCGTGAAAAGCCATCCCTGTGTTGGAGGGGCCTTCTGTATGGAGGAGGAAAGACACAGTAAGGTTATTTTACTTAATGGTGCATCTGCACATGTCACCTTTGACGGTTCATAGCAAGTGTCGACGCCTGAGTAAGGGGACGATTGACCGTAATTCATCA\", \"GGCCTCGTTCTAACCATACTGGATAGTGGCCACACGTAACTCGGCCTACCAGGCGGTACCCTGCCAATCGAGCATTGGCAATTCACAAGAGTTTGGGCAGGAAACACGAGAGAAAACCCTAGAGGTTTCTTGCATGCAGCCCAGACGGTATGCGATCAGATTGCCTCAACGGTGACCTGCAGTTTCTTCACTATACCGGGGAAGGCGCGAGAGTACTAACAATGACGCTTCCACGATCAGTACTTTATGCCAGGGAAACGAACTGTTAAATCTACAACACCCTATCAGGGGGAAAAACAACCGGGGAACTCCTACCTACAACTACGCACAGATGCACGAACGTGCATAAGCCCAATCCCTTCGCGCATTAGGGGCTTGACTAGCACATCTAGTTAAACTAAACTAGCTGTCTGTCCGTGGAGAGTATGGGCTTTCGGTACCACCATCCAAGACCTAAAAGTTCTTGGAAAAGCACCACTGGGATTTGCGAAGTTGGCTGGCATTTTTAAGGTTTTTTCGCTCTCTCGATCTTCATTTCTTTGAGAGCCGGTCTCCATTAGTAGTCACAGGTAACTCGCTTAAGCCCGTCCTTGGTTAACCCGGGCGGGCACTCTAGTCAATTGCGATACTCCAAACATGCGTGATTGTTATAATTTAGGGACCAGCTGGGGGGAGGCGGTGTCTGTCCCGGGACTCTGCCTGATCTCGTTGGCTGAACCCCATTGCGGACTTCGTCAAATGGTAATCAATAGAGTCGGAGTCGTGGTTATGTGCAGGAGTGGGTGGCGCGGTGAAACGTGTGAGGGGTACCTTATCGTGACTGAAACGATCTTCTGTCTACGATAGGGTTTCCACTCGACGCGATTCCCATAAAAGAGTAGAAACTGACCCAGTACCGAACCGAAGCTCCGAACCTTACCGGGATTTATACTAAGTCATCGCCCCCCTCAGTGCTTCGATGCCTAGTGTTTTACAGTCAGCATAGCGGAGAGGCCTATAACTTGACTCCGTGGCAACCTATAGCTGACCAATTCGCAGCCCCATGCCTTGACTATGGGCATCTGAAGGATTTAAGAAATGGCACACGCCTTCGGGCAC\")"
      ],
      "metadata": {
        "colab": {
          "base_uri": "https://localhost:8080/"
        },
        "id": "avF2JQVCuXTL",
        "outputId": "de574dd7-0f24-49ea-8db7-8d4a0b159888"
      },
      "execution_count": 20,
      "outputs": [
        {
          "output_type": "execute_result",
          "data": {
            "text/plain": [
              "810"
            ]
          },
          "metadata": {},
          "execution_count": 20
        }
      ]
    }
  ]
}