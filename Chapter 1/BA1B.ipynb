{
  "nbformat": 4,
  "nbformat_minor": 0,
  "metadata": {
    "colab": {
      "name": "BA1B.ipynb",
      "provenance": []
    },
    "kernelspec": {
      "name": "python3",
      "display_name": "Python 3"
    },
    "language_info": {
      "name": "python"
    }
  },
  "cells": [
    {
      "cell_type": "markdown",
      "source": [
        "## BA1B"
      ],
      "metadata": {
        "id": "w-Va6wtkACYc"
      }
    },
    {
      "cell_type": "markdown",
      "source": [
        "**Zadatak** \n",
        "\n",
        "We say that Pattern is a most frequent k-mer in Text if it maximizes Count(Text, Pattern) among all k-mers. For example, \"ACTAT\" is a most frequent 5-mer in \"ACAACTATGCATCACTATCGGGAACTATCCT\", and \"ATA\" is a most frequent 3-mer of \"CGATATATCCATAG\".\n",
        "\n",
        "Link: https://rosalind.info/problems/ba1b/"
      ],
      "metadata": {
        "id": "w-09xPIKAJP7"
      }
    },
    {
      "cell_type": "code",
      "source": [
        "def count_kmers(read, k):\n",
        "    counts = {}\n",
        "    num_kmers = len(read) - k + 1\n",
        "    for i in range(num_kmers):\n",
        "        kmer = read[i:i+k]\n",
        "        if kmer not in counts:\n",
        "            counts[kmer] = 0\n",
        "        counts[kmer] += 1\n",
        "    return counts"
      ],
      "metadata": {
        "id": "e0qnb7wQ5qR4"
      },
      "execution_count": 5,
      "outputs": []
    },
    {
      "cell_type": "code",
      "source": [
        "def most_freq(read, k):\n",
        "  dictionary = count_kmers(read, k)\n",
        "  max_value = max(dictionary.items(), key=lambda x: x[1])\n",
        "  listOfKeys = list()\n",
        "  for key, value in dictionary.items():\n",
        "    if value == max_value[1]:\n",
        "        listOfKeys.append(key)\n",
        "  return listOfKeys"
      ],
      "metadata": {
        "id": "HqV1Y9SR8aIG"
      },
      "execution_count": 6,
      "outputs": []
    },
    {
      "cell_type": "code",
      "source": [
        "# sample dataset\n",
        "most_freq(\"ACGTTGCATGTCGCATGATGCATGAGAGCT\",4)"
      ],
      "metadata": {
        "colab": {
          "base_uri": "https://localhost:8080/"
        },
        "id": "LtiT2tTZL1Yy",
        "outputId": "d3afa6f0-e032-48b1-c9c9-e44c772c7511"
      },
      "execution_count": 7,
      "outputs": [
        {
          "output_type": "execute_result",
          "data": {
            "text/plain": [
              "['GCAT', 'CATG']"
            ]
          },
          "metadata": {},
          "execution_count": 7
        }
      ]
    },
    {
      "cell_type": "code",
      "source": [
        "# dataset\n",
        "most_freq(\"TGAAGTATTGAAGTATTGAAGTATTGAAGTATTGAAGTATTGAAGTATTGAAGTATTTTATCATCCAGTGAGGCCTGAAGTATTTTATCATCCAGTGAGGCCTGAAGTATAGTGAGGCCAGTGAGGCCTCAATAACATGAAGTATCACACATGTCAATAACATCAATAACATTTATCATCCTTTATCATCCCACACATGTTTATCATCCTGAAGTATTCAATAACACACACATGAGTGAGGCCTCAATAACATTTATCATCCTGAAGTATTGAAGTATAGTGAGGCCCACACATGTGAAGTATCACACATGTTTATCATCCAGTGAGGCCCACACATGTCAATAACACACACATGTCAATAACATTTATCATCCTCAATAACAAGTGAGGCCTGAAGTATTGAAGTATTCAATAACATTTATCATCCTCAATAACAAGTGAGGCCTTTATCATCCTTTATCATCCTCAATAACACACACATGTGAAGTATTGAAGTATTTTATCATCCTCAATAACAAGTGAGGCCCACACATGTTTATCATCCTCAATAACACACACATGAGTGAGGCCTTTATCATCCAGTGAGGCCTGAAGTATTGAAGTATTCAATAACATGAAGTATCACACATGAGTGAGGCCTGAAGTATTCAATAACACACACATGAGTGAGGCCTCAATAACATGAAGTATTCAATAACATCAATAACATTTATCATCCTTTATCATCCTTTATCATCCCACACATGCACACATGCACACATGCACACATGTGAAGTATTCAATAACACACACATGTTTATCATCCAGTGAGGCCAGTGAGGCCCACACATGTGAAGTATTTTATCATCCTCAATAACAAGTGAGGCCAGTGAGGCCCACACATGAGTGAGGCCCACACATGTTTATCATCCTTTATCATCCTCAATAACATTTATCATCC\", 14)"
      ],
      "metadata": {
        "colab": {
          "base_uri": "https://localhost:8080/"
        },
        "id": "bx9XPcgH9U1e",
        "outputId": "50640170-723c-4653-98d4-2094d418b3cf"
      },
      "execution_count": 8,
      "outputs": [
        {
          "output_type": "execute_result",
          "data": {
            "text/plain": [
              "['TGAAGTATTGAAGT', 'GAAGTATTGAAGTA', 'AAGTATTGAAGTAT']"
            ]
          },
          "metadata": {},
          "execution_count": 8
        }
      ]
    }
  ]
}