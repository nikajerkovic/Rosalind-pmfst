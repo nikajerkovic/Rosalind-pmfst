{
  "nbformat": 4,
  "nbformat_minor": 0,
  "metadata": {
    "colab": {
      "name": "BA1L.ipynb",
      "provenance": []
    },
    "kernelspec": {
      "name": "python3",
      "display_name": "Python 3"
    },
    "language_info": {
      "name": "python"
    }
  },
  "cells": [
    {
      "cell_type": "markdown",
      "source": [
        "## BA1L"
      ],
      "metadata": {
        "id": "bfIMBLjcxycl"
      }
    },
    {
      "cell_type": "markdown",
      "source": [
        "Implement PatternToNumber\n",
        "Convert a DNA string to a number.\n",
        "\n",
        "Given: A DNA string Pattern.\n",
        "\n",
        "Return: PatternToNumber(Pattern)."
      ],
      "metadata": {
        "id": "M3okH5MTx2Zk"
      }
    },
    {
      "cell_type": "markdown",
      "source": [
        "Link: https://rosalind.info/problems/ba1l/"
      ],
      "metadata": {
        "id": "v-biJR7Mx7d9"
      }
    },
    {
      "cell_type": "code",
      "source": [
        "def SymbolToNumber(symbol):\n",
        "\n",
        "  if symbol == 'A':\n",
        "    number = 0\n",
        "  elif symbol == 'C':\n",
        "    number = 1\n",
        "  elif symbol == 'G':\n",
        "    number = 2\n",
        "  else:\n",
        "    number = 3\n",
        "\n",
        "  return number"
      ],
      "metadata": {
        "id": "kPoh3Rwex-9k"
      },
      "execution_count": 24,
      "outputs": []
    },
    {
      "cell_type": "code",
      "source": [
        "def PatternToNumber(pattern):\n",
        "  if len(pattern) == 0:\n",
        "    return 0\n",
        "  symbol = pattern[-1:]\n",
        "  prefix = pattern[:-1]\n",
        "  return 4*PatternToNumber(prefix) + SymbolToNumber(symbol)"
      ],
      "metadata": {
        "id": "VrqmXf1FywU9"
      },
      "execution_count": 25,
      "outputs": []
    },
    {
      "cell_type": "code",
      "source": [
        "PatternToNumber(\"AGT\")"
      ],
      "metadata": {
        "colab": {
          "base_uri": "https://localhost:8080/"
        },
        "id": "Y-sajTQwOz_P",
        "outputId": "1bd451b0-d4f9-4ed2-f754-a8620e0eeaf6"
      },
      "execution_count": 26,
      "outputs": [
        {
          "output_type": "execute_result",
          "data": {
            "text/plain": [
              "11"
            ]
          },
          "metadata": {},
          "execution_count": 26
        }
      ]
    },
    {
      "cell_type": "code",
      "source": [
        "PatternToNumber(\"CTTCCACCGCGCCTATCGCCTGGCGGC\")"
      ],
      "metadata": {
        "colab": {
          "base_uri": "https://localhost:8080/"
        },
        "id": "uhhYFL4Sz1yD",
        "outputId": "5d9d8ae5-a408-439a-e03f-ab3f993d4fb7"
      },
      "execution_count": 27,
      "outputs": [
        {
          "output_type": "execute_result",
          "data": {
            "text/plain": [
              "8815224364300905"
            ]
          },
          "metadata": {},
          "execution_count": 27
        }
      ]
    }
  ]
}