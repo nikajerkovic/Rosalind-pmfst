{
  "nbformat": 4,
  "nbformat_minor": 0,
  "metadata": {
    "colab": {
      "name": "BA3L.ipynb",
      "provenance": [],
      "collapsed_sections": []
    },
    "kernelspec": {
      "name": "python3",
      "display_name": "Python 3"
    },
    "language_info": {
      "name": "python"
    }
  },
  "cells": [
    {
      "cell_type": "markdown",
      "source": [
        "## BA3L"
      ],
      "metadata": {
        "id": "P8wOy2XSyrR7"
      }
    },
    {
      "cell_type": "markdown",
      "source": [
        "**Gapped Genome Path String Problem**\n",
        "\n",
        "Reconstruct a string from a sequence of (k,d)-mers corresponding to a path in a paired de Bruijn graph.\n",
        "\n",
        "Given: A sequence of (k, d)-mers (a1|b1), ... , (an|bn) such that Suffix(ai|bi) = Prefix(ai+1|bi+1) for all i from 1 to n-1.\n",
        "\n",
        "Return: A string Text where the i-th k-mer in Text is equal to Suffix(ai|bi) for all i from 1 to n, if such a string exists."
      ],
      "metadata": {
        "id": "1dYO8jV74ggR"
      }
    },
    {
      "cell_type": "markdown",
      "source": [
        "Link: https://rosalind.info/problems/ba3l/"
      ],
      "metadata": {
        "id": "x3HeuW_X40cQ"
      }
    },
    {
      "cell_type": "markdown",
      "source": [
        "Funkcija iz prethonog zadatka koja se koristi:"
      ],
      "metadata": {
        "id": "cpME_KcTWj1d"
      }
    },
    {
      "cell_type": "code",
      "execution_count": null,
      "metadata": {
        "id": "vBnQmFMdtW0W"
      },
      "outputs": [],
      "source": [
        "# BA3B\n",
        "def Reconstruction(sequence):\n",
        "  text = sequence[0]\n",
        "  for k_mer in sequence[1:]:\n",
        "    text = text + \"\".join(k_mer[-1])\n",
        "  return text"
      ]
    },
    {
      "cell_type": "markdown",
      "source": [
        "Novo:"
      ],
      "metadata": {
        "id": "_dru7Lx6WySA"
      }
    },
    {
      "cell_type": "code",
      "source": [
        "# sample dataset\n",
        "with open('/content/sample_data/input.txt') as input_data:\n",
        "    k,d = input_data.readline().split()\n",
        "    pairs = [line.strip().split('|') for line in input_data.readlines()]"
      ],
      "metadata": {
        "id": "y2AZi5ab44cO"
      },
      "execution_count": null,
      "outputs": []
    },
    {
      "cell_type": "code",
      "source": [
        "# napisano prema pseudokodu str.169\n",
        "def StringSpelledBYGappedPatterns(patterns,k,d):\n",
        "  first_patterns =[]\n",
        "  second_patterns = []\n",
        "\n",
        "  for lst in patterns:\n",
        "    first_patterns.append(lst[0])\n",
        "    second_patterns.append(lst[1])\n",
        "\n",
        "  prefix_string = Reconstruction(first_patterns)\n",
        "  suffix_string = Reconstruction(second_patterns)\n",
        "\n",
        "  \n",
        "  for i in range(k+d-1,len(prefix_string)):\n",
        "    if prefix_string[i] != suffix_string[i-k-d]:\n",
        "      return \"There is no string spelled by the gapped patterns\"\n",
        "\n",
        "  # prefix + zadnjih k+d simbola iz sufixa    \n",
        "  return prefix_string + suffix_string[-(k+d):]\n"
      ],
      "metadata": {
        "id": "NNdjgKDd_MhE"
      },
      "execution_count": null,
      "outputs": []
    },
    {
      "cell_type": "code",
      "source": [
        "StringSpelledBYGappedPatterns(pairs,int(k),int(d)) # sample result"
      ],
      "metadata": {
        "colab": {
          "base_uri": "https://localhost:8080/",
          "height": 36
        },
        "id": "PWRcJA-Y_clW",
        "outputId": "04a6c684-23fb-4608-efb3-72067883359b"
      },
      "execution_count": null,
      "outputs": [
        {
          "output_type": "execute_result",
          "data": {
            "text/plain": [
              "'GACCGAGCGCCGGA'"
            ],
            "application/vnd.google.colaboratory.intrinsic+json": {
              "type": "string"
            }
          },
          "metadata": {},
          "execution_count": 31
        }
      ]
    },
    {
      "cell_type": "code",
      "source": [
        "# dataset\n",
        "with open('/content/rosalind_ba3l.txt') as input_data:\n",
        "    k,d = input_data.readline().split()\n",
        "    pairs = [line.strip().split('|') for line in input_data.readlines()]"
      ],
      "metadata": {
        "id": "fblTBQ3OUgLP"
      },
      "execution_count": null,
      "outputs": []
    },
    {
      "cell_type": "code",
      "source": [
        "StringSpelledBYGappedPatterns(pairs,int(k),int(d))"
      ],
      "metadata": {
        "colab": {
          "base_uri": "https://localhost:8080/",
          "height": 140
        },
        "id": "hbFN36TXUlF-",
        "outputId": "92bddbe4-f528-478d-dd56-b94a5e428871"
      },
      "execution_count": null,
      "outputs": [
        {
          "output_type": "execute_result",
          "data": {
            "text/plain": [
              "'AGAACGTAGGAGGCACATGCTCGGTGTAAGGCCTGGAGTCCAACAAATTCGTGATCGAGGTATCGCGCGCGAGCGCAATAAATACACATGACGCAGCCCCGGCTGCCCACTGTCGGTTTACGGGATGCACTTCCGTTAGCGAGAACGTAGGAGGCACATGCTCGGTGTAAGGCCTGGAGTCCAACAAATTCGGAACGTAGGAGGCACATGCTCGGTGTAAGGCCTGGAGTCCAACAAATTCGTATCCTATGAACGTAGGAGGCACATGCTCGGTGTAAGGCCTGGAGTCCAACAAATTCGGGCCACCCGATAGTCCCTGGTATCGATTGAACGTAGGAGGCACATGCTCGGTGTAAGGCCTGGAGTCCAACAAATTCGCGCCTGACTGAACCTTAAGAAGAACGTAGGAGGCACATGCTCGGTGTAAGGCCTGGAGTCCAACAAATTCGATCTGGAAACAGAGCGGGGGAACTTGAGGGCAATAATGCAAAGGTCGGCTATTTAAGTCGACCGGAAGCCGACTAGAACGTAGGAGGCACATGCTCGAACGTAGGAGGCACATGCTCGGTGTAAGGCCTGGAGTCCAACAAATGAACGTAGGAGGCACATGCTCGGTGTAAGGCCTGGAGTCCAACAAATTCGTCGGGTGTAAGGCCTGGAGTCCAACAAATTCGGAGGTTAAATTTACGGTCGCCTCGATATACGGGTCGTCTCCTAGTTGTACCTGACCGGCTGGGGAACGTAGGAGGCACATGCTCGGTGTAAGGCCTGGAGTCCAACAAATTCGCTTCGTGTAGAACGTAGGAGGCACATGCTCGGTGTAAGGCCTGGAGTCCAACAAATTCGTAGGCGCGCGAGGTTGTGTTTTTTAGCTTGCTAACGACATTAGCCGGTGTGAGGTGACATTATCTGAGCTTCGTTCGAACGTAGGAGGCACATGCTCGGTGTAAGGCCTGGAGTCCAACAAATTCGTAATAGGACTTAGCGCTCACTCGCCCAGAGTGCATCGGACGCGCCACGGGATGGGTGGGCAGAACGTAGGAGGCACATGCTCGGTGTAAGGCCTGGAGTCCAACAAATTCGTCGCGATCGATATAAGCCAGTTAGCCGGAGTGGGTCCGCAAGTACCGAACGTAGGAGGCACATGCTCGGTGTAAGGAACGTAGGAGGCACATGCTCGGTGTAAGGCCTGGAGTCCAACAAATTCGGCCTGGAGTCCAACAAATTCGCGAACGTAGGAGGCACATGCTCGGTGTAAGGCCTGGAGTCCAACAAATTCGGGCGAATGCTGGGGGCTCCTGTGGGTCGTCACCATATGAGCGTACAGGCGCATTGAAGGCCACAAGGGTTTCCAGCATTGAACGTAGGAGGCACATGCTCGGTGTAAGGCCTGGAGTCCAACAAATTCGCCTACACTGCTACCCGTATATTGGCCCATACAGAAAATAACAGTGATCGGTCCCTGCCAAGTACAGAGCACAGCCTCCTTTGAACGTAGGAGGCACATGCTCGGTGTAAGGCCTGGAGTCCAACAAATTCGTGCATGGATAGCATTCGACGGGTAACCGGACGCGAGACCTAATTAGTCGTTGATTACAATCACTCTAGAGCAACGGGCGCGAACGTAGGAGGCACATGCTCGGTGTAAGGCCTGGAGTCCAACAAATGAACGTAGGAGGCACATGCTCGGTGTAAGGCCTGGAGTCCAACAAATTCGTCGTTTGAGTAAAGCCGCTTGGCCGGTGCCAGAGGAAAACTCACAGGGTCGCTTGGCTCTTCTCATCCACGGTACAGCTTGAAATGGAAATGTGACCGTAAGATCTCCATGTTAGGCAGCGTCGAACAGTCATGTCCAAACGTTGATGCTTCGTGCCTGAGACTATAAAGAAACGTCCGCTGCCTGGTTATGGGACCACCCCTTACCCCTAGCTACCCACTGTCACTAGTGCTTCTGCCTATCACCCCTCATGTAGGCGTCTTTAAGCGTATCGATCCACATT'"
            ],
            "application/vnd.google.colaboratory.intrinsic+json": {
              "type": "string"
            }
          },
          "metadata": {},
          "execution_count": 33
        }
      ]
    }
  ]
}