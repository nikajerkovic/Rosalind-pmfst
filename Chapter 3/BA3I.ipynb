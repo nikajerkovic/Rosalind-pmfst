{
  "nbformat": 4,
  "nbformat_minor": 0,
  "metadata": {
    "colab": {
      "name": "BA3I.ipynb",
      "provenance": [],
      "collapsed_sections": []
    },
    "kernelspec": {
      "name": "python3",
      "display_name": "Python 3"
    },
    "language_info": {
      "name": "python"
    }
  },
  "cells": [
    {
      "cell_type": "markdown",
      "source": [
        "## BA3I"
      ],
      "metadata": {
        "id": "P8wOy2XSyrR7"
      }
    },
    {
      "cell_type": "markdown",
      "source": [
        "**k-Universal Circular String Problem**\n",
        "\n",
        "Find a k-universal circular binary string.\n",
        "\n",
        "Given: An integer k.\n",
        "\n",
        "Return: A k-universal circular string. (If multiple answers exist, you may return any one.)"
      ],
      "metadata": {
        "id": "w7gFl6eTfBNo"
      }
    },
    {
      "cell_type": "markdown",
      "source": [
        "Link: https://rosalind.info/problems/ba3i/"
      ],
      "metadata": {
        "id": "JRFe8QBZfHc7"
      }
    },
    {
      "cell_type": "markdown",
      "source": [
        "Funkcije iz prethodnih zadataka:"
      ],
      "metadata": {
        "id": "-ozqdM7JA2uG"
      }
    },
    {
      "cell_type": "code",
      "source": [
        "# BA3E\n",
        "def  DeBruijnGraph_from_kmers(Patterns):\n",
        "\n",
        "  nodes = {}\n",
        "\n",
        "  for k_mer in Patterns:\n",
        "    if k_mer[:-1] not in nodes.keys():\n",
        "      nodes[k_mer[:-1]] = list()\n",
        "      nodes[k_mer[:-1]].append(k_mer[1:])\n",
        "    else:\n",
        "      nodes[k_mer[:-1]].append(k_mer[1:])\n",
        "\n",
        "  return nodes\n"
      ],
      "metadata": {
        "id": "zjxbLZfNu1fT"
      },
      "execution_count": null,
      "outputs": []
    },
    {
      "cell_type": "code",
      "execution_count": null,
      "metadata": {
        "id": "PLIHTXrF0ru4"
      },
      "outputs": [],
      "source": [
        "# BA3F\n",
        "def find_eulerian_cycle(graph,node):\n",
        "    cycle = [node]\n",
        "    while graph[node]:\n",
        "        cycle = cycle[:1] + find_eulerian_cycle(graph,graph[node].pop()) + cycle[1:]\n",
        "    return cycle"
      ]
    },
    {
      "cell_type": "markdown",
      "source": [
        "Novo:"
      ],
      "metadata": {
        "id": "9UQpcVeXcpb-"
      }
    },
    {
      "cell_type": "code",
      "source": [
        "import itertools"
      ],
      "metadata": {
        "id": "OZQRR1hRfKhq"
      },
      "execution_count": null,
      "outputs": []
    },
    {
      "cell_type": "code",
      "source": [
        "# dataset n = 8\n",
        "n = 8\n",
        "binary_list = [list(i) for i in itertools.product([0, 1], repeat=n)]"
      ],
      "metadata": {
        "id": "ajBoiAAnheGa"
      },
      "execution_count": null,
      "outputs": []
    },
    {
      "cell_type": "code",
      "source": [
        "new_binary_list = []\n",
        "for element in binary_list:\n",
        "  new_binary_list.append(''.join(map(str,element)))"
      ],
      "metadata": {
        "id": "SftJK8_SiVR-"
      },
      "execution_count": null,
      "outputs": []
    },
    {
      "cell_type": "code",
      "source": [
        "binary_dict= DeBruijnGraph_from_kmers(new_binary_list)"
      ],
      "metadata": {
        "id": "UJELM1BEsBsf"
      },
      "execution_count": null,
      "outputs": []
    },
    {
      "cell_type": "code",
      "source": [
        "initial_node = random.choice(list(binary_dict.keys()))"
      ],
      "metadata": {
        "id": "7ne6eK3njB6x"
      },
      "execution_count": null,
      "outputs": []
    },
    {
      "cell_type": "code",
      "source": [
        "eulerian_cycle = find_eulerian_cycle(binary_dict,initial_node)"
      ],
      "metadata": {
        "id": "q9aR5-OYnQmc"
      },
      "execution_count": null,
      "outputs": []
    },
    {
      "cell_type": "code",
      "source": [
        "''.join([item[0] for item in eulerian_cycle[:-1]])"
      ],
      "metadata": {
        "colab": {
          "base_uri": "https://localhost:8080/",
          "height": 53
        },
        "id": "lDMLLar2nsEC",
        "outputId": "a411be08-7b04-434f-c127-bc3927aa4f49"
      },
      "execution_count": null,
      "outputs": [
        {
          "output_type": "execute_result",
          "data": {
            "text/plain": [
              "'1101010111111110111110101110111010100111111001111011011110100110111001101011011010010111100101100111011001010110001111100011011000011110000101110001010101000111010001001110010011001100010001100100001101000010010100000111000001000000110000000010100100100010'"
            ],
            "application/vnd.google.colaboratory.intrinsic+json": {
              "type": "string"
            }
          },
          "metadata": {},
          "execution_count": 514
        }
      ]
    }
  ]
}