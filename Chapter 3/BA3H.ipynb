{
  "nbformat": 4,
  "nbformat_minor": 0,
  "metadata": {
    "colab": {
      "name": "BA3H.ipynb",
      "provenance": [],
      "collapsed_sections": []
    },
    "kernelspec": {
      "name": "python3",
      "display_name": "Python 3"
    },
    "language_info": {
      "name": "python"
    }
  },
  "cells": [
    {
      "cell_type": "markdown",
      "source": [
        "## BA3H"
      ],
      "metadata": {
        "id": "P8wOy2XSyrR7"
      }
    },
    {
      "cell_type": "markdown",
      "source": [
        "**String Reconstruction Problem**\n",
        "\n",
        "Reconstruct a string from its k-mer composition.\n",
        "\n",
        "Given: An integer k followed by a list of k-mers Patterns.\n",
        "\n",
        "Return: A string Text with k-mer composition equal to Patterns. (If multiple answers exist, you may return any one.)"
      ],
      "metadata": {
        "id": "Ao026YrJOgXI"
      }
    },
    {
      "cell_type": "markdown",
      "source": [
        "Link: https://rosalind.info/problems/ba3h/"
      ],
      "metadata": {
        "id": "8Ygn5821Oqzl"
      }
    },
    {
      "cell_type": "markdown",
      "source": [
        "Funkcije iz prethodnih zadataka:"
      ],
      "metadata": {
        "id": "-ozqdM7JA2uG"
      }
    },
    {
      "cell_type": "code",
      "source": [
        "# BA3E\n",
        "def  DeBruijnGraph_from_kmers(Patterns):\n",
        "\n",
        "  nodes = {}\n",
        "\n",
        "  for k_mer in Patterns:\n",
        "    if k_mer[:-1] not in nodes.keys():\n",
        "      nodes[k_mer[:-1]] = list()\n",
        "      nodes[k_mer[:-1]].append(k_mer[1:])\n",
        "    else:\n",
        "      nodes[k_mer[:-1]].append(k_mer[1:])\n",
        "\n",
        "  return nodes\n"
      ],
      "metadata": {
        "id": "zjxbLZfNu1fT"
      },
      "execution_count": null,
      "outputs": []
    },
    {
      "cell_type": "code",
      "execution_count": null,
      "metadata": {
        "id": "PLIHTXrF0ru4"
      },
      "outputs": [],
      "source": [
        "# BA3F\n",
        "def find_eulerian_cycle(graph,node):\n",
        "    cycle = [node]\n",
        "    while graph[node]:\n",
        "        cycle = cycle[:1] + find_eulerian_cycle(graph,graph[node].pop()) + cycle[1:]\n",
        "    return cycle"
      ]
    },
    {
      "cell_type": "code",
      "source": [
        "import collections"
      ],
      "metadata": {
        "id": "EL2y0GWEdRzg"
      },
      "execution_count": null,
      "outputs": []
    },
    {
      "cell_type": "code",
      "source": [
        "# BA3G\n",
        "def Complete_Cycle(graph):\n",
        "\n",
        "    out_dict= {}\n",
        "    for node in graph.keys():\n",
        "      out_dict[node] = len(graph[node])\n",
        "\n",
        "    list_of_in = []\n",
        "    for value_list in graph.values():\n",
        "      # ne može append\n",
        "      list_of_in.extend(value_list)\n",
        "\n",
        "    # Counter vraca dictionary u obliku=> key: counts\n",
        "    in_dict = collections.Counter(list_of_in)\n",
        "\n",
        "    nodes = list(out_dict.keys())\n",
        "    for node in in_dict.keys():\n",
        "      if node not in nodes:\n",
        "        nodes.append(node)\n",
        "\n",
        "\n",
        "    first_node = ''\n",
        "    second_node = ''\n",
        "\n",
        "    for node in nodes:\n",
        "\n",
        "        node_out = out_dict.get(node, 0)\n",
        "        node_in = in_dict.get(node, 0)\n",
        "\n",
        "        if node_out > node_in:\n",
        "            second_node = node\n",
        "        elif node_out < node_in:\n",
        "            first_node = node\n",
        "\n",
        "    if first_node not in graph:\n",
        "        graph[first_node] = [second_node]\n",
        "    else:\n",
        "        graph[first_node].append(second_node)\n",
        "\n",
        "    return graph, first_node, second_node"
      ],
      "metadata": {
        "id": "0YpAVEWGnaDM"
      },
      "execution_count": null,
      "outputs": []
    },
    {
      "cell_type": "markdown",
      "source": [
        "Novo:"
      ],
      "metadata": {
        "id": "9UQpcVeXcpb-"
      }
    },
    {
      "cell_type": "code",
      "source": [
        "def cycle_to_string(path):\n",
        "    genome = ''\n",
        "    kmers_length = len(path)\n",
        "    for index,kmer in enumerate(path):\n",
        "      genome += kmer[0]\n",
        "      if index == kmers_length-1:\n",
        "          genome += kmer[1:]\n",
        "\n",
        "    return genome"
      ],
      "metadata": {
        "id": "7n82goSOQ7Qu"
      },
      "execution_count": null,
      "outputs": []
    },
    {
      "cell_type": "code",
      "source": [
        "# sample dataset\n",
        "nodes = DeBruijnGraph_from_kmers(['CTTA','ACCA','TACC','GGCT','GCTT','TTAC'])"
      ],
      "metadata": {
        "id": "QFQO8OMFOxav"
      },
      "execution_count": null,
      "outputs": []
    },
    {
      "cell_type": "code",
      "source": [
        "nodes"
      ],
      "metadata": {
        "colab": {
          "base_uri": "https://localhost:8080/"
        },
        "id": "tt_kRNNuQTXV",
        "outputId": "f986555d-8afb-4386-efb7-eed668bf8ccf"
      },
      "execution_count": null,
      "outputs": [
        {
          "output_type": "execute_result",
          "data": {
            "text/plain": [
              "{'ACC': ['CCA'],\n",
              " 'CTT': ['TTA'],\n",
              " 'GCT': ['CTT'],\n",
              " 'GGC': ['GCT'],\n",
              " 'TAC': ['ACC'],\n",
              " 'TTA': ['TAC']}"
            ]
          },
          "metadata": {},
          "execution_count": 260
        }
      ]
    },
    {
      "cell_type": "code",
      "source": [
        "graph,first_node,second_node = Complete_Cycle(nodes)"
      ],
      "metadata": {
        "id": "4chmYpycQIym"
      },
      "execution_count": null,
      "outputs": []
    },
    {
      "cell_type": "code",
      "source": [
        "first_node, second_node"
      ],
      "metadata": {
        "colab": {
          "base_uri": "https://localhost:8080/"
        },
        "id": "lQlezed7QjwP",
        "outputId": "8128d164-25cf-41df-f541-d7c005c63e0e"
      },
      "execution_count": null,
      "outputs": [
        {
          "output_type": "execute_result",
          "data": {
            "text/plain": [
              "('CCA', 'GGC')"
            ]
          },
          "metadata": {},
          "execution_count": 262
        }
      ]
    },
    {
      "cell_type": "code",
      "source": [
        "initial_node = second_node\n",
        "cycle = find_eulerian_cycle(graph,initial_node)   "
      ],
      "metadata": {
        "id": "-DBJZIYWQmJ9"
      },
      "execution_count": null,
      "outputs": []
    },
    {
      "cell_type": "code",
      "source": [
        "for i in range(len(cycle)-1):\n",
        "  if (str(cycle[i]) == first_node and str(cycle[i+1]) == second_node):\n",
        "      del cycle[i+1]"
      ],
      "metadata": {
        "id": "AruYQ9wNQsNG"
      },
      "execution_count": null,
      "outputs": []
    },
    {
      "cell_type": "code",
      "source": [
        "path = cycle\n",
        "path"
      ],
      "metadata": {
        "colab": {
          "base_uri": "https://localhost:8080/"
        },
        "id": "FbVxXOtsQxQF",
        "outputId": "aedc37ff-6b54-4cfc-ff6b-d567f36cb209"
      },
      "execution_count": null,
      "outputs": [
        {
          "output_type": "execute_result",
          "data": {
            "text/plain": [
              "['GGC', 'GCT', 'CTT', 'TTA', 'TAC', 'ACC', 'CCA']"
            ]
          },
          "metadata": {},
          "execution_count": 300
        }
      ]
    },
    {
      "cell_type": "code",
      "source": [
        "cycle_to_string(path)"
      ],
      "metadata": {
        "colab": {
          "base_uri": "https://localhost:8080/",
          "height": 36
        },
        "id": "F8uoUa17RLZf",
        "outputId": "a5e59928-ab36-49be-b792-992dfb706853"
      },
      "execution_count": null,
      "outputs": [
        {
          "output_type": "execute_result",
          "data": {
            "text/plain": [
              "'GGCTTACCA'"
            ],
            "application/vnd.google.colaboratory.intrinsic+json": {
              "type": "string"
            }
          },
          "metadata": {},
          "execution_count": 330
        }
      ]
    },
    {
      "cell_type": "code",
      "source": [
        "# dataset, izbrisan k iz filea jer nam ne treba\n",
        "with open('/content/rosalind_ba3h.txt') as input_data:\n",
        "    Patterns = [line.strip() for line in input_data.readlines()]"
      ],
      "metadata": {
        "id": "oDlitFFiT_NI"
      },
      "execution_count": null,
      "outputs": []
    },
    {
      "cell_type": "code",
      "source": [
        "nodes = DeBruijnGraph_from_kmers(Patterns)"
      ],
      "metadata": {
        "id": "iJ6H6ZziUIM6"
      },
      "execution_count": null,
      "outputs": []
    },
    {
      "cell_type": "code",
      "source": [
        "graph,first_node,second_node = Complete_Cycle(nodes)"
      ],
      "metadata": {
        "id": "rkQff73DUMEx"
      },
      "execution_count": null,
      "outputs": []
    },
    {
      "cell_type": "code",
      "source": [
        "first_node, second_node"
      ],
      "metadata": {
        "colab": {
          "base_uri": "https://localhost:8080/"
        },
        "id": "c10SyqJWVn9w",
        "outputId": "b5a1fa36-d032-4b00-f52a-f7b641d33308"
      },
      "execution_count": null,
      "outputs": [
        {
          "output_type": "execute_result",
          "data": {
            "text/plain": [
              "('TCTTTGGATTATCAGATCATCTGC', 'CGTCACGAGTCTCATCACGGCCAG')"
            ]
          },
          "metadata": {},
          "execution_count": 342
        }
      ]
    },
    {
      "cell_type": "code",
      "source": [
        "# bez ovoga je izbacivalo error: maximum recursion depth exceeded \n",
        "import sys\n",
        "sys.setrecursionlimit(10000)"
      ],
      "metadata": {
        "id": "OTF3TN4aWnqc"
      },
      "execution_count": null,
      "outputs": []
    },
    {
      "cell_type": "code",
      "source": [
        "initial_node = second_node\n",
        "cycle = find_eulerian_cycle(graph,initial_node)   "
      ],
      "metadata": {
        "id": "teeXby9dVq0S"
      },
      "execution_count": null,
      "outputs": []
    },
    {
      "cell_type": "code",
      "source": [
        "for i in range(len(cycle)-1):\n",
        "  if (str(cycle[i]) == first_node and str(cycle[i+1]) == second_node):\n",
        "      del cycle[i+1]"
      ],
      "metadata": {
        "id": "tvM0RnvMVshq"
      },
      "execution_count": null,
      "outputs": []
    },
    {
      "cell_type": "code",
      "source": [
        "path = cycle"
      ],
      "metadata": {
        "id": "40gGHBvydYAA"
      },
      "execution_count": null,
      "outputs": []
    },
    {
      "cell_type": "code",
      "source": [
        "cycle_to_string(path)"
      ],
      "metadata": {
        "colab": {
          "base_uri": "https://localhost:8080/",
          "height": 140
        },
        "id": "auoB7KdPVxXz",
        "outputId": "a95f60ae-4691-47fc-ce01-752826367e6c"
      },
      "execution_count": null,
      "outputs": [
        {
          "output_type": "execute_result",
          "data": {
            "text/plain": [
              "'CGTCACGAGTCTCATCACGGCCAGAATGATTTGGGTCCGGACAAGCGTCCGAGTCGTCCCGACTGCGCGAAGAATTGAGGTGTCTCGTCAATCCCACAGGGCTTTAAGCGCATCGACTGCAAGAATAGCCCTATACCTACTGTCCCCGCCATAGGCGGTTATACCCCTCGGGTCTTGACTATCCGGCTCGCGAATACGACTCGTTTCGTCGTCAGACAGCTTTAACTATGAAATGAGTTTAGCATGCACCCATTTCAAATGTGTCATGTACGTCGAGGAACGAGTTGGTGATTCATTCACATTATAAATACAAGAACCATAGGCTCGTGACAGCCGGTGGCAGCCGCTTCAGCAAACGGTAACGGTGCAGCTGTACCTCCTAGCCCTACGAGAATTAGGATGGGGTACACAGTCAAGACGAGGGAAATACTACTACACTTTGTATGATGTCTGTTGCCTTTGTTAGAACCTAGCGAAGAGCCGCCAATATGTTAATCTCCCAACTCAGTCAATTTCACTATAACTCTAACATGGGACCTTTTTATCTCTACACCCGTACATATGGGGCTGCCGTATTACGTCATTCGAGGCCTAAGCCTGAGTCCGAGCTTACTTGCATCTATATTAATCGTCGCGGACGTATGGTGCTAAGCACGCGCCAGACTCGGCAAAGCCTACACTCTAACAACGTCGAGGCGAATGTCTCGATGCAACAAGCCATTTGTGGAGGTTAGCATCTACACATAGGTCTGATTCAAAATCGCTAGCCTGATTGTGCGGTCCCCGCCGTCGCATACCGGAGCTTTAGGGGGAGCATCATTAGTCCGAATCGAACAGGGATTTAACTGCTTGGAATGACACCCTTTAGAAATCTCCAGGGCAACAATAAGACTCTCATGACGCTGAACGCAGAGCTGAAGTTCGTTCTTTTTGTGCAGTCGCAATGCATTTCCTAAGCGAAGCGGGTTTGGAGGTTTCATCATCCCCGGAAGATAGGTTTTTGGGTAAAGCTTGCATGCTTTTAGTTTGCGTTCCTGCCACGACCATAATTTCCTACGTTGGGACCCGTTAATTGGCGCGGAGCGTATGGTTCTCGAAAACCCCCGTCGGTCGCGTCCGGCATATGTCCTTGCTGTAGCCCGAAAGAAGAAAGCGAGCACCGACAATTGTGGAGCCCTCGATCTGTGGTACCAAGGGTTACAAGCTAGCCTCTCCTTTTACATTTCCTTCGCCACGAAGTTCACCTAAATAACGTCTGGACTAAGCCGGTCAGAACAGGCATGTGCGGAGAGACACGTCGCGCCGTCGGCGTAGTCTACTGTACATTAGAACCGCTGCAAGAGAGAGGGTGTCAAACGCTGATATATTTGACAGGCGCACGTAGGCATACCTAAATTAAACAAGCCTACTAGGTACGACCCACACAGTCCACAACACGTATTACCACCGGAAGAGCATAGATGGATCGAAGTACTAGGTGTGCCTAGTTGCAAGTAACATCACCCAAACTTTCCGGGGATTCCCACTGGTAGGGGACTTGACTAATGGGACTAAACAAACTTACGTTATTGCTGAACCGCTAAAATCTTCATCATGCTCTTGCGTGCAAGCCCACTTTCGCACTCGCTTTAGCGAAAATGCCTGAACCCCAAGCGACCAACAGACTATCACGACGAGCCCGGGGCAGCAACCGGGCCGCAGTTGTGTGTCGAAGACTCCAAGAATTCTATCTGTAAGTCAGCCATACCGGCCTGCGGATGGGCCAGCGCCACGATATGGGTCTCAAACGTTAAAGGATCGAGTGGTGTACTCCTGAAACTTTAGCAGCCCAATTATGATGGTGATCGATGATGTGACACGTCTAATTGGGCACCTGGCGGGGGGAAGGCGACAGACATGAAAGAATTGTGATTTCGCTGATTATATGAGTACAGCATACGAGTTTTTTACAGACCTAGGTACACAACCCTGTTCCCGCAACCGACACACCTAGTGTTGTCAGCACGCTTAGCAAGTTTTTAGGTAGCGCTCGGATCCGCGGACTGAATAACTACGATCAAGAGGAGAGAGAAGTCTTATCTATAAGTTGGAGATCCATGACCCACGAACCGCCCCTACCAACTCAAGGGTCACCGTTCAGGATAACGAGATGTATTGAGAAGTAATCGGGACTCATGCAGGGATCCCCCTTTCTAGTCATGGAGACAAGACATCTCTCTTTGGATTATCAGATCATCTGC'"
            ],
            "application/vnd.google.colaboratory.intrinsic+json": {
              "type": "string"
            }
          },
          "metadata": {},
          "execution_count": 347
        }
      ]
    }
  ]
}