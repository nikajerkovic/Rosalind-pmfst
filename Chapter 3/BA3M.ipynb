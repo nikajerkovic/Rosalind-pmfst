{
  "nbformat": 4,
  "nbformat_minor": 0,
  "metadata": {
    "colab": {
      "name": "BA3M.ipynb",
      "provenance": [],
      "collapsed_sections": []
    },
    "kernelspec": {
      "name": "python3",
      "display_name": "Python 3"
    },
    "language_info": {
      "name": "python"
    }
  },
  "cells": [
    {
      "cell_type": "markdown",
      "source": [
        "## BA3M"
      ],
      "metadata": {
        "id": "P8wOy2XSyrR7"
      }
    },
    {
      "cell_type": "markdown",
      "source": [
        "**Maximal Non-Branching Path Problem**\n",
        "\n",
        "Find all maximal non-branching paths in a graph.\n",
        "\n",
        "Given: The adjacency list of a graph whose nodes are integers.\n",
        "\n",
        "Return: The collection of all maximal non-branching paths in the graph."
      ],
      "metadata": {
        "id": "W6jh_Y3IXeTj"
      }
    },
    {
      "cell_type": "markdown",
      "source": [
        "Link: https://rosalind.info/problems/ba3m/"
      ],
      "metadata": {
        "id": "BJdPJmSOXlxs"
      }
    },
    {
      "cell_type": "code",
      "execution_count": null,
      "metadata": {
        "id": "qsfWZONnsLES"
      },
      "outputs": [],
      "source": [
        "def input_to_graph(adjacency_list):\n",
        "    dictionary = {}\n",
        "    for edge in adjacency_list:\n",
        "        first, second = edge.split(\" -> \")\n",
        "        second = second.split(\",\")\n",
        "        dictionary[first] = second\n",
        "    return dictionary"
      ]
    },
    {
      "cell_type": "code",
      "source": [
        "from collections import Counter\n",
        "import random\n",
        "import numpy as np"
      ],
      "metadata": {
        "id": "uRzom1FIv6WU"
      },
      "execution_count": null,
      "outputs": []
    },
    {
      "cell_type": "code",
      "source": [
        "# sample dataset\n",
        "filename = \"/content/sample_data/input.txt\"\n",
        "with open(filename) as f:\n",
        "  input = f.readlines()\n",
        "  input = [x.strip() for x in input]\n",
        "\n",
        "graph = input_to_graph(input)"
      ],
      "metadata": {
        "id": "FJgyFEbreM9H"
      },
      "execution_count": null,
      "outputs": []
    },
    {
      "cell_type": "code",
      "source": [
        "graph"
      ],
      "metadata": {
        "colab": {
          "base_uri": "https://localhost:8080/"
        },
        "id": "rhjGDtrU1iBz",
        "outputId": "d2d22acc-9004-48db-fc21-8ccf16ed979b"
      },
      "execution_count": null,
      "outputs": [
        {
          "output_type": "execute_result",
          "data": {
            "text/plain": [
              "{'1': ['2'], '2': ['3'], '3': ['4', '5'], '6': ['7'], '7': ['6']}"
            ]
          },
          "metadata": {},
          "execution_count": 146
        }
      ]
    },
    {
      "cell_type": "code",
      "source": [
        "def MaximalNonBranchingPaths(graph):\n",
        "\n",
        "    lst = []\n",
        "    for value in graph.values():\n",
        "      lst.extend(value)\n",
        "    \n",
        "    # koliko se puta broj pojavljuje kao value u dictionaryu -> koliko toga ulazi u taj node\n",
        "    in_dict = dict(Counter(lst))\n",
        "    \n",
        "    balanced = {}\n",
        "    for node in graph.keys():\n",
        "      if node in in_dict:\n",
        "        if len(graph[node]) == 1 and in_dict[node] == 1:\n",
        "           balanced[node] = graph[node]\n",
        "\n",
        "    # nebalansirani i imaju izlaze\n",
        "    unbalanced_and_out = np.setdiff1d(list(graph.keys()),list(balanced.keys()))\n",
        "    collection_of_paths = []\n",
        "\n",
        "    for node in unbalanced_and_out:\n",
        "      for value in graph[node]:\n",
        "        path = [node, value]\n",
        "        while value in balanced:\n",
        "          del balanced[value]\n",
        "          path.append(graph[value][0])\n",
        "          value = graph[value][0]\n",
        "        collection_of_paths.append(path)\n",
        "    \n",
        "    # dok balanced nije prazan\n",
        "    while balanced: \n",
        "      random_node = random.choice(list(balanced.keys()))\n",
        "      isolated_cycle = [random_node]\n",
        "      while random_node in balanced:\n",
        "        value = balanced[random_node][0]\n",
        "        isolated_cycle.append(value)\n",
        "        del balanced[random_node]\n",
        "        random_node = value\n",
        "      collection_of_paths.append(isolated_cycle)\n",
        "\n",
        "    return collection_of_paths"
      ],
      "metadata": {
        "id": "EJg-nQi0Xoxp"
      },
      "execution_count": null,
      "outputs": []
    },
    {
      "cell_type": "code",
      "source": [
        "result = MaximalNonBranchingPaths(graph)"
      ],
      "metadata": {
        "id": "gwXoMD_zfFGj"
      },
      "execution_count": null,
      "outputs": []
    },
    {
      "cell_type": "code",
      "source": [
        "for lst in result:\n",
        "  print(' -> '.join(lst))"
      ],
      "metadata": {
        "colab": {
          "base_uri": "https://localhost:8080/"
        },
        "id": "vo1BLqpYtSmG",
        "outputId": "99bbdb94-dfd9-4921-a2cd-a0189d260b48"
      },
      "execution_count": null,
      "outputs": [
        {
          "output_type": "stream",
          "name": "stdout",
          "text": [
            "1 -> 2 -> 3\n",
            "3 -> 4\n",
            "3 -> 5\n",
            "7 -> 6 -> 7\n"
          ]
        }
      ]
    },
    {
      "cell_type": "code",
      "source": [
        "# dataset\n",
        "filename = \"/content/rosalind_ba3m.txt\"\n",
        "with open(filename) as f:\n",
        "  input = f.readlines()\n",
        "  input = [x.strip() for x in input]\n",
        "\n",
        "graph = input_to_graph(input)"
      ],
      "metadata": {
        "id": "rTQRuH2Pt5MS"
      },
      "execution_count": null,
      "outputs": []
    },
    {
      "cell_type": "code",
      "source": [
        "result = MaximalNonBranchingPaths(graph)"
      ],
      "metadata": {
        "id": "vZOkVEfOt7oF"
      },
      "execution_count": null,
      "outputs": []
    },
    {
      "cell_type": "code",
      "source": [
        "for lst in result:\n",
        "  print( '->'.join(lst))"
      ],
      "metadata": {
        "colab": {
          "base_uri": "https://localhost:8080/"
        },
        "id": "Xbp_fEM2t9Jl",
        "outputId": "84402126-bea5-4e4e-ed77-20e2d5e27f9b"
      },
      "execution_count": null,
      "outputs": [
        {
          "output_type": "stream",
          "name": "stdout",
          "text": [
            "105->305->95->93->136->67->222->223->27->12->111->191->236->288\n",
            "105->288\n",
            "129->158->0->314->56->160->303->46->184->273->239->45->349\n",
            "137->336->16->240->94->106->284->152->143->241->285->183->140->30->155->181->279->193->354\n",
            "137->354\n",
            "156->255->359->177->100->378->53\n",
            "157->320->130->35->263->132->39->72->44->171->154->65\n",
            "159->251->231->352->87->286->294->19->268->58->238->331->36->245\n",
            "159->245\n",
            "17->211->281->272->3->24->340->243->289->173->187->199->85->159\n",
            "170->212->76->147->396->220\n",
            "170->220\n",
            "203->261->115->146->127->233->215->353\n",
            "220->131->161->186->395->50->164->125->110->133->324->96->180->79->55->342->308\n",
            "242->318->252->249->283->237->369->8->7->135->262->292->278->229->129\n",
            "242->129\n",
            "245->92->6->5->350->260->163->386->38->28->168->121->78->398\n",
            "25->4->367->97->189->297->323->47->275->204->144->296\n",
            "265->139->225->329->276->355->13->112->365->341->300->356->84\n",
            "265->84\n",
            "288->311->269->174->319->165->328->242\n",
            "296->258->244->162->301->116->11->224->49->66->1->70->142->345->203\n",
            "296->203\n",
            "308->74->216->287->17\n",
            "308->17\n",
            "327->32->134->128->195->54->15->253->63->343->105\n",
            "349->257->71->206->117->118->213->280->101->312->82\n",
            "349->82\n",
            "353->99->377->188->246->207->98->200->176->124->226->103->360->150->109->149->156\n",
            "353->156\n",
            "354->197->107->33->122->307->52->170\n",
            "368->41->68->384->381->90->302->167->267->382->385\n",
            "368->385\n",
            "380->108->198->277->250->330->298->347->196->310->91->344->299\n",
            "385->137\n",
            "398->190->221->138->10->182->89->235->380\n",
            "398->380\n",
            "53->179->394->62->148->327\n",
            "53->327\n",
            "65->309->64->290->363->151->9->57->361->372->25\n",
            "65->25\n",
            "82->304->270->43->332->218->228->29->265\n",
            "84->306->69->339->219->217->370->254->20->75->291->18->51->368\n",
            "357->256->194->185->232->247->31->60->104->202->21->393->399->264->172->14->358->227->366->379->357\n",
            "59->192->26->205->373->42->295->153->389->102->113->390->397->86->333->274->88->374->214->2->59\n",
            "346->335->34->364->83->175->81->37->337->271->77->248->388->123->22->119->362->40->120->325->346\n",
            "282->23->322->326->73->259->338->145->348->210->316->391->392->208->48->230->293->317->114->166->282\n",
            "371->234->321->387->61->126->209->351->313->334->266->141->375->383->80->201->315->169->178->376->371\n"
          ]
        }
      ]
    }
  ]
}