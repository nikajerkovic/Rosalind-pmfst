{
  "nbformat": 4,
  "nbformat_minor": 0,
  "metadata": {
    "colab": {
      "name": "BA3J.ipynb",
      "provenance": [],
      "collapsed_sections": []
    },
    "kernelspec": {
      "name": "python3",
      "display_name": "Python 3"
    },
    "language_info": {
      "name": "python"
    }
  },
  "cells": [
    {
      "cell_type": "markdown",
      "source": [
        "## BA3J"
      ],
      "metadata": {
        "id": "P8wOy2XSyrR7"
      }
    },
    {
      "cell_type": "markdown",
      "source": [
        "**String Reconstruction from Read-Pairs Problem**\n",
        "\n",
        "Reconstruct a string from its paired composition.\n",
        "\n",
        "Given: Integers k and d followed by a collection of paired k-mers PairedReads.\n",
        "\n",
        "Return: A string Text with (k, d)-mer composition equal to PairedReads. (If multiple answers exist, you may return any one.)"
      ],
      "metadata": {
        "id": "sMkCH1oWu5-v"
      }
    },
    {
      "cell_type": "markdown",
      "source": [
        "Link: https://rosalind.info/problems/ba3j/"
      ],
      "metadata": {
        "id": "k2oWskgGu_TE"
      }
    },
    {
      "cell_type": "markdown",
      "source": [
        "Funkcije iz prethodnih zadataka:"
      ],
      "metadata": {
        "id": "-ozqdM7JA2uG"
      }
    },
    {
      "cell_type": "code",
      "execution_count": null,
      "metadata": {
        "id": "PLIHTXrF0ru4"
      },
      "outputs": [],
      "source": [
        "# BA3F\n",
        "def find_eulerian_cycle(graph,node):\n",
        "    cycle = [node]\n",
        "    while graph[node]:\n",
        "        cycle = cycle[:1] + find_eulerian_cycle(graph,graph[node].pop()) + cycle[1:]\n",
        "    return cycle"
      ]
    },
    {
      "cell_type": "code",
      "source": [
        "# BA3G\n",
        "def Complete_Cycle(graph):\n",
        "\n",
        "    out_dict= {}\n",
        "    for node in graph.keys():\n",
        "      out_dict[node] = len(graph[node])\n",
        "\n",
        "    list_of_in = []\n",
        "    for value_list in graph.values():\n",
        "      # ne može append \n",
        "      list_of_in.extend(value_list)\n",
        "\n",
        " \n",
        "    # Counter vraca dictionary u obliku=> key: counts\n",
        "    in_dict = collections.Counter(list_of_in)\n",
        "\n",
        "    nodes = list(out_dict.keys())\n",
        "    for node in in_dict.keys():\n",
        "      if node not in nodes:\n",
        "        nodes.append(node)\n",
        "\n",
        "    first_node = ''\n",
        "    second_node = ''\n",
        "\n",
        "    for node in nodes:\n",
        "\n",
        "        node_out = out_dict.get(node, 0)\n",
        "        node_in = in_dict.get(node, 0)\n",
        "\n",
        "        if node_out > node_in:\n",
        "            second_node = node\n",
        "        elif node_out < node_in:\n",
        "            first_node = node\n",
        "\n",
        "    if first_node not in graph:\n",
        "        graph[first_node] = [second_node]\n",
        "    else:\n",
        "        graph[first_node].append(second_node)\n",
        "\n",
        "    return graph, first_node, second_node\n"
      ],
      "metadata": {
        "id": "0YpAVEWGnaDM"
      },
      "execution_count": null,
      "outputs": []
    },
    {
      "cell_type": "markdown",
      "source": [
        "Novo:"
      ],
      "metadata": {
        "id": "9UQpcVeXcpb-"
      }
    },
    {
      "cell_type": "code",
      "source": [
        "# sample dataset\n",
        "with open('/content/sample_data/input.txt') as input_data:\n",
        "    k,d = input_data.readline().split()\n",
        "    pairs = [line.strip().split('|') for line in input_data.readlines()]"
      ],
      "metadata": {
        "id": "MNpZG9OEvCKX"
      },
      "execution_count": null,
      "outputs": []
    },
    {
      "cell_type": "code",
      "source": [
        "k,d,pairs"
      ],
      "metadata": {
        "colab": {
          "base_uri": "https://localhost:8080/"
        },
        "id": "IAoioRUHO_cE",
        "outputId": "c39ae981-98e9-407e-b6a7-575d1848ef6d"
      },
      "execution_count": null,
      "outputs": [
        {
          "output_type": "execute_result",
          "data": {
            "text/plain": [
              "('4',\n",
              " '2',\n",
              " [['GAGA', 'TTGA'],\n",
              "  ['TCGT', 'GATG'],\n",
              "  ['CGTG', 'ATGT'],\n",
              "  ['TGGT', 'TGAG'],\n",
              "  ['GTGA', 'TGTT'],\n",
              "  ['GTGG', 'GTGA'],\n",
              "  ['TGAG', 'GTTG'],\n",
              "  ['GGTC', 'GAGA'],\n",
              "  ['GTCG', 'AGAT']])"
            ]
          },
          "metadata": {},
          "execution_count": 140
        }
      ]
    },
    {
      "cell_type": "code",
      "source": [
        "pairs_dict = {}\n",
        "for pair in pairs:\n",
        "  first = pair[0]\n",
        "  second = pair[1]\n",
        "  if (first[:-1],second[:-1]) in pairs_dict:\n",
        "      pairs_dict[(first[:-1],second[:-1])].append((first[1:],second[1:]))\n",
        "  else:\n",
        "      pairs_dict[(first[:-1],second[:-1])] = [(first[1:],second[1:])]"
      ],
      "metadata": {
        "id": "_M8fGgqXPTbZ"
      },
      "execution_count": null,
      "outputs": []
    },
    {
      "cell_type": "code",
      "source": [
        "pairs_dict "
      ],
      "metadata": {
        "colab": {
          "base_uri": "https://localhost:8080/"
        },
        "id": "GZjw8TT5PU1i",
        "outputId": "1a93718d-9fe9-44fb-fa83-c3a1851a8a84"
      },
      "execution_count": null,
      "outputs": [
        {
          "output_type": "execute_result",
          "data": {
            "text/plain": [
              "{('CGT', 'ATG'): [('GTG', 'TGT')],\n",
              " ('GAG', 'TTG'): [('AGA', 'TGA')],\n",
              " ('GGT', 'GAG'): [('GTC', 'AGA')],\n",
              " ('GTC', 'AGA'): [('TCG', 'GAT')],\n",
              " ('GTG', 'GTG'): [('TGG', 'TGA')],\n",
              " ('GTG', 'TGT'): [('TGA', 'GTT')],\n",
              " ('TCG', 'GAT'): [('CGT', 'ATG')],\n",
              " ('TGA', 'GTT'): [('GAG', 'TTG')],\n",
              " ('TGG', 'TGA'): [('GGT', 'GAG')]}"
            ]
          },
          "metadata": {},
          "execution_count": 142
        }
      ]
    },
    {
      "cell_type": "code",
      "source": [
        "graph,first_node,second_node = Complete_Cycle(pairs_dict)"
      ],
      "metadata": {
        "id": "6nW5MNf2QIeh"
      },
      "execution_count": null,
      "outputs": []
    },
    {
      "cell_type": "code",
      "source": [
        "first_node,second_node"
      ],
      "metadata": {
        "colab": {
          "base_uri": "https://localhost:8080/"
        },
        "id": "ixVnUfqwQjqy",
        "outputId": "90d592e6-1107-4181-a3de-bc4d21880f20"
      },
      "execution_count": null,
      "outputs": [
        {
          "output_type": "execute_result",
          "data": {
            "text/plain": [
              "(('AGA', 'TGA'), ('GTG', 'GTG'))"
            ]
          },
          "metadata": {},
          "execution_count": 154
        }
      ]
    },
    {
      "cell_type": "code",
      "source": [
        "initial_node = second_node\n",
        "cycle = find_eulerian_cycle(graph,initial_node)   "
      ],
      "metadata": {
        "id": "8P031YinQRfB"
      },
      "execution_count": null,
      "outputs": []
    },
    {
      "cell_type": "code",
      "source": [
        "for i in range(len(cycle)-1):\n",
        "  if (cycle[i]) == first_node and (cycle[i+1] == second_node):\n",
        "      del cycle[i+1]\n",
        "\n",
        "path = cycle"
      ],
      "metadata": {
        "id": "R1NQXseQQVwS"
      },
      "execution_count": null,
      "outputs": []
    },
    {
      "cell_type": "code",
      "source": [
        "path"
      ],
      "metadata": {
        "colab": {
          "base_uri": "https://localhost:8080/"
        },
        "id": "0MedL-v5uB4b",
        "outputId": "d79b5e4c-70a2-4435-da9c-af84f014eed2"
      },
      "execution_count": null,
      "outputs": [
        {
          "output_type": "execute_result",
          "data": {
            "text/plain": [
              "[('GTG', 'GTG'),\n",
              " ('TGG', 'TGA'),\n",
              " ('GGT', 'GAG'),\n",
              " ('GTC', 'AGA'),\n",
              " ('TCG', 'GAT'),\n",
              " ('CGT', 'ATG'),\n",
              " ('GTG', 'TGT'),\n",
              " ('TGA', 'GTT'),\n",
              " ('GAG', 'TTG'),\n",
              " ('AGA', 'TGA')]"
            ]
          },
          "metadata": {},
          "execution_count": 148
        }
      ]
    },
    {
      "cell_type": "code",
      "source": [
        "strings= []\n",
        "for i in range(len(path[0])):\n",
        "  # zadnje slovo od svakog za prvi \"stupac\" pa za drugi stupac(gledaju se svi elementi osim prvog za oba stupca)\n",
        "  lst = list(map(lambda x: x[i][-1],path[1:]))\n",
        "  strings.append(path[0][i]+''.join(lst))"
      ],
      "metadata": {
        "id": "r7S3_Z8W4yNB"
      },
      "execution_count": null,
      "outputs": []
    },
    {
      "cell_type": "code",
      "source": [
        "strings"
      ],
      "metadata": {
        "colab": {
          "base_uri": "https://localhost:8080/"
        },
        "id": "axblrTih5XbE",
        "outputId": "ae7460ec-d655-4bed-f551-bf301b677842"
      },
      "execution_count": null,
      "outputs": [
        {
          "output_type": "execute_result",
          "data": {
            "text/plain": [
              "['GTGGTCGTGAGA', 'GTGAGATGTTGA']"
            ]
          },
          "metadata": {},
          "execution_count": 151
        }
      ]
    },
    {
      "cell_type": "code",
      "source": [
        "text = strings[0][:(int(k)+int(d))]+strings[1]"
      ],
      "metadata": {
        "id": "cN7VGXZbQx0f"
      },
      "execution_count": null,
      "outputs": []
    },
    {
      "cell_type": "code",
      "source": [
        "text"
      ],
      "metadata": {
        "colab": {
          "base_uri": "https://localhost:8080/",
          "height": 36
        },
        "id": "7r6SXjhjwzTk",
        "outputId": "2ba24433-70a7-4f2a-cc24-706a92e7b0f1"
      },
      "execution_count": null,
      "outputs": [
        {
          "output_type": "execute_result",
          "data": {
            "text/plain": [
              "'GTGGTCGTGAGATGTTGA'"
            ],
            "application/vnd.google.colaboratory.intrinsic+json": {
              "type": "string"
            }
          },
          "metadata": {},
          "execution_count": 153
        }
      ]
    },
    {
      "cell_type": "code",
      "source": [
        "# dataset\n",
        "with open('/content/rosalind_ba3j.txt') as input_data:\n",
        "    k,d = input_data.readline().split()\n",
        "    pairs = [line.strip().split('|') for line in input_data.readlines()]"
      ],
      "metadata": {
        "id": "h2p2mv3__zWH"
      },
      "execution_count": null,
      "outputs": []
    },
    {
      "cell_type": "code",
      "source": [
        "pairs_dict = {}\n",
        "for pair in pairs:\n",
        "  first = pair[0]\n",
        "  second = pair[1]\n",
        "  if (first[:-1],second[:-1]) in pairs_dict:\n",
        "      pairs_dict[(first[:-1],second[:-1])].append((first[1:],second[1:]))\n",
        "  else:\n",
        "      pairs_dict[(first[:-1],second[:-1])] = [(first[1:],second[1:])]"
      ],
      "metadata": {
        "id": "nvAvqIJB_5FZ"
      },
      "execution_count": null,
      "outputs": []
    },
    {
      "cell_type": "code",
      "source": [
        "graph,first_node,second_node = Complete_Cycle(pairs_dict)"
      ],
      "metadata": {
        "id": "GCkkHdXe_8Wp"
      },
      "execution_count": null,
      "outputs": []
    },
    {
      "cell_type": "code",
      "source": [
        "first_node,second_node"
      ],
      "metadata": {
        "colab": {
          "base_uri": "https://localhost:8080/"
        },
        "outputId": "ef2817bc-eb9c-443c-9fe7-bc7756989eb9",
        "id": "jN5nwWvr_95o"
      },
      "execution_count": null,
      "outputs": [
        {
          "output_type": "execute_result",
          "data": {
            "text/plain": [
              "(('GAGGCTGCAGAAAAGTTGTTGAAGATACA', 'CCCATTAGCTCTAAAGCTTCGATCTAACG'),\n",
              " ('GACTTCGCTAGCTCAGCGCCCGCAATACC', 'AATTTCCTAGGATCCGTGCTACTCTTAAA'))"
            ]
          },
          "metadata": {},
          "execution_count": 160
        }
      ]
    },
    {
      "cell_type": "code",
      "source": [
        "initial_node = second_node\n",
        "cycle = find_eulerian_cycle(graph,initial_node)   "
      ],
      "metadata": {
        "id": "G2Ajy_Ta__kW"
      },
      "execution_count": null,
      "outputs": []
    },
    {
      "cell_type": "code",
      "source": [
        "for i in range(len(cycle)-1):\n",
        "  if (cycle[i]) == first_node and (cycle[i+1] == second_node):\n",
        "      del cycle[i+1]\n",
        "\n",
        "path = cycle"
      ],
      "metadata": {
        "id": "ib0fjnTeAB4S"
      },
      "execution_count": null,
      "outputs": []
    },
    {
      "cell_type": "code",
      "source": [
        "strings= []\n",
        "for i in range(len(path[0])):\n",
        "  lst = list(map(lambda x: x[i][-1],path[1:]))\n",
        "  strings.append(path[0][i]+''.join(lst))"
      ],
      "metadata": {
        "id": "aa2XkZpXAE9P"
      },
      "execution_count": null,
      "outputs": []
    },
    {
      "cell_type": "code",
      "source": [
        "strings"
      ],
      "metadata": {
        "colab": {
          "base_uri": "https://localhost:8080/"
        },
        "outputId": "e5a2f94f-e045-4610-9e27-9ada2ee94090",
        "id": "WyDuPUshAIf5"
      },
      "execution_count": null,
      "outputs": [
        {
          "output_type": "execute_result",
          "data": {
            "text/plain": [
              "['GACTTCGCTAGCTCAGCGCCCGCAATACCAGGGGGGCACTATGCCAAAGGGAGTTGGACGCACCACTAGAGTACTTCCGACTCGAAGCTACTCTGCCACCCGGCAGAAATGAAAACGAGCGTGAGACCCTAATTTCCTAGGATCCGTGCTACTCTTAAAACACCACACATGGCAGAACTTTTATTGAATTCTGCCACTCTGCCACCCGGCAGTCTGCCACCCGGCAGAAATGAAAACGAGCGAAATGAAAACGAGCGCCGGTCTGCCACCCGGCAGAAATGATCTGCCACCCGGCAGAAATGAAAACGAGCGAAACGAGCGCAGAAATGAAAACGAGCGCACTTCTCGTTCTGCCACCCGGCAGAAATGAAAACGAGCGTTTCGTGAGATGTTCTGCCACCCGGCAGAAATGAAAACGAGCGGGATTAAGGGCCGGACTACCTAGCCGTGTATTGAAGACGGACGACACGCGCCTTCTAGCATTATCTAGAAGCTTGTTCTGCCACCCGGCAGAAATGAAAACGAGCGAGTTAGGAGCGCAGTGGCATTGTTCTTACCTGGGGGATCTGCCACCCGGCAGAAATGAAAACGAGCGTGCACAACGGTACATTTTGGACTGAAACACTGACGGGATCGCGCTCTTATAGTCCGACTATCCTACATTGTGTAATGTGCATAGCCAGCCGATCGAACTCGACCTGCGACTTGGACCGACTCTGCCACCCGGCAGAAATGAAAATCTGCCACCCGGCAGAAATGAAAACGAGCGCGAGCGTCCCTCCAGTTTATCGGACTGATTGCACGTCTGAGGTTTTAAAGGTCACCCAATTCATAGGAATTGCGACGAGCGCCTCTGCCACCCGGCAGAAATGAAAACGAGCGGCAACTTGGCCATGTCTGCCACCCGGCAGAAATGAAAACGAGCGTGGCTATGGATCCAGCCACGAGGGGCCTAGCTCAGGTTGCACTTTTGAAGTCAACGTATCCGGTCAGTCGAGCCAGTCAGCTGTTCCCCAAATAAAGGTTCGAAAACTAGTGATTATGATTCACACCAGAGTCTTGCTAAGTGATTTCTGCCTTACGGGTGGTAGGTTAAAATTTGCCGGTCTGCTCTGCCACCCGGCAGAAATGAAAACGAGCGAAATGTGCCAGCACGAGGTGACAACGTCCAAGGACTGGAATCCAAGGACAATGTCCACTTATTTTTCTTGGTTTGCTTCGCCTCTGGCTATTAATAGGCAGGTTCACACTTCTTAATGAATACTTGATCGGGAACGTATTGATCCTTAAAGAGGCTGCAGAAAAGTTGTTGAAGATACA',\n",
              " 'AATTTCCTAGGATCCGTGCTACTCTTAAAACACCACACATGGCAGAACTTTTATTGAATTCTGCCACTCTGCCACCCGGCAGTCTGCCACCCGGCAGAAATGAAAACGAGCGAAATGAAAACGAGCGCCGGTCTGCCACCCGGCAGAAATGATCTGCCACCCGGCAGAAATGAAAACGAGCGAAACGAGCGCAGAAATGAAAACGAGCGCACTTCTCGTTCTGCCACCCGGCAGAAATGAAAACGAGCGTTTCGTGAGATGTTCTGCCACCCGGCAGAAATGAAAACGAGCGGGATTAAGGGCCGGACTACCTAGCCGTGTATTGAAGACGGACGACACGCGCCTTCTAGCATTATCTAGAAGCTTGTTCTGCCACCCGGCAGAAATGAAAACGAGCGAGTTAGGAGCGCAGTGGCATTGTTCTTACCTGGGGGATCTGCCACCCGGCAGAAATGAAAACGAGCGTGCACAACGGTACATTTTGGACTGAAACACTGACGGGATCGCGCTCTTATAGTCCGACTATCCTACATTGTGTAATGTGCATAGCCAGCCGATCGAACTCGACCTGCGACTTGGACCGACTCTGCCACCCGGCAGAAATGAAAATCTGCCACCCGGCAGAAATGAAAACGAGCGCGAGCGTCCCTCCAGTTTATCGGACTGATTGCACGTCTGAGGTTTTAAAGGTCACCCAATTCATAGGAATTGCGACGAGCGCCTCTGCCACCCGGCAGAAATGAAAACGAGCGGCAACTTGGCCATGTCTGCCACCCGGCAGAAATGAAAACGAGCGTGGCTATGGATCCAGCCACGAGGGGCCTAGCTCAGGTTGCACTTTTGAAGTCAACGTATCCGGTCAGTCGAGCCAGTCAGCTGTTCCCCAAATAAAGGTTCGAAAACTAGTGATTATGATTCACACCAGAGTCTTGCTAAGTGATTTCTGCCTTACGGGTGGTAGGTTAAAATTTGCCGGTCTGCTCTGCCACCCGGCAGAAATGAAAACGAGCGAAATGTGCCAGCACGAGGTGACAACGTCCAAGGACTGGAATCCAAGGACAATGTCCACTTATTTTTCTTGGTTTGCTTCGCCTCTGGCTATTAATAGGCAGGTTCACACTTCTTAATGAATACTTGATCGGGAACGTATTGATCCTTAAAGAGGCTGCAGAAAAGTTGTTGAAGATACACGAGGGCGTGACTTGCTGAGCCCTCCTTAACACTCACAGCCGTGGGAGAGTCACAGATCTAGACACCGAGAAACCTCCGCATATCCCGGATGCGAGCAGTTCCCATTAGCTCTAAAGCTTCGATCTAACG']"
            ]
          },
          "metadata": {},
          "execution_count": 164
        }
      ]
    },
    {
      "cell_type": "code",
      "source": [
        "text = strings[0][:(int(k)+int(d))]+strings[1]"
      ],
      "metadata": {
        "id": "89Uys8EVAJ8d"
      },
      "execution_count": null,
      "outputs": []
    },
    {
      "cell_type": "code",
      "source": [
        "text"
      ],
      "metadata": {
        "colab": {
          "base_uri": "https://localhost:8080/",
          "height": 140
        },
        "outputId": "a66e959b-9c32-4094-9dc2-ce2a7d0e6eb8",
        "id": "cMq7W9X2AL-i"
      },
      "execution_count": null,
      "outputs": [
        {
          "output_type": "execute_result",
          "data": {
            "text/plain": [
              "'GACTTCGCTAGCTCAGCGCCCGCAATACCAGGGGGGCACTATGCCAAAGGGAGTTGGACGCACCACTAGAGTACTTCCGACTCGAAGCTACTCTGCCACCCGGCAGAAATGAAAACGAGCGTGAGACCCTAATTTCCTAGGATCCGTGCTACTCTTAAAACACCACACATGGCAGAACTTTTATTGAATTCTGCCACTCTGCCACCCGGCAGTCTGCCACCCGGCAGAAATGAAAACGAGCGAAATGAAAACGAGCGCCGGTCTGCCACCCGGCAGAAATGATCTGCCACCCGGCAGAAATGAAAACGAGCGAAACGAGCGCAGAAATGAAAACGAGCGCACTTCTCGTTCTGCCACCCGGCAGAAATGAAAACGAGCGTTTCGTGAGATGTTCTGCCACCCGGCAGAAATGAAAACGAGCGGGATTAAGGGCCGGACTACCTAGCCGTGTATTGAAGACGGACGACACGCGCCTTCTAGCATTATCTAGAAGCTTGTTCTGCCACCCGGCAGAAATGAAAACGAGCGAGTTAGGAGCGCAGTGGCATTGTTCTTACCTGGGGGATCTGCCACCCGGCAGAAATGAAAACGAGCGTGCACAACGGTACATTTTGGACTGAAACACTGACGGGATCGCGCTCTTATAGTCCGACTATCCTACATTGTGTAATGTGCATAGCCAGCCGATCGAACTCGACCTGCGACTTGGACCGACTCTGCCACCCGGCAGAAATGAAAATCTGCCACCCGGCAGAAATGAAAACGAGCGCGAGCGTCCCTCCAGTTTATCGGACTGATTGCACGTCTGAGGTTTTAAAGGTCACCCAATTCATAGGAATTGCGACGAGCGCCTCTGCCACCCGGCAGAAATGAAAACGAGCGGCAACTTGGCCATGTCTGCCACCCGGCAGAAATGAAAACGAGCGTGGCTATGGATCCAGCCACGAGGGGCCTAGCTCAGGTTGCACTTTTGAAGTCAACGTATCCGGTCAGTCGAGCCAGTCAGCTGTTCCCCAAATAAAGGTTCGAAAACTAGTGATTATGATTCACACCAGAGTCTTGCTAAGTGATTTCTGCCTTACGGGTGGTAGGTTAAAATTTGCCGGTCTGCTCTGCCACCCGGCAGAAATGAAAACGAGCGAAATGTGCCAGCACGAGGTGACAACGTCCAAGGACTGGAATCCAAGGACAATGTCCACTTATTTTTCTTGGTTTGCTTCGCCTCTGGCTATTAATAGGCAGGTTCACACTTCTTAATGAATACTTGATCGGGAACGTATTGATCCTTAAAGAGGCTGCAGAAAAGTTGTTGAAGATACACGAGGGCGTGACTTGCTGAGCCCTCCTTAACACTCACAGCCGTGGGAGAGTCACAGATCTAGACACCGAGAAACCTCCGCATATCCCGGATGCGAGCAGTTCCCATTAGCTCTAAAGCTTCGATCTAACG'"
            ],
            "application/vnd.google.colaboratory.intrinsic+json": {
              "type": "string"
            }
          },
          "metadata": {},
          "execution_count": 166
        }
      ]
    }
  ]
}