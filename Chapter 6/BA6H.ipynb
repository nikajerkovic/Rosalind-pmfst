{
  "nbformat": 4,
  "nbformat_minor": 0,
  "metadata": {
    "colab": {
      "name": "BA6H.ipynb",
      "provenance": [],
      "collapsed_sections": []
    },
    "kernelspec": {
      "name": "python3",
      "display_name": "Python 3"
    },
    "language_info": {
      "name": "python"
    }
  },
  "cells": [
    {
      "cell_type": "markdown",
      "source": [
        "## BA6H"
      ],
      "metadata": {
        "id": "HgkgEi5giSgV"
      }
    },
    {
      "cell_type": "markdown",
      "source": [
        "**Colored Edges Problem**\n",
        "\n",
        "Find the Colored Edges in a genome.\n",
        "\n",
        "Given: A genome P.\n",
        "\n",
        "Return: The collection of colored edges in the genome graph of P in the form (x, y)."
      ],
      "metadata": {
        "id": "qqu87Iv2mNVL"
      }
    },
    {
      "cell_type": "markdown",
      "source": [
        "Link: https://rosalind.info/problems/ba6h/"
      ],
      "metadata": {
        "id": "vPCn7vB3mQPK"
      }
    },
    {
      "cell_type": "code",
      "source": [
        "def ChromosomeToCycle(chromosome):\n",
        "\n",
        "  # ako stavimo samo [ ], bude out of range \n",
        "  nodes = [0]*(2*len(chromosome))\n",
        "\n",
        "  for j in range(len(chromosome)):\n",
        "    i = chromosome[j]\n",
        "    if i > 0:\n",
        "      nodes[2*j] = 2*i -1\n",
        "      nodes[2*j+1] = 2*i\n",
        "    else:\n",
        "      nodes[2*j] = -2*i\n",
        "      nodes[2*j+1] = -2*i -1\n",
        "\n",
        "  return nodes"
      ],
      "metadata": {
        "id": "QgnFG4_vY9qk"
      },
      "execution_count": null,
      "outputs": []
    },
    {
      "cell_type": "code",
      "source": [
        "def ColoredEdges(P):\n",
        "\n",
        "  edges = []\n",
        "  \n",
        "  for chromosome in P:\n",
        "    nodes = ChromosomeToCycle(chromosome)\n",
        "    nodes.append(nodes[0])\n",
        "    for j in range(len(chromosome)): \n",
        "      edges.append((nodes[2*j+1], nodes[2*j+2]))\n",
        "\n",
        "  return edges"
      ],
      "metadata": {
        "id": "O2mWHMf4mMFI"
      },
      "execution_count": null,
      "outputs": []
    },
    {
      "cell_type": "code",
      "source": [
        "# sample dataset\n",
        "ColoredEdges([[+1,-2,-3], [+4, +5, -6]])"
      ],
      "metadata": {
        "colab": {
          "base_uri": "https://localhost:8080/"
        },
        "id": "2-WU56durn5G",
        "outputId": "9bc2c139-be34-4460-b506-fc36dbf01fda"
      },
      "execution_count": null,
      "outputs": [
        {
          "output_type": "execute_result",
          "data": {
            "text/plain": [
              "[(2, 4), (3, 6), (5, 1), (8, 9), (10, 12), (11, 7)]"
            ]
          },
          "metadata": {},
          "execution_count": 134
        }
      ]
    },
    {
      "cell_type": "code",
      "source": [
        "def read_data(file_name):\n",
        "  with open(file_name) as file:\n",
        "    line = file.readline().strip().split(\")\")\n",
        "\n",
        "  for i in range(len(line)-1):\n",
        "    line[i] = line[i].replace(\"(\", \"\").split()\n",
        "\n",
        "  return [[int(x) for x in lst] for lst in line[:len(line)-1]]"
      ],
      "metadata": {
        "id": "fI9uGZaGvTMe"
      },
      "execution_count": null,
      "outputs": []
    },
    {
      "cell_type": "code",
      "source": [
        "# dataset\n",
        "input= read_data('/content/rosalind_ba6h (1).txt')"
      ],
      "metadata": {
        "id": "OecvNaFiqEpT"
      },
      "execution_count": null,
      "outputs": []
    },
    {
      "cell_type": "code",
      "source": [
        "result = ColoredEdges(input)"
      ],
      "metadata": {
        "id": "--h0flPFxHdv"
      },
      "execution_count": null,
      "outputs": []
    },
    {
      "cell_type": "code",
      "source": [
        "print(*result,sep = ',')"
      ],
      "metadata": {
        "colab": {
          "base_uri": "https://localhost:8080/"
        },
        "id": "gdFr0RRRxmhX",
        "outputId": "4ccbfe67-27e7-4dd6-c166-fa41c353f1ea"
      },
      "execution_count": null,
      "outputs": [
        {
          "output_type": "stream",
          "name": "stdout",
          "text": [
            "(1, 3),(4, 5),(6, 8),(7, 9),(10, 12),(11, 14),(13, 16),(15, 18),(17, 20),(19, 21),(22, 24),(23, 26),(25, 27),(28, 30),(29, 31),(32, 33),(34, 36),(35, 37),(38, 40),(39, 41),(42, 43),(44, 45),(46, 47),(48, 49),(50, 52),(51, 54),(53, 2),(55, 58),(57, 60),(59, 61),(62, 63),(64, 65),(66, 67),(68, 69),(70, 72),(71, 73),(74, 76),(75, 77),(78, 79),(80, 81),(82, 84),(83, 86),(85, 88),(87, 90),(89, 92),(91, 93),(94, 95),(96, 97),(98, 100),(99, 102),(101, 104),(103, 105),(106, 108),(107, 109),(110, 112),(111, 114),(113, 56),(116, 118),(117, 120),(119, 122),(121, 123),(124, 126),(125, 128),(127, 130),(129, 132),(131, 134),(133, 135),(136, 138),(137, 140),(139, 141),(142, 143),(144, 145),(146, 147),(148, 149),(150, 151),(152, 154),(153, 155),(156, 158),(157, 159),(160, 161),(162, 164),(163, 166),(165, 115),(167, 170),(169, 171),(172, 173),(174, 175),(176, 178),(177, 180),(179, 181),(182, 184),(183, 185),(186, 187),(188, 189),(190, 191),(192, 193),(194, 196),(195, 198),(197, 200),(199, 201),(202, 204),(203, 206),(205, 207),(208, 210),(209, 211),(212, 213),(214, 215),(216, 218),(217, 168),(220, 221),(222, 224),(223, 225),(226, 227),(228, 230),(229, 231),(232, 234),(233, 235),(236, 237),(238, 240),(239, 241),(242, 243),(244, 245),(246, 247),(248, 250),(249, 252),(251, 254),(253, 256),(255, 258),(257, 259),(260, 261),(262, 263),(264, 265),(266, 268),(267, 270),(269, 271),(272, 273),(274, 275),(276, 219),(277, 280),(279, 281),(282, 283),(284, 286),(285, 288),(287, 289),(290, 292),(291, 293),(294, 295),(296, 298),(297, 299),(300, 301),(302, 303),(304, 306),(305, 307),(308, 310),(309, 312),(311, 314),(313, 315),(316, 317),(318, 319),(320, 322),(321, 324),(323, 278),(326, 328),(327, 329),(330, 331),(332, 333),(334, 336),(335, 338),(337, 340),(339, 341),(342, 344),(343, 345),(346, 347),(348, 349),(350, 351),(352, 354),(353, 355),(356, 357),(358, 359),(360, 362),(361, 364),(363, 365),(366, 368),(367, 325)\n"
          ]
        }
      ]
    }
  ]
}