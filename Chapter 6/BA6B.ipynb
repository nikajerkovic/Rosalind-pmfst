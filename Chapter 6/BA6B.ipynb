{
  "nbformat": 4,
  "nbformat_minor": 0,
  "metadata": {
    "colab": {
      "name": "BA6B.ipynb",
      "provenance": [],
      "collapsed_sections": []
    },
    "kernelspec": {
      "name": "python3",
      "display_name": "Python 3"
    },
    "language_info": {
      "name": "python"
    }
  },
  "cells": [
    {
      "cell_type": "markdown",
      "source": [
        "## BA6B"
      ],
      "metadata": {
        "id": "HgkgEi5giSgV"
      }
    },
    {
      "cell_type": "markdown",
      "source": [
        "**Number of Breakpoints Problem**\n",
        "\n",
        "Find the number of breakpoints in a permutation.\n",
        "\n",
        "Given: A signed permutation P.\n",
        "\n",
        "Return: The number of breakpoints in P."
      ],
      "metadata": {
        "id": "dnz3FDWgHhRW"
      }
    },
    {
      "cell_type": "markdown",
      "source": [
        "Link: https://rosalind.info/problems/ba6b/"
      ],
      "metadata": {
        "id": "2POqRDjVtEQr"
      }
    },
    {
      "cell_type": "code",
      "source": [
        "def number_of_breakpoints(permutation):\n",
        "\n",
        "    permutation = list(permutation)\n",
        "    num_of_breakpoints = 0\n",
        "    permutation = [0] + permutation + [len(permutation)+1]\n",
        "\n",
        "    for i in range(len(permutation)-1):\n",
        "      if permutation[i] + 1 == permutation[i+1]:\n",
        "        continue\n",
        "      else:\n",
        "        num_of_breakpoints += 1\n",
        "\n",
        "    return num_of_breakpoints"
      ],
      "metadata": {
        "id": "imr-8PxANFbf"
      },
      "execution_count": null,
      "outputs": []
    },
    {
      "cell_type": "code",
      "source": [
        "# sample dataset\n",
        "with open('/content/sample_data/input.txt') as input_data:\n",
        "  perm = map(int, input_data.read().strip().lstrip('(').rstrip(')').split())"
      ],
      "metadata": {
        "id": "KW5kDbeXO7vB"
      },
      "execution_count": null,
      "outputs": []
    },
    {
      "cell_type": "code",
      "source": [
        "number_of_breakpoints(perm)"
      ],
      "metadata": {
        "colab": {
          "base_uri": "https://localhost:8080/"
        },
        "id": "S0hUgyeFOqrO",
        "outputId": "90a7083b-8a81-4595-c877-f0031fe7b359"
      },
      "execution_count": null,
      "outputs": [
        {
          "output_type": "execute_result",
          "data": {
            "text/plain": [
              "8"
            ]
          },
          "metadata": {},
          "execution_count": 3
        }
      ]
    },
    {
      "cell_type": "code",
      "source": [
        "# dataset\n",
        "with open('/content/rosalind_ba6b (1).txt') as input_data:\n",
        "  dataset_perm = map(int, input_data.read().strip().lstrip('(').rstrip(')').split())"
      ],
      "metadata": {
        "id": "RU9glW7dPQK_"
      },
      "execution_count": null,
      "outputs": []
    },
    {
      "cell_type": "code",
      "source": [
        "number_of_breakpoints(dataset_perm)"
      ],
      "metadata": {
        "colab": {
          "base_uri": "https://localhost:8080/"
        },
        "id": "zXSdvrsCPp1x",
        "outputId": "b7a1003c-d8c7-44fa-e0a1-4574e3aae64a"
      },
      "execution_count": null,
      "outputs": [
        {
          "output_type": "execute_result",
          "data": {
            "text/plain": [
              "90"
            ]
          },
          "metadata": {},
          "execution_count": 7
        }
      ]
    }
  ]
}