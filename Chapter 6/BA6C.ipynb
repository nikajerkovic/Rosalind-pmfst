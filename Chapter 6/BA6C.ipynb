{
  "nbformat": 4,
  "nbformat_minor": 0,
  "metadata": {
    "colab": {
      "name": "BA6C.ipynb",
      "provenance": [],
      "collapsed_sections": []
    },
    "kernelspec": {
      "name": "python3",
      "display_name": "Python 3"
    },
    "language_info": {
      "name": "python"
    }
  },
  "cells": [
    {
      "cell_type": "markdown",
      "source": [
        "## BA6C"
      ],
      "metadata": {
        "id": "HgkgEi5giSgV"
      }
    },
    {
      "cell_type": "markdown",
      "source": [
        "**2-Break Distance Problem**\n",
        "\n",
        "Find the 2-break distance between two genomes.\n",
        "\n",
        "Given: Two genomes with circular chromosomes on the same set of synteny blocks.\n",
        "\n",
        "Return: The 2-break distance between these two genomes."
      ],
      "metadata": {
        "id": "vK2JftV9Hlg_"
      }
    },
    {
      "cell_type": "markdown",
      "source": [
        "Link: https://rosalind.info/problems/ba6c/"
      ],
      "metadata": {
        "id": "SfD7OsFMtdXC"
      }
    },
    {
      "cell_type": "markdown",
      "source": [
        "Funckije iz prethodnih zadataka koje se koriste"
      ],
      "metadata": {
        "id": "OaIpuBAVifSK"
      }
    },
    {
      "cell_type": "code",
      "source": [
        "# BA6F\n",
        "def ChromosomeToCycle(chromosome):\n",
        "\n",
        "  # ako stavimo samo [ ], bude out of range \n",
        "  nodes = [0]*(2*len(chromosome))\n",
        "\n",
        "  for j in range(len(chromosome)):\n",
        "    i = chromosome[j]\n",
        "    if i > 0:\n",
        "      # razlika u pseudocodeu ide 2j-1 i 2j, a ode 2j i 2j+1 zapravo je ista stvar taj element i susjed\n",
        "      nodes[2*j] = 2*i -1\n",
        "      nodes[2*j+1] = 2*i\n",
        "    else:\n",
        "      nodes[2*j] = -2*i\n",
        "      nodes[2*j+1] = -2*i -1\n",
        "\n",
        "  return nodes"
      ],
      "metadata": {
        "id": "QgnFG4_vY9qk"
      },
      "execution_count": null,
      "outputs": []
    },
    {
      "cell_type": "code",
      "source": [
        "# BA6H\n",
        "def ColoredEdges(P):\n",
        "\n",
        "  edges = []\n",
        "  \n",
        "  for chromosome in P:\n",
        "    nodes = ChromosomeToCycle(chromosome)\n",
        "    nodes.append(nodes[0])\n",
        "    for j in range(len(chromosome)): \n",
        "      edges.append((nodes[2*j+1], nodes[2*j+2]))\n",
        "\n",
        "  return edges"
      ],
      "metadata": {
        "id": "O2mWHMf4mMFI"
      },
      "execution_count": null,
      "outputs": []
    },
    {
      "cell_type": "markdown",
      "source": [
        "Novo"
      ],
      "metadata": {
        "id": "XrSE2tTcijpL"
      }
    },
    {
      "cell_type": "code",
      "source": [
        "def Next(current, edges):\n",
        "\n",
        "  if len(edges) == 0:\n",
        "    return False\n",
        "  i = 0\n",
        "  # trazimo edge u kojem se nalazi jedan od nodeova trenutnog edga \n",
        "  while not (current[0] in edges[i] or current[1] in edges[i]):\n",
        "    i += 1\n",
        "    # ako nismo uspili nac odgovarajuci element, a dosli smo do kraja\n",
        "    if i == len(edges):\n",
        "      return False\n",
        "\n",
        "  return edges[i]"
      ],
      "metadata": {
        "id": "JkuqQol5FcQc"
      },
      "execution_count": null,
      "outputs": []
    },
    {
      "cell_type": "code",
      "source": [
        "def TwoBreakDistance(P, Q):\n",
        "\n",
        "  cycles = []\n",
        "  blocks = set()\n",
        "  P_edges = ColoredEdges(P)\n",
        "  Q_edges = ColoredEdges(Q)\n",
        "  all_edges = P_edges + Q_edges\n",
        "\n",
        "  # dodajemo blokove\n",
        "  for edge in all_edges:\n",
        "    blocks.add(edge[0])\n",
        "    blocks.add(edge[1])\n",
        "  \n",
        "  # dodajemo cikluse\n",
        "  while all_edges:\n",
        "    start = all_edges[0]\n",
        "    all_edges.remove(all_edges[0])\n",
        "    cycle = [start]\n",
        "    current = Next(start, all_edges)\n",
        "\n",
        "    # kad ispadnemo iz ove petlje došli smo do kraja ciklusa i započinje novi\n",
        "    while current:\n",
        "      cycle.append(current)\n",
        "      all_edges.remove(current)\n",
        "      current = Next(current, all_edges)\n",
        "\n",
        "    cycles.append(cycle)\n",
        "\n",
        "  # blokove dijelimo s 2 jer kad su u cycleu ima ih duplo\n",
        "  return len(blocks) // 2 - len(cycles)"
      ],
      "metadata": {
        "id": "y73mciBWQNZN"
      },
      "execution_count": null,
      "outputs": []
    },
    {
      "cell_type": "code",
      "source": [
        "with open('/content/rosalind_ba6c.txt') as input_data:\n",
        "    input_lines = input_data.read().splitlines()\n",
        "\n",
        "P = input_lines[0]\n",
        "P = P[1:-1]\n",
        "P = P.split(')(')\n",
        "for i in range(len(P)):\n",
        "  P[i] = [int(x) for x in P[i].split(' ')]\n",
        "\n",
        "Q = input_lines[1]\n",
        "Q = Q[1:-1]\n",
        "Q = Q.split(')(')\n",
        "for i in range(len(Q)):\n",
        "  Q[i] = [int(x) for x in Q[i].split(' ')]\n"
      ],
      "metadata": {
        "id": "-ImB_y7qEtoY"
      },
      "execution_count": null,
      "outputs": []
    },
    {
      "cell_type": "code",
      "source": [
        "# sample dataset result\n",
        "TwoBreakDistance(P,Q)"
      ],
      "metadata": {
        "colab": {
          "base_uri": "https://localhost:8080/"
        },
        "id": "BgxnfM9SFHEE",
        "outputId": "763f4b25-502d-420b-ab2e-6def325fe70a"
      },
      "execution_count": null,
      "outputs": [
        {
          "output_type": "execute_result",
          "data": {
            "text/plain": [
              "3"
            ]
          },
          "metadata": {},
          "execution_count": 40
        }
      ]
    },
    {
      "cell_type": "code",
      "source": [
        "# dataset result\n",
        "TwoBreakDistance(P,Q)"
      ],
      "metadata": {
        "colab": {
          "base_uri": "https://localhost:8080/"
        },
        "id": "RAjU8j0ZIa-7",
        "outputId": "5f4a6d12-428e-4d32-ae5b-68629815d023"
      },
      "execution_count": null,
      "outputs": [
        {
          "output_type": "execute_result",
          "data": {
            "text/plain": [
              "14276"
            ]
          },
          "metadata": {},
          "execution_count": 21
        }
      ]
    }
  ]
}