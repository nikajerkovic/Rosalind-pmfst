{
  "nbformat": 4,
  "nbformat_minor": 0,
  "metadata": {
    "colab": {
      "name": "BA6A.ipynb",
      "provenance": [],
      "collapsed_sections": []
    },
    "kernelspec": {
      "name": "python3",
      "display_name": "Python 3"
    },
    "language_info": {
      "name": "python"
    }
  },
  "cells": [
    {
      "cell_type": "markdown",
      "source": [
        "## BA6A"
      ],
      "metadata": {
        "id": "HgkgEi5giSgV"
      }
    },
    {
      "cell_type": "markdown",
      "source": [
        "**Implement GreedySorting**\n",
        "\n",
        "Given: A signed permutation P.\n",
        "\n",
        "Return: The sequence of permutations corresponding to applying GreedySorting to P, ending with the identity permutation."
      ],
      "metadata": {
        "id": "HtXc5OlVkPXa"
      }
    },
    {
      "cell_type": "markdown",
      "source": [
        "Link: https://rosalind.info/problems/ba6a/"
      ],
      "metadata": {
        "id": "bGlglobagB_d"
      }
    },
    {
      "cell_type": "code",
      "source": [
        "def GreedySorting(signed_permutations):\n",
        "\n",
        "  reversal_distence = 0 # trenutni broj transformacija u listi, ne koristimo, ali ima u pseudokodu pa je ukljuceno\n",
        "  transformation_list = []\n",
        "  \n",
        "  for k in range(len(signed_permutations)):\n",
        "\n",
        "    if k+1 != abs(signed_permutations[k]):\n",
        "      for i in range(k+1,len(signed_permutations)):\n",
        "        if k+1 == abs(signed_permutations[i]):\n",
        "          target = i\n",
        "          break # break jer nemamo sta dalje trazit s obzirom da se kod permutacija ne ponavljaju elementi\n",
        "\n",
        "      signed_permutations = signed_permutations[:k] + [-el for el in reversed(signed_permutations[k:target+1])] + signed_permutations[target+1:]\n",
        "      transformation_list.append(signed_permutations.copy())\n",
        "      reversal_distence += 1\n",
        "\n",
        "    if k+1 == -signed_permutations[k]:\n",
        "      signed_permutations[k] = - signed_permutations[k]\n",
        "      transformation_list.append(signed_permutations.copy())\n",
        "      reversal_distence += 1\n",
        "\n",
        "  return transformation_list"
      ],
      "metadata": {
        "id": "817RGRvXOsuL"
      },
      "execution_count": null,
      "outputs": []
    },
    {
      "cell_type": "code",
      "execution_count": null,
      "metadata": {
        "id": "kk-nHLzTkGbo"
      },
      "outputs": [],
      "source": [
        "# sample dataset\n",
        "signed_perm = [-3, +4, +1, +5, -2]"
      ]
    },
    {
      "cell_type": "code",
      "source": [
        "reversal_list = GreedySorting(signed_perm)"
      ],
      "metadata": {
        "id": "ZlELn9dLa7el"
      },
      "execution_count": null,
      "outputs": []
    },
    {
      "cell_type": "code",
      "source": [
        "reversal_list"
      ],
      "metadata": {
        "colab": {
          "base_uri": "https://localhost:8080/"
        },
        "id": "M7mDrEE4dlKl",
        "outputId": "5d8ccddc-8d44-4ced-9888-4549ff6ba58f"
      },
      "execution_count": null,
      "outputs": [
        {
          "output_type": "execute_result",
          "data": {
            "text/plain": [
              "[[-1, -4, 3, 5, -2],\n",
              " [1, -4, 3, 5, -2],\n",
              " [1, 2, -5, -3, 4],\n",
              " [1, 2, 3, 5, 4],\n",
              " [1, 2, 3, -4, -5],\n",
              " [1, 2, 3, 4, -5],\n",
              " [1, 2, 3, 4, 5]]"
            ]
          },
          "metadata": {},
          "execution_count": 74
        }
      ]
    },
    {
      "cell_type": "code",
      "source": [
        "result = ['('+' '.join([['', '+'][value > 0] + str(value) for value in perm])+')' for perm in reversal_list]"
      ],
      "metadata": {
        "id": "c2s0kzERdfIU"
      },
      "execution_count": null,
      "outputs": []
    },
    {
      "cell_type": "code",
      "source": [
        "print('\\n'.join(result))"
      ],
      "metadata": {
        "colab": {
          "base_uri": "https://localhost:8080/"
        },
        "id": "f2trBRIKeHpG",
        "outputId": "1afa61c2-564b-4008-b549-d54a814a5e89"
      },
      "execution_count": null,
      "outputs": [
        {
          "output_type": "stream",
          "name": "stdout",
          "text": [
            "(-1 -4 +3 +5 -2)\n",
            "(+1 -4 +3 +5 -2)\n",
            "(+1 +2 -5 -3 +4)\n",
            "(+1 +2 +3 +5 +4)\n",
            "(+1 +2 +3 -4 -5)\n",
            "(+1 +2 +3 +4 -5)\n",
            "(+1 +2 +3 +4 +5)\n"
          ]
        }
      ]
    },
    {
      "cell_type": "code",
      "source": [
        "# dataset\n",
        "def read_data(file_name):\n",
        "    with open(file_name, 'r+') as file:\n",
        "        line = file.readline().strip()\n",
        "\n",
        "    line = line[1:len(line)-1].split()\n",
        "    data = []\n",
        "    for item in line:\n",
        "        data.append(item)\n",
        "\n",
        "    return data\n",
        "\n",
        "\n",
        "data = read_data('/content/rosalind_ba6a (3).txt')"
      ],
      "metadata": {
        "id": "SlNYX1kfMhlO"
      },
      "execution_count": null,
      "outputs": []
    },
    {
      "cell_type": "code",
      "source": [
        "input_data = [int(el) for el in data]"
      ],
      "metadata": {
        "id": "tzQWVKKve-md"
      },
      "execution_count": null,
      "outputs": []
    },
    {
      "cell_type": "code",
      "source": [
        "reversal_list = GreedySorting(input_data)"
      ],
      "metadata": {
        "id": "accP1nsifm6k"
      },
      "execution_count": null,
      "outputs": []
    },
    {
      "cell_type": "code",
      "source": [
        "result = ['('+' '.join([['', '+'][value > 0] + str(value) for value in perm])+')' for perm in reversal_list]"
      ],
      "metadata": {
        "id": "d2zsyQgHfqfb"
      },
      "execution_count": null,
      "outputs": []
    },
    {
      "cell_type": "code",
      "source": [
        "print('\\n'.join(result))"
      ],
      "metadata": {
        "id": "dtsVW7wTfsWn"
      },
      "execution_count": null,
      "outputs": []
    }
  ]
}