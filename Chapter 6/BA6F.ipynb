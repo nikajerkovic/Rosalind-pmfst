{
  "nbformat": 4,
  "nbformat_minor": 0,
  "metadata": {
    "colab": {
      "name": "BA6F.ipynb",
      "provenance": [],
      "collapsed_sections": []
    },
    "kernelspec": {
      "name": "python3",
      "display_name": "Python 3"
    },
    "language_info": {
      "name": "python"
    }
  },
  "cells": [
    {
      "cell_type": "markdown",
      "source": [
        "## BA6F"
      ],
      "metadata": {
        "id": "HgkgEi5giSgV"
      }
    },
    {
      "cell_type": "markdown",
      "source": [
        "**Chromosome To Cycle Problem**\n",
        "\n",
        "Solve the Chromosome To Cycle Problem.\n",
        "\n",
        "Given: A chromosome Chromosome containing n synteny blocks.\n",
        "\n",
        "Return: The sequence Nodes of integers between 1 and 2n resulting from applying ChromosomeToCycle to Chromosome."
      ],
      "metadata": {
        "id": "UY5Kal50Y5ZW"
      }
    },
    {
      "cell_type": "markdown",
      "source": [
        "Link: https://rosalind.info/problems/ba6f/"
      ],
      "metadata": {
        "id": "2POqRDjVtEQr"
      }
    },
    {
      "cell_type": "code",
      "source": [
        "def ChromosomeToCycle(chromosome):\n",
        "\n",
        "  # ako stavimo samo [], bude out of range \n",
        "  nodes = [0]*(2*len(chromosome))\n",
        "\n",
        "  for j in range(len(chromosome)):\n",
        "    i = chromosome[j]\n",
        "    if i > 0:\n",
        "      nodes[2*j] = 2*i -1\n",
        "      nodes[2*j+1] = 2*i\n",
        "    else:\n",
        "      nodes[2*j] = -2*i\n",
        "      nodes[2*j+1] = -2*i -1\n",
        "\n",
        "  return nodes"
      ],
      "metadata": {
        "id": "QgnFG4_vY9qk"
      },
      "execution_count": null,
      "outputs": []
    },
    {
      "cell_type": "code",
      "source": [
        "# sample dataset\n",
        "nodes = ChromosomeToCycle([+1, -2, -3, +4])"
      ],
      "metadata": {
        "id": "z1YvGYV8adTe"
      },
      "execution_count": null,
      "outputs": []
    },
    {
      "cell_type": "code",
      "source": [
        "output = \"(\" + ' '.join(str(node) for node in nodes) + \")\""
      ],
      "metadata": {
        "id": "cwpzaRmgb7J2"
      },
      "execution_count": null,
      "outputs": []
    },
    {
      "cell_type": "code",
      "source": [
        "output"
      ],
      "metadata": {
        "colab": {
          "base_uri": "https://localhost:8080/",
          "height": 36
        },
        "id": "3Y8te91CcQcY",
        "outputId": "e5f28177-361d-42f9-e465-a0ba96569493"
      },
      "execution_count": null,
      "outputs": [
        {
          "output_type": "execute_result",
          "data": {
            "text/plain": [
              "'(1 2 4 3 6 5 7 8)'"
            ],
            "application/vnd.google.colaboratory.intrinsic+json": {
              "type": "string"
            }
          },
          "metadata": {},
          "execution_count": 18
        }
      ]
    },
    {
      "cell_type": "code",
      "source": [
        "# dataset\n",
        "with open('/content/rosalind_ba6f.txt') as file:\n",
        "  chromosome = file.readline().strip()\n",
        "  chromosome_list = chromosome[1:-1].split()"
      ],
      "metadata": {
        "id": "mW4JKSLmcfsP"
      },
      "execution_count": null,
      "outputs": []
    },
    {
      "cell_type": "code",
      "source": [
        "chromosome_list = [int(element) for element in chromosome_list] "
      ],
      "metadata": {
        "id": "PlQdnFGzeQcp"
      },
      "execution_count": null,
      "outputs": []
    },
    {
      "cell_type": "code",
      "source": [
        "chromosome_list"
      ],
      "metadata": {
        "id": "HTpbt4-6ejuf"
      },
      "execution_count": null,
      "outputs": []
    },
    {
      "cell_type": "code",
      "source": [
        "nodes = ChromosomeToCycle(chromosome_list)"
      ],
      "metadata": {
        "id": "q6y9e77-cskQ"
      },
      "execution_count": null,
      "outputs": []
    },
    {
      "cell_type": "code",
      "source": [
        "output = \"(\" + ' '.join(str(node) for node in nodes) + \")\""
      ],
      "metadata": {
        "id": "R9y_Z_hechsi"
      },
      "execution_count": null,
      "outputs": []
    },
    {
      "cell_type": "code",
      "source": [
        "output"
      ],
      "metadata": {
        "colab": {
          "base_uri": "https://localhost:8080/",
          "height": 70
        },
        "outputId": "9e16a1cc-869f-4199-ae20-8b5cf3a4d530",
        "id": "az-8Bzw5ckQ3"
      },
      "execution_count": null,
      "outputs": [
        {
          "output_type": "execute_result",
          "data": {
            "text/plain": [
              "'(2 1 4 3 6 5 7 8 10 9 11 12 14 13 15 16 18 17 19 20 22 21 24 23 25 26 28 27 30 29 31 32 33 34 36 35 37 38 39 40 41 42 44 43 46 45 47 48 50 49 51 52 53 54 55 56 57 58 60 59 62 61 63 64 66 65 68 67 70 69 72 71 74 73 75 76 78 77 79 80 81 82 84 83 85 86 88 87 89 90 92 91 93 94 95 96 97 98 100 99 101 102 103 104 105 106 107 108 110 109 111 112 114 113 115 116 118 117 119 120 121 122 124 123 126 125 127 128 130 129)'"
            ],
            "application/vnd.google.colaboratory.intrinsic+json": {
              "type": "string"
            }
          },
          "metadata": {},
          "execution_count": 43
        }
      ]
    }
  ]
}