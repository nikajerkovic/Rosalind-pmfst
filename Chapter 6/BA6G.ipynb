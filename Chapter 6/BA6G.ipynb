{
  "nbformat": 4,
  "nbformat_minor": 0,
  "metadata": {
    "colab": {
      "name": "BA6G.ipynb",
      "provenance": [],
      "collapsed_sections": []
    },
    "kernelspec": {
      "name": "python3",
      "display_name": "Python 3"
    },
    "language_info": {
      "name": "python"
    }
  },
  "cells": [
    {
      "cell_type": "markdown",
      "source": [
        "## BA6G"
      ],
      "metadata": {
        "id": "HgkgEi5giSgV"
      }
    },
    {
      "cell_type": "markdown",
      "source": [
        "**Cycle To Chromosome Problem**\n",
        "\n",
        "Solve the Cycle to Chromosome Problem.\n",
        "\n",
        "Given: A sequence Nodes of integers between 1 and 2n.\n",
        "\n",
        "Return: The chromosome Chromosome containing n synteny blocks resulting from applying CycleToChromosome to Nodes."
      ],
      "metadata": {
        "id": "BbPaqhLGgBf4"
      }
    },
    {
      "cell_type": "markdown",
      "source": [
        "Link: https://rosalind.info/problems/ba6g/"
      ],
      "metadata": {
        "id": "QnwOkV8DgGwJ"
      }
    },
    {
      "cell_type": "code",
      "source": [
        "def CycleToChromosome(nodes):\n",
        "\n",
        "  chromosome = [0]*(int(len(nodes)/2))\n",
        "\n",
        "  for j in range(int(len(nodes)/2)):\n",
        "    if nodes[2*j] < nodes[2*j+1]:\n",
        "      chromosome[j] = int(nodes[2*j+1]/2)\n",
        "    else:\n",
        "      chromosome[j] = int(-nodes[2*j]/2)\n",
        "\n",
        "  return chromosome"
      ],
      "metadata": {
        "id": "3f5BCycUgJU_"
      },
      "execution_count": null,
      "outputs": []
    },
    {
      "cell_type": "code",
      "source": [
        "def plus_prefix(chrom_list):\n",
        "\n",
        "  result = []\n",
        "  \n",
        "  for a in chrom_list:\n",
        "    if a > 0:\n",
        "      b = '+' + str(a)\n",
        "    else:\n",
        "      b = str(a)\n",
        "    result.append(b)\n",
        "\n",
        "  return result"
      ],
      "metadata": {
        "id": "LSDMbiSAium1"
      },
      "execution_count": null,
      "outputs": []
    },
    {
      "cell_type": "code",
      "source": [
        "# sample dataset\n",
        "chromosome_list = CycleToChromosome([1, 2, 4, 3, 6, 5, 7, 8])"
      ],
      "metadata": {
        "id": "MBA83zTPhCH2"
      },
      "execution_count": null,
      "outputs": []
    },
    {
      "cell_type": "code",
      "source": [
        "chromosome_list = plus_prefix(chromosome_list)"
      ],
      "metadata": {
        "id": "Vj7163_2jctA"
      },
      "execution_count": null,
      "outputs": []
    },
    {
      "cell_type": "code",
      "source": [
        "output = \"(\" + ' '.join(chrom for chrom in chromosome_list) + \")\""
      ],
      "metadata": {
        "id": "lpujuD1mkB2H"
      },
      "execution_count": null,
      "outputs": []
    },
    {
      "cell_type": "code",
      "source": [
        "output"
      ],
      "metadata": {
        "colab": {
          "base_uri": "https://localhost:8080/",
          "height": 36
        },
        "id": "KfEgc7YzkJpX",
        "outputId": "818f1a95-cb71-4204-be35-c58199f9212b"
      },
      "execution_count": null,
      "outputs": [
        {
          "output_type": "execute_result",
          "data": {
            "text/plain": [
              "'(+1 -2 -3 +4)'"
            ],
            "application/vnd.google.colaboratory.intrinsic+json": {
              "type": "string"
            }
          },
          "metadata": {},
          "execution_count": 80
        }
      ]
    },
    {
      "cell_type": "code",
      "source": [
        "# dataset \n",
        "with open('/content/rosalind_ba6g.txt') as file:\n",
        "  nodes = file.readline().strip()\n",
        "  nodes_list = nodes[1:-1].split()\n",
        "\n",
        "nodes_list = [int(element) for element in nodes_list] "
      ],
      "metadata": {
        "id": "D9UQ6p2YkQzf"
      },
      "execution_count": null,
      "outputs": []
    },
    {
      "cell_type": "code",
      "source": [
        "chromosome_list = CycleToChromosome(nodes_list)"
      ],
      "metadata": {
        "id": "Mv6j3o5flBdj"
      },
      "execution_count": null,
      "outputs": []
    },
    {
      "cell_type": "code",
      "source": [
        "chromosome_list = plus_prefix(chromosome_list)"
      ],
      "metadata": {
        "id": "3jSzfC4WlGYV"
      },
      "execution_count": null,
      "outputs": []
    },
    {
      "cell_type": "code",
      "source": [
        "output = \"(\" + ' '.join(chrom for chrom in chromosome_list) + \")\""
      ],
      "metadata": {
        "id": "kF3ofC50lLaq"
      },
      "execution_count": null,
      "outputs": []
    },
    {
      "cell_type": "code",
      "source": [
        "output"
      ],
      "metadata": {
        "colab": {
          "base_uri": "https://localhost:8080/",
          "height": 53
        },
        "id": "nxn78xhMlMMB",
        "outputId": "0321604c-3255-45f0-bb9f-2640a928ea2b"
      },
      "execution_count": null,
      "outputs": [
        {
          "output_type": "execute_result",
          "data": {
            "text/plain": [
              "'(-1 +2 -3 +4 -5 -6 +7 +8 -9 +10 +11 -12 +13 +14 -15 +16 +17 -18 -19 -20 +21 +22 +23 -24 -25 -26 -27 +28 +29 +30 -31 +32 -33 +34 -35 +36 +37 -38 -39 +40 -41 -42 +43 +44 -45 -46 +47 +48 +49 +50 +51 +52 -53 -54 -55 -56 +57 -58 -59 -60 +61 +62 +63 +64 +65 -66 -67 +68 -69)'"
            ],
            "application/vnd.google.colaboratory.intrinsic+json": {
              "type": "string"
            }
          },
          "metadata": {},
          "execution_count": 95
        }
      ]
    }
  ]
}