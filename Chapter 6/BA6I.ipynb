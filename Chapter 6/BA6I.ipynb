{
  "nbformat": 4,
  "nbformat_minor": 0,
  "metadata": {
    "colab": {
      "name": "BA6I.ipynb",
      "provenance": [],
      "collapsed_sections": []
    },
    "kernelspec": {
      "name": "python3",
      "display_name": "Python 3"
    },
    "language_info": {
      "name": "python"
    }
  },
  "cells": [
    {
      "cell_type": "markdown",
      "source": [
        "## BA6I"
      ],
      "metadata": {
        "id": "HgkgEi5giSgV"
      }
    },
    {
      "cell_type": "markdown",
      "source": [
        "**Graph To Genome Problem**\n",
        "\n",
        "Solve the Graph To Genome Problem.\n",
        "\n",
        "Given: The colored edges of a genome graph.\n",
        "\n",
        "Return: A genome corresponding to the genome graph."
      ],
      "metadata": {
        "id": "NmvJHLR45Wuy"
      }
    },
    {
      "cell_type": "markdown",
      "source": [
        "Link: https://rosalind.info/problems/ba6i/"
      ],
      "metadata": {
        "id": "DvzPsKS15bcC"
      }
    },
    {
      "cell_type": "code",
      "source": [
        "def GraphToGenome(genome_graph):\n",
        "\n",
        "  P = []\n",
        "  cycles = []\n",
        "  current = []\n",
        "\n",
        "  for i in range(len(genome_graph)):\n",
        "\n",
        "    # pokriva kraj - kada dođemo do kraja genoma\n",
        "    if i == len(genome_graph)-1:\n",
        "      current += genome_graph[i]\n",
        "      cycles.append(current)\n",
        "\n",
        "    # pokriva slucajeve ako se radilo o + i - \n",
        "    elif genome_graph[i][1] == genome_graph[i+1][0] + 1 or genome_graph[i][1] == genome_graph[i+1][0] -1:\n",
        "      current += genome_graph[i]\n",
        "\n",
        "    # pokriva kraj jednog ciklusa i zato praznimo current\n",
        "    else:\n",
        "      current += genome_graph[i]\n",
        "      cycles.append(current)\n",
        "      current = []\n",
        "\n",
        "\n",
        "  for cycle in cycles:\n",
        "    # zbog toga sto da bi bia cycle je prvi element na kraju, pa ga dodamo na pocetak i iskljucimo s kraja\n",
        "    chromosome = CycleToChromosome([cycle[-1]] + cycle[:-1])\n",
        "    P.append(chromosome)\n",
        "\n",
        "  \n",
        "  return P"
      ],
      "metadata": {
        "id": "Qs76tANV5eEq"
      },
      "execution_count": null,
      "outputs": []
    },
    {
      "cell_type": "code",
      "source": [
        "# sample dataset\n",
        "result = GraphToGenome([(2, 4), (3, 6), (5, 1), (7, 9), (10, 12), (11, 8)])"
      ],
      "metadata": {
        "id": "aVPqx0Uf6Fqp"
      },
      "execution_count": null,
      "outputs": []
    },
    {
      "cell_type": "code",
      "source": [
        "for i in range(len(result)):\n",
        "  result[i] = '(' + ' '.join(('+' if j > 0 else '') + str(j) for j in result[i]) + ')'"
      ],
      "metadata": {
        "id": "bmiOUuVF7IjI"
      },
      "execution_count": null,
      "outputs": []
    },
    {
      "cell_type": "code",
      "source": [
        "print(*result)"
      ],
      "metadata": {
        "colab": {
          "base_uri": "https://localhost:8080/"
        },
        "id": "r6n3tVDh8BM-",
        "outputId": "67644892-8324-4993-baf2-ae290b0c338e"
      },
      "execution_count": null,
      "outputs": [
        {
          "output_type": "stream",
          "name": "stdout",
          "text": [
            "(+1 -2 -3) (-4 +5 -6)\n"
          ]
        }
      ]
    },
    {
      "cell_type": "code",
      "source": [
        "# dataset\n",
        "result = GraphToGenome([(1, 3), (4, 6), (5, 7), (8, 10), (9, 12), (11, 14), (13, 15), (16, 17), (18, 19), (20, 22), (21, 24), (23, 25), (26, 28), (27, 30), (29, 32), (31, 33), (34, 35), (36, 37), (38, 40), (39, 42), (41, 44), (43, 46), (45, 47), (48, 50), (49, 51), (52, 53), (54, 55), (56, 2), (58, 60), (59, 62), (61, 64), (63, 65), (66, 67), (68, 70), (69, 72), (71, 74), (73, 76), (75, 77), (78, 79), (80, 81), (82, 84), (83, 85), (86, 88), (87, 89), (90, 91), (92, 93), (94, 95), (96, 57), (98, 100), (99, 102), (101, 104), (103, 106), (105, 107), (108, 110), (109, 112), (111, 114), (113, 116), (115, 118), (117, 119), (120, 122), (121, 123), (124, 126), (125, 127), (128, 130), (129, 132), (131, 134), (133, 135), (136, 138), (137, 140), (139, 142), (141, 143), (144, 97), (146, 147), (148, 149), (150, 152), (151, 154), (153, 155), (156, 158), (157, 159), (160, 162), (161, 163), (164, 165), (166, 167), (168, 169), (170, 171), (172, 173), (174, 176), (175, 177), (178, 180), (179, 182), (181, 184), (183, 185), (186, 188), (187, 189), (190, 191), (192, 193), (194, 195), (196, 198), (197, 145), (199, 201), (202, 203), (204, 206), (205, 207), (208, 209), (210, 211), (212, 213), (214, 215), (216, 218), (217, 219), (220, 222), (221, 223), (224, 226), (225, 227), (228, 229), (230, 232), (231, 233), (234, 235), (236, 238), (237, 239), (240, 241), (242, 244), (243, 246), (245, 247), (248, 249), (250, 252), (251, 254), (253, 255), (256, 258), (257, 200), (260, 262), (261, 264), (263, 265), (266, 267), (268, 269), (270, 272), (271, 273), (274, 275), (276, 277), (278, 280), (279, 282), (281, 284), (283, 286), (285, 288), (287, 289), (290, 291), (292, 294), (293, 296), (295, 298), (297, 300), (299, 301), (302, 304), (303, 306), (305, 308), (307, 310), (309, 312), (311, 259), (314, 315), (316, 318), (317, 320), (319, 322), (321, 323), (324, 325), (326, 327), (328, 330), (329, 332), (331, 334), (333, 336), (335, 337), (338, 339), (340, 342), (341, 343), (344, 345), (346, 348), (347, 350), (349, 351), (352, 353), (354, 356), (355, 357), (358, 359), (360, 362), (361, 363), (364, 313), (366, 368), (367, 370), (369, 371), (372, 373), (374, 375), (376, 378), (377, 379), (380, 381), (382, 383), (384, 386), (385, 388), (387, 390), (389, 391), (392, 393), (394, 396), (395, 398), (397, 400), (399, 402), (401, 404), (403, 406), (405, 408), (407, 410), (409, 412), (411, 413), (414, 365)])"
      ],
      "metadata": {
        "id": "oJGKQbMd8Nfr"
      },
      "execution_count": null,
      "outputs": []
    },
    {
      "cell_type": "code",
      "source": [
        "for i in range(len(result)):\n",
        "  result[i] = '(' + ' '.join(('+' if j > 0 else '') + str(j) for j in result[i]) + ')'"
      ],
      "metadata": {
        "id": "e5UXRexK8SFU"
      },
      "execution_count": null,
      "outputs": []
    },
    {
      "cell_type": "code",
      "source": [
        "print(*result)"
      ],
      "metadata": {
        "colab": {
          "base_uri": "https://localhost:8080/"
        },
        "outputId": "c06a3fd9-3ce3-44ce-ead7-92f809734309",
        "id": "JUCvR5108Tgv"
      },
      "execution_count": null,
      "outputs": [
        {
          "output_type": "stream",
          "name": "stdout",
          "text": [
            "(-1 +2 -3 +4 -5 -6 -7 +8 +9 +10 -11 -12 +13 -14 -15 -16 +17 +18 +19 -20 -21 -22 -23 +24 -25 +26 +27 +28) (+29 -30 -31 -32 +33 +34 -35 -36 -37 -38 +39 +40 +41 -42 +43 -44 +45 +46 +47 +48) (+49 -50 -51 -52 -53 +54 -55 -56 -57 -58 -59 +60 -61 +62 -63 +64 -65 -66 -67 +68 -69 -70 -71 +72) (+73 +74 +75 -76 -77 +78 -79 +80 -81 +82 +83 +84 +85 +86 +87 -88 +89 -90 -91 -92 +93 -94 +95 +96 +97 +98 -99) (-100 +101 +102 -103 +104 +105 +106 +107 +108 -109 +110 -111 +112 -113 +114 +115 -116 +117 +118 -119 +120 +121 -122 -123 +124 +125 -126 -127 +128 -129) (+130 -131 -132 +133 +134 +135 -136 +137 +138 +139 -140 -141 -142 -143 -144 +145 +146 -147 -148 -149 -150 +151 -152 -153 -154 -155 -156) (+157 +158 -159 -160 -161 +162 +163 +164 -165 -166 -167 -168 +169 +170 -171 +172 +173 -174 -175 +176 +177 -178 +179 +180 -181 +182) (+183 -184 -185 +186 +187 +188 -189 +190 +191 +192 -193 -194 -195 +196 +197 -198 -199 -200 -201 -202 -203 -204 -205 -206 +207)\n"
          ]
        }
      ]
    }
  ]
}